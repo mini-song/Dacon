{
 "cells": [
  {
   "cell_type": "code",
   "execution_count": 1,
   "metadata": {
    "ExecuteTime": {
     "end_time": "2020-12-19T15:10:39.383492Z",
     "start_time": "2020-12-19T15:10:38.360504Z"
    }
   },
   "outputs": [],
   "source": [
    "import pandas as pd\n",
    "train = pd.read_csv('train.csv',index_col='index')\n",
    "test = pd.read_csv('test_x.csv',index_col='index')\n",
    "submission = pd.read_csv('sample_submission.csv')"
   ]
  },
  {
   "cell_type": "markdown",
   "metadata": {},
   "source": [
    "## EDA"
   ]
  },
  {
   "cell_type": "code",
   "execution_count": 2,
   "metadata": {
    "ExecuteTime": {
     "end_time": "2020-12-19T15:10:39.416341Z",
     "start_time": "2020-12-19T15:10:39.385393Z"
    }
   },
   "outputs": [
    {
     "data": {
      "text/html": [
       "<div>\n",
       "<style scoped>\n",
       "    .dataframe tbody tr th:only-of-type {\n",
       "        vertical-align: middle;\n",
       "    }\n",
       "\n",
       "    .dataframe tbody tr th {\n",
       "        vertical-align: top;\n",
       "    }\n",
       "\n",
       "    .dataframe thead th {\n",
       "        text-align: right;\n",
       "    }\n",
       "</style>\n",
       "<table border=\"1\" class=\"dataframe\">\n",
       "  <thead>\n",
       "    <tr style=\"text-align: right;\">\n",
       "      <th></th>\n",
       "      <th>QaA</th>\n",
       "      <th>QaE</th>\n",
       "      <th>QbA</th>\n",
       "      <th>QbE</th>\n",
       "      <th>QcA</th>\n",
       "      <th>QcE</th>\n",
       "      <th>QdA</th>\n",
       "      <th>QdE</th>\n",
       "      <th>QeA</th>\n",
       "      <th>QeE</th>\n",
       "      <th>...</th>\n",
       "      <th>wr_04</th>\n",
       "      <th>wr_05</th>\n",
       "      <th>wr_06</th>\n",
       "      <th>wr_07</th>\n",
       "      <th>wr_08</th>\n",
       "      <th>wr_09</th>\n",
       "      <th>wr_10</th>\n",
       "      <th>wr_11</th>\n",
       "      <th>wr_12</th>\n",
       "      <th>wr_13</th>\n",
       "    </tr>\n",
       "    <tr>\n",
       "      <th>index</th>\n",
       "      <th></th>\n",
       "      <th></th>\n",
       "      <th></th>\n",
       "      <th></th>\n",
       "      <th></th>\n",
       "      <th></th>\n",
       "      <th></th>\n",
       "      <th></th>\n",
       "      <th></th>\n",
       "      <th></th>\n",
       "      <th></th>\n",
       "      <th></th>\n",
       "      <th></th>\n",
       "      <th></th>\n",
       "      <th></th>\n",
       "      <th></th>\n",
       "      <th></th>\n",
       "      <th></th>\n",
       "      <th></th>\n",
       "      <th></th>\n",
       "      <th></th>\n",
       "    </tr>\n",
       "  </thead>\n",
       "  <tbody>\n",
       "    <tr>\n",
       "      <th>0</th>\n",
       "      <td>3.0</td>\n",
       "      <td>363</td>\n",
       "      <td>4.0</td>\n",
       "      <td>1370</td>\n",
       "      <td>5.0</td>\n",
       "      <td>997</td>\n",
       "      <td>1.0</td>\n",
       "      <td>1024</td>\n",
       "      <td>2.0</td>\n",
       "      <td>1577</td>\n",
       "      <td>...</td>\n",
       "      <td>0</td>\n",
       "      <td>1</td>\n",
       "      <td>0</td>\n",
       "      <td>1</td>\n",
       "      <td>1</td>\n",
       "      <td>0</td>\n",
       "      <td>1</td>\n",
       "      <td>0</td>\n",
       "      <td>1</td>\n",
       "      <td>1</td>\n",
       "    </tr>\n",
       "    <tr>\n",
       "      <th>1</th>\n",
       "      <td>5.0</td>\n",
       "      <td>647</td>\n",
       "      <td>5.0</td>\n",
       "      <td>1313</td>\n",
       "      <td>3.0</td>\n",
       "      <td>3387</td>\n",
       "      <td>5.0</td>\n",
       "      <td>2969</td>\n",
       "      <td>1.0</td>\n",
       "      <td>4320</td>\n",
       "      <td>...</td>\n",
       "      <td>1</td>\n",
       "      <td>1</td>\n",
       "      <td>0</td>\n",
       "      <td>1</td>\n",
       "      <td>1</td>\n",
       "      <td>0</td>\n",
       "      <td>1</td>\n",
       "      <td>0</td>\n",
       "      <td>1</td>\n",
       "      <td>1</td>\n",
       "    </tr>\n",
       "    <tr>\n",
       "      <th>2</th>\n",
       "      <td>4.0</td>\n",
       "      <td>1623</td>\n",
       "      <td>1.0</td>\n",
       "      <td>1480</td>\n",
       "      <td>1.0</td>\n",
       "      <td>1021</td>\n",
       "      <td>4.0</td>\n",
       "      <td>3374</td>\n",
       "      <td>5.0</td>\n",
       "      <td>1333</td>\n",
       "      <td>...</td>\n",
       "      <td>1</td>\n",
       "      <td>1</td>\n",
       "      <td>0</td>\n",
       "      <td>1</td>\n",
       "      <td>1</td>\n",
       "      <td>1</td>\n",
       "      <td>1</td>\n",
       "      <td>0</td>\n",
       "      <td>1</td>\n",
       "      <td>1</td>\n",
       "    </tr>\n",
       "    <tr>\n",
       "      <th>3</th>\n",
       "      <td>3.0</td>\n",
       "      <td>504</td>\n",
       "      <td>3.0</td>\n",
       "      <td>2311</td>\n",
       "      <td>4.0</td>\n",
       "      <td>992</td>\n",
       "      <td>3.0</td>\n",
       "      <td>3245</td>\n",
       "      <td>1.0</td>\n",
       "      <td>357</td>\n",
       "      <td>...</td>\n",
       "      <td>0</td>\n",
       "      <td>0</td>\n",
       "      <td>0</td>\n",
       "      <td>0</td>\n",
       "      <td>1</td>\n",
       "      <td>0</td>\n",
       "      <td>1</td>\n",
       "      <td>0</td>\n",
       "      <td>1</td>\n",
       "      <td>1</td>\n",
       "    </tr>\n",
       "    <tr>\n",
       "      <th>4</th>\n",
       "      <td>1.0</td>\n",
       "      <td>927</td>\n",
       "      <td>1.0</td>\n",
       "      <td>707</td>\n",
       "      <td>5.0</td>\n",
       "      <td>556</td>\n",
       "      <td>2.0</td>\n",
       "      <td>1062</td>\n",
       "      <td>1.0</td>\n",
       "      <td>1014</td>\n",
       "      <td>...</td>\n",
       "      <td>1</td>\n",
       "      <td>1</td>\n",
       "      <td>1</td>\n",
       "      <td>1</td>\n",
       "      <td>1</td>\n",
       "      <td>0</td>\n",
       "      <td>1</td>\n",
       "      <td>1</td>\n",
       "      <td>1</td>\n",
       "      <td>1</td>\n",
       "    </tr>\n",
       "  </tbody>\n",
       "</table>\n",
       "<p>5 rows × 77 columns</p>\n",
       "</div>"
      ],
      "text/plain": [
       "       QaA   QaE  QbA   QbE  QcA   QcE  QdA   QdE  QeA   QeE  ...  wr_04  \\\n",
       "index                                                         ...          \n",
       "0      3.0   363  4.0  1370  5.0   997  1.0  1024  2.0  1577  ...      0   \n",
       "1      5.0   647  5.0  1313  3.0  3387  5.0  2969  1.0  4320  ...      1   \n",
       "2      4.0  1623  1.0  1480  1.0  1021  4.0  3374  5.0  1333  ...      1   \n",
       "3      3.0   504  3.0  2311  4.0   992  3.0  3245  1.0   357  ...      0   \n",
       "4      1.0   927  1.0   707  5.0   556  2.0  1062  1.0  1014  ...      1   \n",
       "\n",
       "       wr_05  wr_06  wr_07  wr_08  wr_09  wr_10  wr_11  wr_12  wr_13  \n",
       "index                                                                 \n",
       "0          1      0      1      1      0      1      0      1      1  \n",
       "1          1      0      1      1      0      1      0      1      1  \n",
       "2          1      0      1      1      1      1      0      1      1  \n",
       "3          0      0      0      1      0      1      0      1      1  \n",
       "4          1      1      1      1      0      1      1      1      1  \n",
       "\n",
       "[5 rows x 77 columns]"
      ]
     },
     "execution_count": 2,
     "metadata": {},
     "output_type": "execute_result"
    }
   ],
   "source": [
    "train.head()"
   ]
  },
  {
   "cell_type": "code",
   "execution_count": 3,
   "metadata": {
    "ExecuteTime": {
     "end_time": "2020-12-19T15:10:39.440249Z",
     "start_time": "2020-12-19T15:10:39.418306Z"
    }
   },
   "outputs": [
    {
     "data": {
      "text/html": [
       "<div>\n",
       "<style scoped>\n",
       "    .dataframe tbody tr th:only-of-type {\n",
       "        vertical-align: middle;\n",
       "    }\n",
       "\n",
       "    .dataframe tbody tr th {\n",
       "        vertical-align: top;\n",
       "    }\n",
       "\n",
       "    .dataframe thead th {\n",
       "        text-align: right;\n",
       "    }\n",
       "</style>\n",
       "<table border=\"1\" class=\"dataframe\">\n",
       "  <thead>\n",
       "    <tr style=\"text-align: right;\">\n",
       "      <th></th>\n",
       "      <th>QaA</th>\n",
       "      <th>QaE</th>\n",
       "      <th>QbA</th>\n",
       "      <th>QbE</th>\n",
       "      <th>QcA</th>\n",
       "      <th>QcE</th>\n",
       "      <th>QdA</th>\n",
       "      <th>QdE</th>\n",
       "      <th>QeA</th>\n",
       "      <th>QeE</th>\n",
       "      <th>...</th>\n",
       "      <th>wr_04</th>\n",
       "      <th>wr_05</th>\n",
       "      <th>wr_06</th>\n",
       "      <th>wr_07</th>\n",
       "      <th>wr_08</th>\n",
       "      <th>wr_09</th>\n",
       "      <th>wr_10</th>\n",
       "      <th>wr_11</th>\n",
       "      <th>wr_12</th>\n",
       "      <th>wr_13</th>\n",
       "    </tr>\n",
       "    <tr>\n",
       "      <th>index</th>\n",
       "      <th></th>\n",
       "      <th></th>\n",
       "      <th></th>\n",
       "      <th></th>\n",
       "      <th></th>\n",
       "      <th></th>\n",
       "      <th></th>\n",
       "      <th></th>\n",
       "      <th></th>\n",
       "      <th></th>\n",
       "      <th></th>\n",
       "      <th></th>\n",
       "      <th></th>\n",
       "      <th></th>\n",
       "      <th></th>\n",
       "      <th></th>\n",
       "      <th></th>\n",
       "      <th></th>\n",
       "      <th></th>\n",
       "      <th></th>\n",
       "      <th></th>\n",
       "    </tr>\n",
       "  </thead>\n",
       "  <tbody>\n",
       "    <tr>\n",
       "      <th>0</th>\n",
       "      <td>3.0</td>\n",
       "      <td>736</td>\n",
       "      <td>2.0</td>\n",
       "      <td>2941</td>\n",
       "      <td>3.0</td>\n",
       "      <td>4621</td>\n",
       "      <td>1.0</td>\n",
       "      <td>4857</td>\n",
       "      <td>2.0</td>\n",
       "      <td>2550</td>\n",
       "      <td>...</td>\n",
       "      <td>0</td>\n",
       "      <td>1</td>\n",
       "      <td>0</td>\n",
       "      <td>0</td>\n",
       "      <td>1</td>\n",
       "      <td>0</td>\n",
       "      <td>1</td>\n",
       "      <td>0</td>\n",
       "      <td>1</td>\n",
       "      <td>1</td>\n",
       "    </tr>\n",
       "    <tr>\n",
       "      <th>1</th>\n",
       "      <td>3.0</td>\n",
       "      <td>514</td>\n",
       "      <td>2.0</td>\n",
       "      <td>1952</td>\n",
       "      <td>3.0</td>\n",
       "      <td>1552</td>\n",
       "      <td>3.0</td>\n",
       "      <td>821</td>\n",
       "      <td>4.0</td>\n",
       "      <td>1150</td>\n",
       "      <td>...</td>\n",
       "      <td>0</td>\n",
       "      <td>0</td>\n",
       "      <td>0</td>\n",
       "      <td>0</td>\n",
       "      <td>0</td>\n",
       "      <td>0</td>\n",
       "      <td>0</td>\n",
       "      <td>0</td>\n",
       "      <td>0</td>\n",
       "      <td>0</td>\n",
       "    </tr>\n",
       "    <tr>\n",
       "      <th>2</th>\n",
       "      <td>3.0</td>\n",
       "      <td>500</td>\n",
       "      <td>2.0</td>\n",
       "      <td>2507</td>\n",
       "      <td>4.0</td>\n",
       "      <td>480</td>\n",
       "      <td>2.0</td>\n",
       "      <td>614</td>\n",
       "      <td>2.0</td>\n",
       "      <td>1326</td>\n",
       "      <td>...</td>\n",
       "      <td>0</td>\n",
       "      <td>1</td>\n",
       "      <td>0</td>\n",
       "      <td>1</td>\n",
       "      <td>1</td>\n",
       "      <td>0</td>\n",
       "      <td>1</td>\n",
       "      <td>0</td>\n",
       "      <td>1</td>\n",
       "      <td>1</td>\n",
       "    </tr>\n",
       "    <tr>\n",
       "      <th>3</th>\n",
       "      <td>1.0</td>\n",
       "      <td>669</td>\n",
       "      <td>1.0</td>\n",
       "      <td>1050</td>\n",
       "      <td>5.0</td>\n",
       "      <td>1435</td>\n",
       "      <td>2.0</td>\n",
       "      <td>2252</td>\n",
       "      <td>5.0</td>\n",
       "      <td>2533</td>\n",
       "      <td>...</td>\n",
       "      <td>1</td>\n",
       "      <td>1</td>\n",
       "      <td>1</td>\n",
       "      <td>1</td>\n",
       "      <td>1</td>\n",
       "      <td>1</td>\n",
       "      <td>1</td>\n",
       "      <td>1</td>\n",
       "      <td>1</td>\n",
       "      <td>1</td>\n",
       "    </tr>\n",
       "    <tr>\n",
       "      <th>4</th>\n",
       "      <td>2.0</td>\n",
       "      <td>499</td>\n",
       "      <td>1.0</td>\n",
       "      <td>1243</td>\n",
       "      <td>5.0</td>\n",
       "      <td>845</td>\n",
       "      <td>2.0</td>\n",
       "      <td>1666</td>\n",
       "      <td>2.0</td>\n",
       "      <td>925</td>\n",
       "      <td>...</td>\n",
       "      <td>1</td>\n",
       "      <td>1</td>\n",
       "      <td>0</td>\n",
       "      <td>1</td>\n",
       "      <td>1</td>\n",
       "      <td>0</td>\n",
       "      <td>1</td>\n",
       "      <td>1</td>\n",
       "      <td>1</td>\n",
       "      <td>1</td>\n",
       "    </tr>\n",
       "  </tbody>\n",
       "</table>\n",
       "<p>5 rows × 76 columns</p>\n",
       "</div>"
      ],
      "text/plain": [
       "       QaA  QaE  QbA   QbE  QcA   QcE  QdA   QdE  QeA   QeE  ...  wr_04  \\\n",
       "index                                                        ...          \n",
       "0      3.0  736  2.0  2941  3.0  4621  1.0  4857  2.0  2550  ...      0   \n",
       "1      3.0  514  2.0  1952  3.0  1552  3.0   821  4.0  1150  ...      0   \n",
       "2      3.0  500  2.0  2507  4.0   480  2.0   614  2.0  1326  ...      0   \n",
       "3      1.0  669  1.0  1050  5.0  1435  2.0  2252  5.0  2533  ...      1   \n",
       "4      2.0  499  1.0  1243  5.0   845  2.0  1666  2.0   925  ...      1   \n",
       "\n",
       "       wr_05  wr_06  wr_07  wr_08  wr_09  wr_10  wr_11  wr_12  wr_13  \n",
       "index                                                                 \n",
       "0          1      0      0      1      0      1      0      1      1  \n",
       "1          0      0      0      0      0      0      0      0      0  \n",
       "2          1      0      1      1      0      1      0      1      1  \n",
       "3          1      1      1      1      1      1      1      1      1  \n",
       "4          1      0      1      1      0      1      1      1      1  \n",
       "\n",
       "[5 rows x 76 columns]"
      ]
     },
     "execution_count": 3,
     "metadata": {},
     "output_type": "execute_result"
    }
   ],
   "source": [
    "test.head()"
   ]
  },
  {
   "cell_type": "code",
   "execution_count": 4,
   "metadata": {
    "ExecuteTime": {
     "end_time": "2020-12-19T15:10:39.493108Z",
     "start_time": "2020-12-19T15:10:39.443242Z"
    }
   },
   "outputs": [
    {
     "name": "stdout",
     "output_type": "stream",
     "text": [
      "<class 'pandas.core.frame.DataFrame'>\n",
      "Int64Index: 45532 entries, 0 to 45531\n",
      "Data columns (total 77 columns):\n",
      " #   Column      Non-Null Count  Dtype  \n",
      "---  ------      --------------  -----  \n",
      " 0   QaA         45532 non-null  float64\n",
      " 1   QaE         45532 non-null  int64  \n",
      " 2   QbA         45532 non-null  float64\n",
      " 3   QbE         45532 non-null  int64  \n",
      " 4   QcA         45532 non-null  float64\n",
      " 5   QcE         45532 non-null  int64  \n",
      " 6   QdA         45532 non-null  float64\n",
      " 7   QdE         45532 non-null  int64  \n",
      " 8   QeA         45532 non-null  float64\n",
      " 9   QeE         45532 non-null  int64  \n",
      " 10  QfA         45532 non-null  float64\n",
      " 11  QfE         45532 non-null  int64  \n",
      " 12  QgA         45532 non-null  float64\n",
      " 13  QgE         45532 non-null  int64  \n",
      " 14  QhA         45532 non-null  float64\n",
      " 15  QhE         45532 non-null  int64  \n",
      " 16  QiA         45532 non-null  float64\n",
      " 17  QiE         45532 non-null  int64  \n",
      " 18  QjA         45532 non-null  float64\n",
      " 19  QjE         45532 non-null  int64  \n",
      " 20  QkA         45532 non-null  float64\n",
      " 21  QkE         45532 non-null  int64  \n",
      " 22  QlA         45532 non-null  float64\n",
      " 23  QlE         45532 non-null  int64  \n",
      " 24  QmA         45532 non-null  float64\n",
      " 25  QmE         45532 non-null  int64  \n",
      " 26  QnA         45532 non-null  float64\n",
      " 27  QnE         45532 non-null  int64  \n",
      " 28  QoA         45532 non-null  float64\n",
      " 29  QoE         45532 non-null  int64  \n",
      " 30  QpA         45532 non-null  float64\n",
      " 31  QpE         45532 non-null  int64  \n",
      " 32  QqA         45532 non-null  float64\n",
      " 33  QqE         45532 non-null  int64  \n",
      " 34  QrA         45532 non-null  float64\n",
      " 35  QrE         45532 non-null  int64  \n",
      " 36  QsA         45532 non-null  float64\n",
      " 37  QsE         45532 non-null  int64  \n",
      " 38  QtA         45532 non-null  float64\n",
      " 39  QtE         45532 non-null  int64  \n",
      " 40  age_group   45532 non-null  object \n",
      " 41  education   45532 non-null  int64  \n",
      " 42  engnat      45532 non-null  int64  \n",
      " 43  familysize  45532 non-null  int64  \n",
      " 44  gender      45532 non-null  object \n",
      " 45  hand        45532 non-null  int64  \n",
      " 46  married     45532 non-null  int64  \n",
      " 47  race        45532 non-null  object \n",
      " 48  religion    45532 non-null  object \n",
      " 49  tp01        45532 non-null  int64  \n",
      " 50  tp02        45532 non-null  int64  \n",
      " 51  tp03        45532 non-null  int64  \n",
      " 52  tp04        45532 non-null  int64  \n",
      " 53  tp05        45532 non-null  int64  \n",
      " 54  tp06        45532 non-null  int64  \n",
      " 55  tp07        45532 non-null  int64  \n",
      " 56  tp08        45532 non-null  int64  \n",
      " 57  tp09        45532 non-null  int64  \n",
      " 58  tp10        45532 non-null  int64  \n",
      " 59  urban       45532 non-null  int64  \n",
      " 60  voted       45532 non-null  int64  \n",
      " 61  wf_01       45532 non-null  int64  \n",
      " 62  wf_02       45532 non-null  int64  \n",
      " 63  wf_03       45532 non-null  int64  \n",
      " 64  wr_01       45532 non-null  int64  \n",
      " 65  wr_02       45532 non-null  int64  \n",
      " 66  wr_03       45532 non-null  int64  \n",
      " 67  wr_04       45532 non-null  int64  \n",
      " 68  wr_05       45532 non-null  int64  \n",
      " 69  wr_06       45532 non-null  int64  \n",
      " 70  wr_07       45532 non-null  int64  \n",
      " 71  wr_08       45532 non-null  int64  \n",
      " 72  wr_09       45532 non-null  int64  \n",
      " 73  wr_10       45532 non-null  int64  \n",
      " 74  wr_11       45532 non-null  int64  \n",
      " 75  wr_12       45532 non-null  int64  \n",
      " 76  wr_13       45532 non-null  int64  \n",
      "dtypes: float64(20), int64(53), object(4)\n",
      "memory usage: 27.1+ MB\n"
     ]
    }
   ],
   "source": [
    "train.info()"
   ]
  },
  {
   "cell_type": "code",
   "execution_count": 5,
   "metadata": {
    "ExecuteTime": {
     "end_time": "2020-12-19T15:10:39.525069Z",
     "start_time": "2020-12-19T15:10:39.496116Z"
    }
   },
   "outputs": [
    {
     "name": "stdout",
     "output_type": "stream",
     "text": [
      "<class 'pandas.core.frame.DataFrame'>\n",
      "Int64Index: 11383 entries, 0 to 11382\n",
      "Data columns (total 76 columns):\n",
      " #   Column      Non-Null Count  Dtype  \n",
      "---  ------      --------------  -----  \n",
      " 0   QaA         11383 non-null  float64\n",
      " 1   QaE         11383 non-null  int64  \n",
      " 2   QbA         11383 non-null  float64\n",
      " 3   QbE         11383 non-null  int64  \n",
      " 4   QcA         11383 non-null  float64\n",
      " 5   QcE         11383 non-null  int64  \n",
      " 6   QdA         11383 non-null  float64\n",
      " 7   QdE         11383 non-null  int64  \n",
      " 8   QeA         11383 non-null  float64\n",
      " 9   QeE         11383 non-null  int64  \n",
      " 10  QfA         11383 non-null  float64\n",
      " 11  QfE         11383 non-null  int64  \n",
      " 12  QgA         11383 non-null  float64\n",
      " 13  QgE         11383 non-null  int64  \n",
      " 14  QhA         11383 non-null  float64\n",
      " 15  QhE         11383 non-null  int64  \n",
      " 16  QiA         11383 non-null  float64\n",
      " 17  QiE         11383 non-null  int64  \n",
      " 18  QjA         11383 non-null  float64\n",
      " 19  QjE         11383 non-null  int64  \n",
      " 20  QkA         11383 non-null  float64\n",
      " 21  QkE         11383 non-null  int64  \n",
      " 22  QlA         11383 non-null  float64\n",
      " 23  QlE         11383 non-null  int64  \n",
      " 24  QmA         11383 non-null  float64\n",
      " 25  QmE         11383 non-null  int64  \n",
      " 26  QnA         11383 non-null  float64\n",
      " 27  QnE         11383 non-null  int64  \n",
      " 28  QoA         11383 non-null  float64\n",
      " 29  QoE         11383 non-null  int64  \n",
      " 30  QpA         11383 non-null  float64\n",
      " 31  QpE         11383 non-null  int64  \n",
      " 32  QqA         11383 non-null  float64\n",
      " 33  QqE         11383 non-null  int64  \n",
      " 34  QrA         11383 non-null  float64\n",
      " 35  QrE         11383 non-null  int64  \n",
      " 36  QsA         11383 non-null  float64\n",
      " 37  QsE         11383 non-null  int64  \n",
      " 38  QtA         11383 non-null  float64\n",
      " 39  QtE         11383 non-null  int64  \n",
      " 40  age_group   11383 non-null  object \n",
      " 41  education   11383 non-null  int64  \n",
      " 42  engnat      11383 non-null  int64  \n",
      " 43  familysize  11383 non-null  int64  \n",
      " 44  gender      11383 non-null  object \n",
      " 45  hand        11383 non-null  int64  \n",
      " 46  married     11383 non-null  int64  \n",
      " 47  race        11383 non-null  object \n",
      " 48  religion    11383 non-null  object \n",
      " 49  tp01        11383 non-null  int64  \n",
      " 50  tp02        11383 non-null  int64  \n",
      " 51  tp03        11383 non-null  int64  \n",
      " 52  tp04        11383 non-null  int64  \n",
      " 53  tp05        11383 non-null  int64  \n",
      " 54  tp06        11383 non-null  int64  \n",
      " 55  tp07        11383 non-null  int64  \n",
      " 56  tp08        11383 non-null  int64  \n",
      " 57  tp09        11383 non-null  int64  \n",
      " 58  tp10        11383 non-null  int64  \n",
      " 59  urban       11383 non-null  int64  \n",
      " 60  wf_01       11383 non-null  int64  \n",
      " 61  wf_02       11383 non-null  int64  \n",
      " 62  wf_03       11383 non-null  int64  \n",
      " 63  wr_01       11383 non-null  int64  \n",
      " 64  wr_02       11383 non-null  int64  \n",
      " 65  wr_03       11383 non-null  int64  \n",
      " 66  wr_04       11383 non-null  int64  \n",
      " 67  wr_05       11383 non-null  int64  \n",
      " 68  wr_06       11383 non-null  int64  \n",
      " 69  wr_07       11383 non-null  int64  \n",
      " 70  wr_08       11383 non-null  int64  \n",
      " 71  wr_09       11383 non-null  int64  \n",
      " 72  wr_10       11383 non-null  int64  \n",
      " 73  wr_11       11383 non-null  int64  \n",
      " 74  wr_12       11383 non-null  int64  \n",
      " 75  wr_13       11383 non-null  int64  \n",
      "dtypes: float64(20), int64(52), object(4)\n",
      "memory usage: 6.7+ MB\n"
     ]
    }
   ],
   "source": [
    "test.info()"
   ]
  },
  {
   "cell_type": "code",
   "execution_count": 6,
   "metadata": {
    "ExecuteTime": {
     "end_time": "2020-12-19T15:10:39.534993Z",
     "start_time": "2020-12-19T15:10:39.527048Z"
    }
   },
   "outputs": [
    {
     "data": {
      "text/plain": [
       "QaA      float64\n",
       "QaE        int64\n",
       "QbA      float64\n",
       "QbE        int64\n",
       "QcA      float64\n",
       "          ...   \n",
       "wr_09      int64\n",
       "wr_10      int64\n",
       "wr_11      int64\n",
       "wr_12      int64\n",
       "wr_13      int64\n",
       "Length: 77, dtype: object"
      ]
     },
     "execution_count": 6,
     "metadata": {},
     "output_type": "execute_result"
    }
   ],
   "source": [
    "train.dtypes"
   ]
  },
  {
   "cell_type": "code",
   "execution_count": 7,
   "metadata": {
    "ExecuteTime": {
     "end_time": "2020-12-19T15:10:39.544008Z",
     "start_time": "2020-12-19T15:10:39.535990Z"
    }
   },
   "outputs": [
    {
     "data": {
      "text/plain": [
       "QaA      float64\n",
       "QaE        int64\n",
       "QbA      float64\n",
       "QbE        int64\n",
       "QcA      float64\n",
       "          ...   \n",
       "wr_09      int64\n",
       "wr_10      int64\n",
       "wr_11      int64\n",
       "wr_12      int64\n",
       "wr_13      int64\n",
       "Length: 76, dtype: object"
      ]
     },
     "execution_count": 7,
     "metadata": {},
     "output_type": "execute_result"
    }
   ],
   "source": [
    "test.dtypes"
   ]
  },
  {
   "cell_type": "code",
   "execution_count": 8,
   "metadata": {
    "ExecuteTime": {
     "end_time": "2020-12-19T15:10:39.555940Z",
     "start_time": "2020-12-19T15:10:39.547959Z"
    }
   },
   "outputs": [
    {
     "data": {
      "text/plain": [
       "QaA      float64\n",
       "QaE        int64\n",
       "QbA      float64\n",
       "QbE        int64\n",
       "QcA      float64\n",
       "          ...   \n",
       "wr_09      int64\n",
       "wr_10      int64\n",
       "wr_11      int64\n",
       "wr_12      int64\n",
       "wr_13      int64\n",
       "Length: 77, dtype: object"
      ]
     },
     "execution_count": 8,
     "metadata": {},
     "output_type": "execute_result"
    }
   ],
   "source": [
    "train.dtypes"
   ]
  },
  {
   "cell_type": "markdown",
   "metadata": {},
   "source": [
    "## 마키아벨리니즘 Score 제시"
   ]
  },
  {
   "cell_type": "code",
   "execution_count": 9,
   "metadata": {
    "ExecuteTime": {
     "end_time": "2020-12-19T15:10:39.566908Z",
     "start_time": "2020-12-19T15:10:39.560924Z"
    },
    "lines_to_next_cell": 2,
    "scrolled": true
   },
   "outputs": [],
   "source": [
    "#모든 항목을 다 계산에 쓰기 때문에 상관관계를 도출할때Secret인 것도 알수가 있었다. \n",
    "#상관관계를 Reverse 해야 빨간색이 나오기 때문에\n",
    "# 양의 항목과 음의 항목이 만나면 음의 상관관계를 가질 것 이기 떄문에 \n",
    "Answers = ['QaA', 'QbA', 'QcA', 'QdA', 'QeA','QfA', 'QgA', 'QhA', 'QiA', 'QjA','QkA', 'QlA', 'QmA', 'QnA', 'QoA', 'QpA', 'QqA', 'QrA', 'QsA', 'QtA']\n"
   ]
  },
  {
   "cell_type": "code",
   "execution_count": 10,
   "metadata": {
    "ExecuteTime": {
     "end_time": "2020-12-19T15:10:41.530076Z",
     "start_time": "2020-12-19T15:10:39.567928Z"
    }
   },
   "outputs": [
    {
     "data": {
      "text/plain": [
       "<matplotlib.axes._subplots.AxesSubplot at 0x24199e736c8>"
      ]
     },
     "execution_count": 10,
     "metadata": {},
     "output_type": "execute_result"
    },
    {
     "data": {
      "image/png": "[encoded data removed]",
      "text/plain": [
       "<Figure size 432x288 with 2 Axes>"
      ]
     },
     "metadata": {
      "needs_background": "light"
     },
     "output_type": "display_data"
    }
   ],
   "source": [
    "import seaborn as sns\n",
    "\n",
    "correlations = train[Answers].corr(method = 'spearman')\n",
    "sns.heatmap(correlations, cmap=\"coolwarm\", square=True, center=0)"
   ]
  },
  {
   "cell_type": "code",
   "execution_count": 11,
   "metadata": {
    "ExecuteTime": {
     "end_time": "2020-12-19T15:10:41.544030Z",
     "start_time": "2020-12-19T15:10:41.532032Z"
    },
    "lines_to_end_of_cell_marker": 2
   },
   "outputs": [],
   "source": [
    "flipping_columns = [\"QeA\", \"QfA\", \"QkA\", \"QqA\", \"QrA\"]\n",
    "for flip in flipping_columns: \n",
    "    train[flip] = 6 - train[flip]\n",
    "    test[flip] = 6 - test[flip]"
   ]
  },
  {
   "cell_type": "code",
   "execution_count": 12,
   "metadata": {
    "ExecuteTime": {
     "end_time": "2020-12-19T15:10:41.977116Z",
     "start_time": "2020-12-19T15:10:41.545996Z"
    }
   },
   "outputs": [
    {
     "data": {
      "text/plain": [
       "<matplotlib.axes._subplots.AxesSubplot at 0x24197421ec8>"
      ]
     },
     "execution_count": 12,
     "metadata": {},
     "output_type": "execute_result"
    },
    {
     "data": {
      "image/png": "[encoded data removed]",
      "text/plain": [
       "<Figure size 432x288 with 2 Axes>"
      ]
     },
     "metadata": {
      "needs_background": "light"
     },
     "output_type": "display_data"
    }
   ],
   "source": [
    "correlations = train[Answers].corr(method='spearman')\n",
    "sns.heatmap(correlations, cmap=\"coolwarm\", square=True, center=0)"
   ]
  },
  {
   "cell_type": "code",
   "execution_count": 13,
   "metadata": {
    "ExecuteTime": {
     "end_time": "2020-12-19T15:10:42.021023Z",
     "start_time": "2020-12-19T15:10:41.979114Z"
    }
   },
   "outputs": [
    {
     "data": {
      "text/html": [
       "<div>\n",
       "<style scoped>\n",
       "    .dataframe tbody tr th:only-of-type {\n",
       "        vertical-align: middle;\n",
       "    }\n",
       "\n",
       "    .dataframe tbody tr th {\n",
       "        vertical-align: top;\n",
       "    }\n",
       "\n",
       "    .dataframe thead th {\n",
       "        text-align: right;\n",
       "    }\n",
       "</style>\n",
       "<table border=\"1\" class=\"dataframe\">\n",
       "  <thead>\n",
       "    <tr style=\"text-align: right;\">\n",
       "      <th></th>\n",
       "      <th>QaA</th>\n",
       "      <th>QaE</th>\n",
       "      <th>QbA</th>\n",
       "      <th>QbE</th>\n",
       "      <th>QcA</th>\n",
       "      <th>QcE</th>\n",
       "      <th>QdA</th>\n",
       "      <th>QdE</th>\n",
       "      <th>QeA</th>\n",
       "      <th>QeE</th>\n",
       "      <th>...</th>\n",
       "      <th>wr_05</th>\n",
       "      <th>wr_06</th>\n",
       "      <th>wr_07</th>\n",
       "      <th>wr_08</th>\n",
       "      <th>wr_09</th>\n",
       "      <th>wr_10</th>\n",
       "      <th>wr_11</th>\n",
       "      <th>wr_12</th>\n",
       "      <th>wr_13</th>\n",
       "      <th>Mach_score</th>\n",
       "    </tr>\n",
       "    <tr>\n",
       "      <th>index</th>\n",
       "      <th></th>\n",
       "      <th></th>\n",
       "      <th></th>\n",
       "      <th></th>\n",
       "      <th></th>\n",
       "      <th></th>\n",
       "      <th></th>\n",
       "      <th></th>\n",
       "      <th></th>\n",
       "      <th></th>\n",
       "      <th></th>\n",
       "      <th></th>\n",
       "      <th></th>\n",
       "      <th></th>\n",
       "      <th></th>\n",
       "      <th></th>\n",
       "      <th></th>\n",
       "      <th></th>\n",
       "      <th></th>\n",
       "      <th></th>\n",
       "      <th></th>\n",
       "    </tr>\n",
       "  </thead>\n",
       "  <tbody>\n",
       "    <tr>\n",
       "      <th>0</th>\n",
       "      <td>3.0</td>\n",
       "      <td>363</td>\n",
       "      <td>4.0</td>\n",
       "      <td>1370</td>\n",
       "      <td>5.0</td>\n",
       "      <td>997</td>\n",
       "      <td>1.0</td>\n",
       "      <td>1024</td>\n",
       "      <td>4.0</td>\n",
       "      <td>1577</td>\n",
       "      <td>...</td>\n",
       "      <td>1</td>\n",
       "      <td>0</td>\n",
       "      <td>1</td>\n",
       "      <td>1</td>\n",
       "      <td>0</td>\n",
       "      <td>1</td>\n",
       "      <td>0</td>\n",
       "      <td>1</td>\n",
       "      <td>1</td>\n",
       "      <td>3.05</td>\n",
       "    </tr>\n",
       "    <tr>\n",
       "      <th>1</th>\n",
       "      <td>5.0</td>\n",
       "      <td>647</td>\n",
       "      <td>5.0</td>\n",
       "      <td>1313</td>\n",
       "      <td>3.0</td>\n",
       "      <td>3387</td>\n",
       "      <td>5.0</td>\n",
       "      <td>2969</td>\n",
       "      <td>5.0</td>\n",
       "      <td>4320</td>\n",
       "      <td>...</td>\n",
       "      <td>1</td>\n",
       "      <td>0</td>\n",
       "      <td>1</td>\n",
       "      <td>1</td>\n",
       "      <td>0</td>\n",
       "      <td>1</td>\n",
       "      <td>0</td>\n",
       "      <td>1</td>\n",
       "      <td>1</td>\n",
       "      <td>3.20</td>\n",
       "    </tr>\n",
       "    <tr>\n",
       "      <th>2</th>\n",
       "      <td>4.0</td>\n",
       "      <td>1623</td>\n",
       "      <td>1.0</td>\n",
       "      <td>1480</td>\n",
       "      <td>1.0</td>\n",
       "      <td>1021</td>\n",
       "      <td>4.0</td>\n",
       "      <td>3374</td>\n",
       "      <td>1.0</td>\n",
       "      <td>1333</td>\n",
       "      <td>...</td>\n",
       "      <td>1</td>\n",
       "      <td>0</td>\n",
       "      <td>1</td>\n",
       "      <td>1</td>\n",
       "      <td>1</td>\n",
       "      <td>1</td>\n",
       "      <td>0</td>\n",
       "      <td>1</td>\n",
       "      <td>1</td>\n",
       "      <td>2.30</td>\n",
       "    </tr>\n",
       "    <tr>\n",
       "      <th>3</th>\n",
       "      <td>3.0</td>\n",
       "      <td>504</td>\n",
       "      <td>3.0</td>\n",
       "      <td>2311</td>\n",
       "      <td>4.0</td>\n",
       "      <td>992</td>\n",
       "      <td>3.0</td>\n",
       "      <td>3245</td>\n",
       "      <td>5.0</td>\n",
       "      <td>357</td>\n",
       "      <td>...</td>\n",
       "      <td>0</td>\n",
       "      <td>0</td>\n",
       "      <td>0</td>\n",
       "      <td>1</td>\n",
       "      <td>0</td>\n",
       "      <td>1</td>\n",
       "      <td>0</td>\n",
       "      <td>1</td>\n",
       "      <td>1</td>\n",
       "      <td>3.75</td>\n",
       "    </tr>\n",
       "    <tr>\n",
       "      <th>4</th>\n",
       "      <td>1.0</td>\n",
       "      <td>927</td>\n",
       "      <td>1.0</td>\n",
       "      <td>707</td>\n",
       "      <td>5.0</td>\n",
       "      <td>556</td>\n",
       "      <td>2.0</td>\n",
       "      <td>1062</td>\n",
       "      <td>5.0</td>\n",
       "      <td>1014</td>\n",
       "      <td>...</td>\n",
       "      <td>1</td>\n",
       "      <td>1</td>\n",
       "      <td>1</td>\n",
       "      <td>1</td>\n",
       "      <td>0</td>\n",
       "      <td>1</td>\n",
       "      <td>1</td>\n",
       "      <td>1</td>\n",
       "      <td>1</td>\n",
       "      <td>2.60</td>\n",
       "    </tr>\n",
       "  </tbody>\n",
       "</table>\n",
       "<p>5 rows × 78 columns</p>\n",
       "</div>"
      ],
      "text/plain": [
       "       QaA   QaE  QbA   QbE  QcA   QcE  QdA   QdE  QeA   QeE  ...  wr_05  \\\n",
       "index                                                         ...          \n",
       "0      3.0   363  4.0  1370  5.0   997  1.0  1024  4.0  1577  ...      1   \n",
       "1      5.0   647  5.0  1313  3.0  3387  5.0  2969  5.0  4320  ...      1   \n",
       "2      4.0  1623  1.0  1480  1.0  1021  4.0  3374  1.0  1333  ...      1   \n",
       "3      3.0   504  3.0  2311  4.0   992  3.0  3245  5.0   357  ...      0   \n",
       "4      1.0   927  1.0   707  5.0   556  2.0  1062  5.0  1014  ...      1   \n",
       "\n",
       "       wr_06  wr_07  wr_08  wr_09  wr_10  wr_11  wr_12  wr_13  Mach_score  \n",
       "index                                                                      \n",
       "0          0      1      1      0      1      0      1      1        3.05  \n",
       "1          0      1      1      0      1      0      1      1        3.20  \n",
       "2          0      1      1      1      1      0      1      1        2.30  \n",
       "3          0      0      1      0      1      0      1      1        3.75  \n",
       "4          1      1      1      0      1      1      1      1        2.60  \n",
       "\n",
       "[5 rows x 78 columns]"
      ]
     },
     "execution_count": 13,
     "metadata": {},
     "output_type": "execute_result"
    }
   ],
   "source": [
    "train['Mach_score'] = train[Answers].mean(axis = 1)\n",
    "test['Mach_score'] = test[Answers].mean(axis = 1)\n",
    "train.head()"
   ]
  },
  {
   "cell_type": "code",
   "execution_count": 14,
   "metadata": {
    "ExecuteTime": {
     "end_time": "2020-12-19T15:10:42.684230Z",
     "start_time": "2020-12-19T15:10:42.022033Z"
    },
    "lines_to_next_cell": 0
   },
   "outputs": [],
   "source": [
    "for i in train:\n",
    "    train['T'] = train['QcA'] - train['QfA'] + train['QoA'] - train['QrA'] + train['QsA']\n",
    "    train['V'] = train['QbA'] - train['QeA'] + train['QhA'] + train['QjA'] + train['QmA'] - train['QqA']\n",
    "    train['M'] = - train['QkA']\n",
    "\n",
    "for i in test:\n",
    "    test['T'] = test['QcA'] - test['QfA'] + test['QoA'] - test['QrA'] + test['QsA']\n",
    "    test['V'] = test['QbA'] - test['QeA'] + test['QhA'] + test['QjA'] + test['QmA'] - test['QqA']\n",
    "    test['M'] = - test['QkA']\n",
    "\n",
    "\n",
    "\n",
    "flipping_secret_columns = [\"QaA\", \"QdA\", \"QgA\", \"QiA\", \"QnA\"]\n",
    "\n",
    "for flip in flipping_secret_columns: \n",
    "    train[flip] = 6 - train[flip]\n",
    "    test[flip] = 6 - test[flip]"
   ]
  },
  {
   "cell_type": "code",
   "execution_count": null,
   "metadata": {
    "lines_to_next_cell": 2
   },
   "outputs": [],
   "source": []
  },
  {
   "cell_type": "code",
   "execution_count": 15,
   "metadata": {
    "ExecuteTime": {
     "end_time": "2020-12-19T15:10:42.870313Z",
     "start_time": "2020-12-19T15:10:42.685220Z"
    }
   },
   "outputs": [
    {
     "data": {
      "text/plain": [
       "<matplotlib.axes._subplots.AxesSubplot at 0x2419a0b20c8>"
      ]
     },
     "execution_count": 15,
     "metadata": {},
     "output_type": "execute_result"
    },
    {
     "data": {
      "image/png": "[encoded data removed]",
      "text/plain": [
       "<Figure size 576x432 with 1 Axes>"
      ]
     },
     "metadata": {
      "needs_background": "light"
     },
     "output_type": "display_data"
    }
   ],
   "source": [
    "import matplotlib.pyplot as plt\n",
    "%matplotlib inline\n",
    "plt.figure(figsize = (8,6))\n",
    "sns.countplot(data = train, x = 'age_group', hue = train['voted'])"
   ]
  },
  {
   "cell_type": "code",
   "execution_count": 16,
   "metadata": {
    "ExecuteTime": {
     "end_time": "2020-12-19T15:10:43.030946Z",
     "start_time": "2020-12-19T15:10:42.872325Z"
    }
   },
   "outputs": [
    {
     "data": {
      "text/plain": [
       "<matplotlib.axes._subplots.AxesSubplot at 0x2419a1a46c8>"
      ]
     },
     "execution_count": 16,
     "metadata": {},
     "output_type": "execute_result"
    },
    {
     "data": {
      "image/png": "[encoded data removed]",
      "text/plain": [
       "<Figure size 576x432 with 1 Axes>"
      ]
     },
     "metadata": {
      "needs_background": "light"
     },
     "output_type": "display_data"
    }
   ],
   "source": [
    "plt.figure(figsize = (8,6))\n",
    "sns.countplot(data = train, x = 'education', hue = train['voted'])"
   ]
  },
  {
   "cell_type": "code",
   "execution_count": 17,
   "metadata": {
    "ExecuteTime": {
     "end_time": "2020-12-19T15:10:43.239355Z",
     "start_time": "2020-12-19T15:10:43.032909Z"
    }
   },
   "outputs": [
    {
     "data": {
      "text/plain": [
       "<matplotlib.axes._subplots.AxesSubplot at 0x2419a215d88>"
      ]
     },
     "execution_count": 17,
     "metadata": {},
     "output_type": "execute_result"
    },
    {
     "data": {
      "image/png": "[encoded data removed]",
      "text/plain": [
       "<Figure size 576x432 with 1 Axes>"
      ]
     },
     "metadata": {
      "needs_background": "light"
     },
     "output_type": "display_data"
    }
   ],
   "source": [
    "plt.figure(figsize = (8,6))\n",
    "sns.countplot(data = train, x = 'engnat', hue = train['voted'])"
   ]
  },
  {
   "cell_type": "code",
   "execution_count": 18,
   "metadata": {
    "ExecuteTime": {
     "end_time": "2020-12-19T15:10:43.648562Z",
     "start_time": "2020-12-19T15:10:43.241349Z"
    }
   },
   "outputs": [
    {
     "data": {
      "text/plain": [
       "<matplotlib.axes._subplots.AxesSubplot at 0x2419a195248>"
      ]
     },
     "execution_count": 18,
     "metadata": {},
     "output_type": "execute_result"
    },
    {
     "data": {
      "image/png": "[encoded data removed]",
      "text/plain": [
       "<Figure size 576x432 with 1 Axes>"
      ]
     },
     "metadata": {
      "needs_background": "light"
     },
     "output_type": "display_data"
    }
   ],
   "source": [
    "plt.figure(figsize = (8,6))\n",
    "sns.countplot(data = train, x = 'familysize', hue = train['voted'])"
   ]
  },
  {
   "cell_type": "code",
   "execution_count": 19,
   "metadata": {
    "ExecuteTime": {
     "end_time": "2020-12-19T15:10:43.803119Z",
     "start_time": "2020-12-19T15:10:43.650527Z"
    }
   },
   "outputs": [
    {
     "data": {
      "text/plain": [
       "<matplotlib.axes._subplots.AxesSubplot at 0x2419a2b1448>"
      ]
     },
     "execution_count": 19,
     "metadata": {},
     "output_type": "execute_result"
    },
    {
     "data": {
      "image/png": "[encoded data removed]",
      "text/plain": [
       "<Figure size 576x432 with 1 Axes>"
      ]
     },
     "metadata": {
      "needs_background": "light"
     },
     "output_type": "display_data"
    }
   ],
   "source": [
    "plt.figure(figsize = (8,6))\n",
    "sns.countplot(data = train, x = 'gender', hue = train['voted'])"
   ]
  },
  {
   "cell_type": "code",
   "execution_count": 20,
   "metadata": {
    "ExecuteTime": {
     "end_time": "2020-12-19T15:10:44.035504Z",
     "start_time": "2020-12-19T15:10:43.805141Z"
    }
   },
   "outputs": [
    {
     "data": {
      "text/plain": [
       "<matplotlib.axes._subplots.AxesSubplot at 0x2419a1c7648>"
      ]
     },
     "execution_count": 20,
     "metadata": {},
     "output_type": "execute_result"
    },
    {
     "data": {
      "image/png": "[encoded data removed]",
      "text/plain": [
       "<Figure size 576x432 with 1 Axes>"
      ]
     },
     "metadata": {
      "needs_background": "light"
     },
     "output_type": "display_data"
    }
   ],
   "source": [
    "plt.figure(figsize = (8,6))\n",
    "sns.countplot(data = train, x = 'hand', hue = train['voted'])"
   ]
  },
  {
   "cell_type": "code",
   "execution_count": 21,
   "metadata": {
    "ExecuteTime": {
     "end_time": "2020-12-19T15:10:44.189087Z",
     "start_time": "2020-12-19T15:10:44.036495Z"
    }
   },
   "outputs": [
    {
     "data": {
      "text/plain": [
       "<matplotlib.axes._subplots.AxesSubplot at 0x2419743a748>"
      ]
     },
     "execution_count": 21,
     "metadata": {},
     "output_type": "execute_result"
    },
    {
     "data": {
      "image/png": "[encoded data removed]",
      "text/plain": [
       "<Figure size 576x432 with 1 Axes>"
      ]
     },
     "metadata": {
      "needs_background": "light"
     },
     "output_type": "display_data"
    }
   ],
   "source": [
    "plt.figure(figsize = (8,6))\n",
    "sns.countplot(data = train, x = 'married', hue = train['voted'])"
   ]
  },
  {
   "cell_type": "code",
   "execution_count": 22,
   "metadata": {
    "ExecuteTime": {
     "end_time": "2020-12-19T15:10:44.406189Z",
     "start_time": "2020-12-19T15:10:44.190085Z"
    }
   },
   "outputs": [
    {
     "data": {
      "text/plain": [
       "<matplotlib.axes._subplots.AxesSubplot at 0x2419f763d48>"
      ]
     },
     "execution_count": 22,
     "metadata": {},
     "output_type": "execute_result"
    },
    {
     "data": {
      "image/png": "[encoded data removed]",
      "text/plain": [
       "<Figure size 576x432 with 1 Axes>"
      ]
     },
     "metadata": {
      "needs_background": "light"
     },
     "output_type": "display_data"
    }
   ],
   "source": [
    "plt.figure(figsize = (8,6))\n",
    "plt.xticks(rotation=90)\n",
    "sns.countplot(data = train, x = 'race', hue = train['voted'])"
   ]
  },
  {
   "cell_type": "code",
   "execution_count": 23,
   "metadata": {
    "ExecuteTime": {
     "end_time": "2020-12-19T15:10:44.739270Z",
     "start_time": "2020-12-19T15:10:44.410150Z"
    }
   },
   "outputs": [
    {
     "data": {
      "text/plain": [
       "<matplotlib.axes._subplots.AxesSubplot at 0x2419f8007c8>"
      ]
     },
     "execution_count": 23,
     "metadata": {},
     "output_type": "execute_result"
    },
    {
     "data": {
      "image/png": "[encoded data removed]",
      "text/plain": [
       "<Figure size 576x432 with 1 Axes>"
      ]
     },
     "metadata": {
      "needs_background": "light"
     },
     "output_type": "display_data"
    }
   ],
   "source": [
    "plt.figure(figsize = (8,6))\n",
    "plt.xticks(rotation=90)\n",
    "sns.countplot(data = train, x = 'religion', hue = train['voted'])"
   ]
  },
  {
   "cell_type": "markdown",
   "metadata": {},
   "source": [
    "#  TIPI(Ten-Item Personality Inventory) "
   ]
  },
  {
   "cell_type": "code",
   "execution_count": 24,
   "metadata": {
    "ExecuteTime": {
     "end_time": "2020-12-19T15:10:44.748247Z",
     "start_time": "2020-12-19T15:10:44.742263Z"
    }
   },
   "outputs": [],
   "source": [
    "tp_columns = [\"tp01\",\"tp02\",\"tp03\",\"tp04\",\"tp05\",\"tp06\",\"tp07\",\"tp08\",\"tp09\",\"tp10\"]"
   ]
  },
  {
   "cell_type": "code",
   "execution_count": 25,
   "metadata": {
    "ExecuteTime": {
     "end_time": "2020-12-19T15:10:44.997615Z",
     "start_time": "2020-12-19T15:10:44.750241Z"
    },
    "lines_to_end_of_cell_marker": 2
   },
   "outputs": [],
   "source": [
    "import numpy as np\n",
    "for i in tp_columns:\n",
    "    train[i] = train[i].replace(0, np.nan)\n",
    "    mean = train[i].mean(axis=0)\n",
    "    train[i] = train[i].replace(np.nan , mean)\n",
    "\n",
    "for i in tp_columns:\n",
    "    test[i] = test[i].replace(0, np.nan)\n",
    "    mean = test[i].mean(axis=0)\n",
    "    test[i] = test[i].replace(np.nan , mean)\n",
    "    \n",
    "    \n",
    "train['Extraversion'] = train['tp01'] - train['tp06']\n",
    "train['Agreeableness'] = train['tp07'] - train['tp02']\n",
    "train['Conscientiousness'] = train['tp03'] - train['tp08']\n",
    "train['Emotional_Stability'] = train['tp09'] - train['tp04']\n",
    "train['Openness_to_Experiences'] = train['tp05'] - train['tp10']\n",
    "\n",
    "test['Extraversion'] = test['tp01'] - test['tp06']\n",
    "test['Agreeableness'] = test['tp07'] - test['tp02']\n",
    "test['Conscientiousness'] = test['tp03'] - test['tp08']\n",
    "test['Emotional_Stability'] = test['tp09'] - test['tp04']\n",
    "test['Openness_to_Experiences'] = test['tp05'] - test['tp10']\n",
    "\n",
    "\n",
    "train = train.drop(tp_columns, axis = 1)\n",
    "\n",
    "test = test.drop(tp_columns, axis = 1)"
   ]
  },
  {
   "cell_type": "code",
   "execution_count": 26,
   "metadata": {
    "ExecuteTime": {
     "end_time": "2020-12-19T15:10:45.050474Z",
     "start_time": "2020-12-19T15:10:44.998664Z"
    }
   },
   "outputs": [
    {
     "data": {
      "text/html": [
       "<div>\n",
       "<style scoped>\n",
       "    .dataframe tbody tr th:only-of-type {\n",
       "        vertical-align: middle;\n",
       "    }\n",
       "\n",
       "    .dataframe tbody tr th {\n",
       "        vertical-align: top;\n",
       "    }\n",
       "\n",
       "    .dataframe thead th {\n",
       "        text-align: right;\n",
       "    }\n",
       "</style>\n",
       "<table border=\"1\" class=\"dataframe\">\n",
       "  <thead>\n",
       "    <tr style=\"text-align: right;\">\n",
       "      <th></th>\n",
       "      <th>QaA</th>\n",
       "      <th>QaE</th>\n",
       "      <th>QbA</th>\n",
       "      <th>QbE</th>\n",
       "      <th>QcA</th>\n",
       "      <th>QcE</th>\n",
       "      <th>QdA</th>\n",
       "      <th>QdE</th>\n",
       "      <th>QeA</th>\n",
       "      <th>QeE</th>\n",
       "      <th>...</th>\n",
       "      <th>wr_13</th>\n",
       "      <th>Mach_score</th>\n",
       "      <th>T</th>\n",
       "      <th>V</th>\n",
       "      <th>M</th>\n",
       "      <th>Extraversion</th>\n",
       "      <th>Agreeableness</th>\n",
       "      <th>Conscientiousness</th>\n",
       "      <th>Emotional_Stability</th>\n",
       "      <th>Openness_to_Experiences</th>\n",
       "    </tr>\n",
       "    <tr>\n",
       "      <th>index</th>\n",
       "      <th></th>\n",
       "      <th></th>\n",
       "      <th></th>\n",
       "      <th></th>\n",
       "      <th></th>\n",
       "      <th></th>\n",
       "      <th></th>\n",
       "      <th></th>\n",
       "      <th></th>\n",
       "      <th></th>\n",
       "      <th></th>\n",
       "      <th></th>\n",
       "      <th></th>\n",
       "      <th></th>\n",
       "      <th></th>\n",
       "      <th></th>\n",
       "      <th></th>\n",
       "      <th></th>\n",
       "      <th></th>\n",
       "      <th></th>\n",
       "      <th></th>\n",
       "    </tr>\n",
       "  </thead>\n",
       "  <tbody>\n",
       "    <tr>\n",
       "      <th>0</th>\n",
       "      <td>3.0</td>\n",
       "      <td>363</td>\n",
       "      <td>4.0</td>\n",
       "      <td>1370</td>\n",
       "      <td>5.0</td>\n",
       "      <td>997</td>\n",
       "      <td>5.0</td>\n",
       "      <td>1024</td>\n",
       "      <td>4.0</td>\n",
       "      <td>1577</td>\n",
       "      <td>...</td>\n",
       "      <td>1</td>\n",
       "      <td>2.95</td>\n",
       "      <td>4.0</td>\n",
       "      <td>6.0</td>\n",
       "      <td>-2.0</td>\n",
       "      <td>1.0</td>\n",
       "      <td>5.000000</td>\n",
       "      <td>-2.000000</td>\n",
       "      <td>3.0000</td>\n",
       "      <td>-1.000000</td>\n",
       "    </tr>\n",
       "    <tr>\n",
       "      <th>1</th>\n",
       "      <td>1.0</td>\n",
       "      <td>647</td>\n",
       "      <td>5.0</td>\n",
       "      <td>1313</td>\n",
       "      <td>3.0</td>\n",
       "      <td>3387</td>\n",
       "      <td>1.0</td>\n",
       "      <td>2969</td>\n",
       "      <td>5.0</td>\n",
       "      <td>4320</td>\n",
       "      <td>...</td>\n",
       "      <td>1</td>\n",
       "      <td>2.60</td>\n",
       "      <td>0.0</td>\n",
       "      <td>4.0</td>\n",
       "      <td>-1.0</td>\n",
       "      <td>-1.0</td>\n",
       "      <td>2.000000</td>\n",
       "      <td>-1.628942</td>\n",
       "      <td>-0.6306</td>\n",
       "      <td>-3.000000</td>\n",
       "    </tr>\n",
       "    <tr>\n",
       "      <th>2</th>\n",
       "      <td>2.0</td>\n",
       "      <td>1623</td>\n",
       "      <td>1.0</td>\n",
       "      <td>1480</td>\n",
       "      <td>1.0</td>\n",
       "      <td>1021</td>\n",
       "      <td>2.0</td>\n",
       "      <td>3374</td>\n",
       "      <td>1.0</td>\n",
       "      <td>1333</td>\n",
       "      <td>...</td>\n",
       "      <td>1</td>\n",
       "      <td>1.90</td>\n",
       "      <td>-3.0</td>\n",
       "      <td>4.0</td>\n",
       "      <td>-1.0</td>\n",
       "      <td>-2.0</td>\n",
       "      <td>-1.000000</td>\n",
       "      <td>-5.000000</td>\n",
       "      <td>-4.0000</td>\n",
       "      <td>0.000000</td>\n",
       "    </tr>\n",
       "    <tr>\n",
       "      <th>3</th>\n",
       "      <td>3.0</td>\n",
       "      <td>504</td>\n",
       "      <td>3.0</td>\n",
       "      <td>2311</td>\n",
       "      <td>4.0</td>\n",
       "      <td>992</td>\n",
       "      <td>3.0</td>\n",
       "      <td>3245</td>\n",
       "      <td>5.0</td>\n",
       "      <td>357</td>\n",
       "      <td>...</td>\n",
       "      <td>1</td>\n",
       "      <td>3.35</td>\n",
       "      <td>6.0</td>\n",
       "      <td>6.0</td>\n",
       "      <td>-3.0</td>\n",
       "      <td>-1.0</td>\n",
       "      <td>-3.000000</td>\n",
       "      <td>-2.000000</td>\n",
       "      <td>0.0000</td>\n",
       "      <td>-2.000000</td>\n",
       "    </tr>\n",
       "    <tr>\n",
       "      <th>4</th>\n",
       "      <td>5.0</td>\n",
       "      <td>927</td>\n",
       "      <td>1.0</td>\n",
       "      <td>707</td>\n",
       "      <td>5.0</td>\n",
       "      <td>556</td>\n",
       "      <td>4.0</td>\n",
       "      <td>1062</td>\n",
       "      <td>5.0</td>\n",
       "      <td>1014</td>\n",
       "      <td>...</td>\n",
       "      <td>1</td>\n",
       "      <td>3.00</td>\n",
       "      <td>2.0</td>\n",
       "      <td>5.0</td>\n",
       "      <td>-1.0</td>\n",
       "      <td>-1.0</td>\n",
       "      <td>1.588953</td>\n",
       "      <td>-5.000000</td>\n",
       "      <td>-4.0000</td>\n",
       "      <td>-3.956082</td>\n",
       "    </tr>\n",
       "  </tbody>\n",
       "</table>\n",
       "<p>5 rows × 76 columns</p>\n",
       "</div>"
      ],
      "text/plain": [
       "       QaA   QaE  QbA   QbE  QcA   QcE  QdA   QdE  QeA   QeE  ...  wr_13  \\\n",
       "index                                                         ...          \n",
       "0      3.0   363  4.0  1370  5.0   997  5.0  1024  4.0  1577  ...      1   \n",
       "1      1.0   647  5.0  1313  3.0  3387  1.0  2969  5.0  4320  ...      1   \n",
       "2      2.0  1623  1.0  1480  1.0  1021  2.0  3374  1.0  1333  ...      1   \n",
       "3      3.0   504  3.0  2311  4.0   992  3.0  3245  5.0   357  ...      1   \n",
       "4      5.0   927  1.0   707  5.0   556  4.0  1062  5.0  1014  ...      1   \n",
       "\n",
       "       Mach_score    T    V    M  Extraversion  Agreeableness  \\\n",
       "index                                                           \n",
       "0            2.95  4.0  6.0 -2.0           1.0       5.000000   \n",
       "1            2.60  0.0  4.0 -1.0          -1.0       2.000000   \n",
       "2            1.90 -3.0  4.0 -1.0          -2.0      -1.000000   \n",
       "3            3.35  6.0  6.0 -3.0          -1.0      -3.000000   \n",
       "4            3.00  2.0  5.0 -1.0          -1.0       1.588953   \n",
       "\n",
       "       Conscientiousness  Emotional_Stability  Openness_to_Experiences  \n",
       "index                                                                   \n",
       "0              -2.000000               3.0000                -1.000000  \n",
       "1              -1.628942              -0.6306                -3.000000  \n",
       "2              -5.000000              -4.0000                 0.000000  \n",
       "3              -2.000000               0.0000                -2.000000  \n",
       "4              -5.000000              -4.0000                -3.956082  \n",
       "\n",
       "[5 rows x 76 columns]"
      ]
     },
     "execution_count": 26,
     "metadata": {},
     "output_type": "execute_result"
    }
   ],
   "source": [
    "train['Mach_score'] = train[Answers].mean(axis = 1)\n",
    "test['Mach_score'] = test[Answers].mean(axis = 1)\n",
    "train.head()"
   ]
  },
  {
   "cell_type": "code",
   "execution_count": 27,
   "metadata": {
    "ExecuteTime": {
     "end_time": "2020-12-19T15:10:46.241198Z",
     "start_time": "2020-12-19T15:10:45.052469Z"
    },
    "lines_to_next_cell": 2
   },
   "outputs": [
    {
     "data": {
      "text/plain": [
       "<matplotlib.axes._subplots.AxesSubplot at 0x24199fe1ec8>"
      ]
     },
     "execution_count": 27,
     "metadata": {},
     "output_type": "execute_result"
    },
    {
     "data": {
      "image/png": "[encoded data removed]",
      "text/plain": [
       "<Figure size 576x432 with 1 Axes>"
      ]
     },
     "metadata": {
      "needs_background": "light"
     },
     "output_type": "display_data"
    }
   ],
   "source": [
    "%matplotlib inline\n",
    "plt.figure(figsize = (8,6))\n",
    "plt.xticks(rotation=90)\n",
    "sns.countplot(data = train, x = 'Mach_score', hue = train['voted'])"
   ]
  },
  {
   "cell_type": "code",
   "execution_count": 28,
   "metadata": {
    "ExecuteTime": {
     "end_time": "2020-12-19T15:10:46.273112Z",
     "start_time": "2020-12-19T15:10:46.243193Z"
    }
   },
   "outputs": [],
   "source": [
    "train = train.drop(Answers, axis = 1)\n",
    "test = test.drop(Answers, axis = 1)"
   ]
  },
  {
   "cell_type": "code",
   "execution_count": 29,
   "metadata": {
    "ExecuteTime": {
     "end_time": "2020-12-19T15:10:46.385930Z",
     "start_time": "2020-12-19T15:10:46.276104Z"
    }
   },
   "outputs": [],
   "source": [
    "실존 = ['wr_01','wr_02','wr_03','wr_04','wr_05','wr_06','wr_07','wr_08','wr_09','wr_10','wr_11','wr_12','wr_13']\n",
    "허구 = ['wf_01','wf_02','wf_03']\n",
    "\n",
    "\n",
    "train['wr_sum']=train[실존].agg('sum',axis=1)\n",
    "train = train.drop(실존, axis = 1)\n",
    "train['wf_sum']=train[허구].agg('sum',axis=1)\n",
    "train = train.drop(허구, axis = 1)\n",
    "\n",
    "\n",
    "test['wr_sum']=test[실존].agg('sum',axis=1)\n",
    "test['wf_sum']=test[허구].agg('sum',axis=1)\n",
    "\n",
    "test = test.drop(실존, axis = 1)\n",
    "test = test.drop(허구, axis = 1)"
   ]
  },
  {
   "cell_type": "code",
   "execution_count": 30,
   "metadata": {
    "ExecuteTime": {
     "end_time": "2020-12-19T15:10:46.623400Z",
     "start_time": "2020-12-19T15:10:46.387924Z"
    },
    "lines_to_next_cell": 2
   },
   "outputs": [
    {
     "data": {
      "text/plain": [
       "<matplotlib.axes._subplots.AxesSubplot at 0x2419f8b1608>"
      ]
     },
     "execution_count": 30,
     "metadata": {},
     "output_type": "execute_result"
    },
    {
     "data": {
      "image/png": "[encoded data removed]",
      "text/plain": [
       "<Figure size 576x432 with 1 Axes>"
      ]
     },
     "metadata": {
      "needs_background": "light"
     },
     "output_type": "display_data"
    }
   ],
   "source": [
    "plt.figure(figsize = (8,6))\n",
    "sns.countplot(data = train, x = 'wr_sum', hue = train['voted'])"
   ]
  },
  {
   "cell_type": "code",
   "execution_count": 31,
   "metadata": {
    "ExecuteTime": {
     "end_time": "2020-12-19T15:10:46.785964Z",
     "start_time": "2020-12-19T15:10:46.625418Z"
    }
   },
   "outputs": [
    {
     "data": {
      "text/plain": [
       "<matplotlib.axes._subplots.AxesSubplot at 0x2419ff81888>"
      ]
     },
     "execution_count": 31,
     "metadata": {},
     "output_type": "execute_result"
    },
    {
     "data": {
      "image/png": "[encoded data removed]",
      "text/plain": [
       "<Figure size 576x432 with 1 Axes>"
      ]
     },
     "metadata": {
      "needs_background": "light"
     },
     "output_type": "display_data"
    }
   ],
   "source": [
    "plt.figure(figsize = (8,6))\n",
    "sns.countplot(data = train, x = 'wf_sum', hue = train['voted'])"
   ]
  },
  {
   "cell_type": "code",
   "execution_count": 32,
   "metadata": {
    "ExecuteTime": {
     "end_time": "2020-12-19T15:10:46.790922Z",
     "start_time": "2020-12-19T15:10:46.786935Z"
    }
   },
   "outputs": [],
   "source": [
    "word=['Extraversion'\n",
    "'Agreeableness'\n",
    "'Conscientiousness'\n",
    "'Emotional_Stability'\n",
    "'Openness_to_Experiences']"
   ]
  },
  {
   "cell_type": "code",
   "execution_count": 33,
   "metadata": {
    "ExecuteTime": {
     "end_time": "2020-12-19T15:10:47.180280Z",
     "start_time": "2020-12-19T15:10:46.792944Z"
    }
   },
   "outputs": [
    {
     "data": {
      "text/plain": [
       "<matplotlib.axes._subplots.AxesSubplot at 0x241a000a3c8>"
      ]
     },
     "execution_count": 33,
     "metadata": {},
     "output_type": "execute_result"
    },
    {
     "data": {
      "image/png": "[encoded data removed]",
      "text/plain": [
       "<Figure size 576x432 with 1 Axes>"
      ]
     },
     "metadata": {
      "needs_background": "light"
     },
     "output_type": "display_data"
    }
   ],
   "source": [
    "import matplotlib.pyplot as plt\n",
    "plt.figure(figsize = (8,6))\n",
    "sns.countplot(data = train, x = 'Extraversion', hue = train['voted'])"
   ]
  },
  {
   "cell_type": "code",
   "execution_count": 34,
   "metadata": {
    "ExecuteTime": {
     "end_time": "2020-12-19T15:10:47.588208Z",
     "start_time": "2020-12-19T15:10:47.182265Z"
    }
   },
   "outputs": [
    {
     "data": {
      "text/plain": [
       "<matplotlib.axes._subplots.AxesSubplot at 0x241a04d8a48>"
      ]
     },
     "execution_count": 34,
     "metadata": {},
     "output_type": "execute_result"
    },
    {
     "data": {
      "image/png": "[encoded data removed]",
      "text/plain": [
       "<Figure size 576x432 with 1 Axes>"
      ]
     },
     "metadata": {
      "needs_background": "light"
     },
     "output_type": "display_data"
    }
   ],
   "source": [
    "import matplotlib.pyplot as plt\n",
    "%matplotlib inline\n",
    "plt.figure(figsize = (8,6))\n",
    "sns.countplot(data = train, x = 'Agreeableness', hue = train['voted'])"
   ]
  },
  {
   "cell_type": "code",
   "execution_count": 35,
   "metadata": {
    "ExecuteTime": {
     "end_time": "2020-12-19T15:10:47.974183Z",
     "start_time": "2020-12-19T15:10:47.590202Z"
    }
   },
   "outputs": [
    {
     "data": {
      "text/plain": [
       "<matplotlib.axes._subplots.AxesSubplot at 0x241a0621b48>"
      ]
     },
     "execution_count": 35,
     "metadata": {},
     "output_type": "execute_result"
    },
    {
     "data": {
      "image/png": "[encoded data removed]",
      "text/plain": [
       "<Figure size 576x432 with 1 Axes>"
      ]
     },
     "metadata": {
      "needs_background": "light"
     },
     "output_type": "display_data"
    }
   ],
   "source": [
    "\n",
    "import matplotlib.pyplot as plt\n",
    "%matplotlib inline\n",
    "plt.figure(figsize = (8,6))\n",
    "sns.countplot(data = train, x = 'Conscientiousness', hue = train['voted'])"
   ]
  },
  {
   "cell_type": "code",
   "execution_count": 36,
   "metadata": {
    "ExecuteTime": {
     "end_time": "2020-12-19T15:10:48.355202Z",
     "start_time": "2020-12-19T15:10:47.976181Z"
    }
   },
   "outputs": [
    {
     "data": {
      "text/plain": [
       "<matplotlib.axes._subplots.AxesSubplot at 0x2419ff4a288>"
      ]
     },
     "execution_count": 36,
     "metadata": {},
     "output_type": "execute_result"
    },
    {
     "data": {
      "image/png": "[encoded data removed]",
      "text/plain": [
       "<Figure size 576x432 with 1 Axes>"
      ]
     },
     "metadata": {
      "needs_background": "light"
     },
     "output_type": "display_data"
    }
   ],
   "source": [
    "import matplotlib.pyplot as plt\n",
    "%matplotlib inline\n",
    "plt.figure(figsize = (8,6))\n",
    "sns.countplot(data = train, x = 'Emotional_Stability', hue = train['voted'])"
   ]
  },
  {
   "cell_type": "code",
   "execution_count": 37,
   "metadata": {
    "ExecuteTime": {
     "end_time": "2020-12-19T15:10:48.699254Z",
     "start_time": "2020-12-19T15:10:48.357163Z"
    }
   },
   "outputs": [
    {
     "data": {
      "text/plain": [
       "<matplotlib.axes._subplots.AxesSubplot at 0x241a092ffc8>"
      ]
     },
     "execution_count": 37,
     "metadata": {},
     "output_type": "execute_result"
    },
    {
     "data": {
      "image/png": "[encoded data removed]",
      "text/plain": [
       "<Figure size 576x432 with 1 Axes>"
      ]
     },
     "metadata": {
      "needs_background": "light"
     },
     "output_type": "display_data"
    }
   ],
   "source": [
    "import matplotlib.pyplot as plt\n",
    "%matplotlib inline\n",
    "plt.figure(figsize = (8,6))\n",
    "sns.countplot(data = train, x = 'Openness_to_Experiences', hue = train['voted'])"
   ]
  },
  {
   "cell_type": "code",
   "execution_count": 38,
   "metadata": {
    "ExecuteTime": {
     "end_time": "2020-12-19T15:10:48.754198Z",
     "start_time": "2020-12-19T15:10:48.701218Z"
    }
   },
   "outputs": [],
   "source": [
    "train=pd.get_dummies(train,drop_first=True)\n",
    "test=pd.get_dummies(test,drop_first=True)"
   ]
  },
  {
   "cell_type": "code",
   "execution_count": 39,
   "metadata": {
    "ExecuteTime": {
     "end_time": "2020-12-19T15:10:48.760063Z",
     "start_time": "2020-12-19T15:10:48.756099Z"
    }
   },
   "outputs": [],
   "source": [
    "#import numpy as np\n",
    "#Corr_list = train.corr().index[abs(train.corr()[\"voted\"])>=0.1]\n",
    "#Corr_list"
   ]
  },
  {
   "cell_type": "code",
   "execution_count": 40,
   "metadata": {
    "ExecuteTime": {
     "end_time": "2020-12-19T15:10:48.766061Z",
     "start_time": "2020-12-19T15:10:48.762056Z"
    }
   },
   "outputs": [],
   "source": [
    "#import matplotlib.pyplot as plt # 여러 시각화 도구들\n",
    "#import seaborn as sns #\n",
    "#plt.figure(figsize=(20,18))\n",
    "#sns.heatmap(data=train[Corr_list].corr() ,annot=True, cmap=\"RdYlGn\")\n",
    "#plt.show()"
   ]
  },
  {
   "cell_type": "code",
   "execution_count": 41,
   "metadata": {
    "ExecuteTime": {
     "end_time": "2020-12-19T15:10:48.773026Z",
     "start_time": "2020-12-19T15:10:48.768038Z"
    }
   },
   "outputs": [],
   "source": [
    "#test"
   ]
  },
  {
   "cell_type": "code",
   "execution_count": 42,
   "metadata": {
    "ExecuteTime": {
     "end_time": "2020-12-19T15:10:48.780015Z",
     "start_time": "2020-12-19T15:10:48.776018Z"
    }
   },
   "outputs": [],
   "source": [
    "#train=train[Corr_list]\n",
    "#a=Corr_list.tolist()\n",
    "#a.remove('voted')\n",
    "#test=test[a]"
   ]
  },
  {
   "cell_type": "code",
   "execution_count": 43,
   "metadata": {
    "ExecuteTime": {
     "end_time": "2020-12-19T15:10:48.814974Z",
     "start_time": "2020-12-19T15:10:48.782002Z"
    }
   },
   "outputs": [
    {
     "data": {
      "text/html": [
       "<div>\n",
       "<style scoped>\n",
       "    .dataframe tbody tr th:only-of-type {\n",
       "        vertical-align: middle;\n",
       "    }\n",
       "\n",
       "    .dataframe tbody tr th {\n",
       "        vertical-align: top;\n",
       "    }\n",
       "\n",
       "    .dataframe thead th {\n",
       "        text-align: right;\n",
       "    }\n",
       "</style>\n",
       "<table border=\"1\" class=\"dataframe\">\n",
       "  <thead>\n",
       "    <tr style=\"text-align: right;\">\n",
       "      <th></th>\n",
       "      <th>QaE</th>\n",
       "      <th>QbE</th>\n",
       "      <th>QcE</th>\n",
       "      <th>QdE</th>\n",
       "      <th>QeE</th>\n",
       "      <th>QfE</th>\n",
       "      <th>QgE</th>\n",
       "      <th>QhE</th>\n",
       "      <th>QiE</th>\n",
       "      <th>QjE</th>\n",
       "      <th>...</th>\n",
       "      <th>religion_Buddhist</th>\n",
       "      <th>religion_Christian_Catholic</th>\n",
       "      <th>religion_Christian_Mormon</th>\n",
       "      <th>religion_Christian_Other</th>\n",
       "      <th>religion_Christian_Protestant</th>\n",
       "      <th>religion_Hindu</th>\n",
       "      <th>religion_Jewish</th>\n",
       "      <th>religion_Muslim</th>\n",
       "      <th>religion_Other</th>\n",
       "      <th>religion_Sikh</th>\n",
       "    </tr>\n",
       "    <tr>\n",
       "      <th>index</th>\n",
       "      <th></th>\n",
       "      <th></th>\n",
       "      <th></th>\n",
       "      <th></th>\n",
       "      <th></th>\n",
       "      <th></th>\n",
       "      <th></th>\n",
       "      <th></th>\n",
       "      <th></th>\n",
       "      <th></th>\n",
       "      <th></th>\n",
       "      <th></th>\n",
       "      <th></th>\n",
       "      <th></th>\n",
       "      <th></th>\n",
       "      <th></th>\n",
       "      <th></th>\n",
       "      <th></th>\n",
       "      <th></th>\n",
       "      <th></th>\n",
       "      <th></th>\n",
       "    </tr>\n",
       "  </thead>\n",
       "  <tbody>\n",
       "    <tr>\n",
       "      <th>0</th>\n",
       "      <td>363</td>\n",
       "      <td>1370</td>\n",
       "      <td>997</td>\n",
       "      <td>1024</td>\n",
       "      <td>1577</td>\n",
       "      <td>539</td>\n",
       "      <td>586</td>\n",
       "      <td>1095</td>\n",
       "      <td>1142</td>\n",
       "      <td>1287</td>\n",
       "      <td>...</td>\n",
       "      <td>0</td>\n",
       "      <td>0</td>\n",
       "      <td>0</td>\n",
       "      <td>0</td>\n",
       "      <td>0</td>\n",
       "      <td>0</td>\n",
       "      <td>0</td>\n",
       "      <td>0</td>\n",
       "      <td>1</td>\n",
       "      <td>0</td>\n",
       "    </tr>\n",
       "    <tr>\n",
       "      <th>1</th>\n",
       "      <td>647</td>\n",
       "      <td>1313</td>\n",
       "      <td>3387</td>\n",
       "      <td>2969</td>\n",
       "      <td>4320</td>\n",
       "      <td>2190</td>\n",
       "      <td>826</td>\n",
       "      <td>4082</td>\n",
       "      <td>1867</td>\n",
       "      <td>1264</td>\n",
       "      <td>...</td>\n",
       "      <td>0</td>\n",
       "      <td>0</td>\n",
       "      <td>0</td>\n",
       "      <td>0</td>\n",
       "      <td>0</td>\n",
       "      <td>1</td>\n",
       "      <td>0</td>\n",
       "      <td>0</td>\n",
       "      <td>0</td>\n",
       "      <td>0</td>\n",
       "    </tr>\n",
       "    <tr>\n",
       "      <th>2</th>\n",
       "      <td>1623</td>\n",
       "      <td>1480</td>\n",
       "      <td>1021</td>\n",
       "      <td>3374</td>\n",
       "      <td>1333</td>\n",
       "      <td>531</td>\n",
       "      <td>1167</td>\n",
       "      <td>1016</td>\n",
       "      <td>2653</td>\n",
       "      <td>1569</td>\n",
       "      <td>...</td>\n",
       "      <td>0</td>\n",
       "      <td>0</td>\n",
       "      <td>0</td>\n",
       "      <td>0</td>\n",
       "      <td>0</td>\n",
       "      <td>0</td>\n",
       "      <td>0</td>\n",
       "      <td>0</td>\n",
       "      <td>1</td>\n",
       "      <td>0</td>\n",
       "    </tr>\n",
       "    <tr>\n",
       "      <th>3</th>\n",
       "      <td>504</td>\n",
       "      <td>2311</td>\n",
       "      <td>992</td>\n",
       "      <td>3245</td>\n",
       "      <td>357</td>\n",
       "      <td>1519</td>\n",
       "      <td>159</td>\n",
       "      <td>2275</td>\n",
       "      <td>2809</td>\n",
       "      <td>5614</td>\n",
       "      <td>...</td>\n",
       "      <td>0</td>\n",
       "      <td>0</td>\n",
       "      <td>0</td>\n",
       "      <td>0</td>\n",
       "      <td>0</td>\n",
       "      <td>1</td>\n",
       "      <td>0</td>\n",
       "      <td>0</td>\n",
       "      <td>0</td>\n",
       "      <td>0</td>\n",
       "    </tr>\n",
       "    <tr>\n",
       "      <th>4</th>\n",
       "      <td>927</td>\n",
       "      <td>707</td>\n",
       "      <td>556</td>\n",
       "      <td>1062</td>\n",
       "      <td>1014</td>\n",
       "      <td>628</td>\n",
       "      <td>991</td>\n",
       "      <td>1259</td>\n",
       "      <td>1153</td>\n",
       "      <td>1388</td>\n",
       "      <td>...</td>\n",
       "      <td>0</td>\n",
       "      <td>0</td>\n",
       "      <td>0</td>\n",
       "      <td>0</td>\n",
       "      <td>0</td>\n",
       "      <td>0</td>\n",
       "      <td>0</td>\n",
       "      <td>0</td>\n",
       "      <td>0</td>\n",
       "      <td>0</td>\n",
       "    </tr>\n",
       "    <tr>\n",
       "      <th>...</th>\n",
       "      <td>...</td>\n",
       "      <td>...</td>\n",
       "      <td>...</td>\n",
       "      <td>...</td>\n",
       "      <td>...</td>\n",
       "      <td>...</td>\n",
       "      <td>...</td>\n",
       "      <td>...</td>\n",
       "      <td>...</td>\n",
       "      <td>...</td>\n",
       "      <td>...</td>\n",
       "      <td>...</td>\n",
       "      <td>...</td>\n",
       "      <td>...</td>\n",
       "      <td>...</td>\n",
       "      <td>...</td>\n",
       "      <td>...</td>\n",
       "      <td>...</td>\n",
       "      <td>...</td>\n",
       "      <td>...</td>\n",
       "      <td>...</td>\n",
       "    </tr>\n",
       "    <tr>\n",
       "      <th>45527</th>\n",
       "      <td>1050</td>\n",
       "      <td>619</td>\n",
       "      <td>328</td>\n",
       "      <td>285</td>\n",
       "      <td>602</td>\n",
       "      <td>267</td>\n",
       "      <td>315</td>\n",
       "      <td>483</td>\n",
       "      <td>1016</td>\n",
       "      <td>278</td>\n",
       "      <td>...</td>\n",
       "      <td>0</td>\n",
       "      <td>0</td>\n",
       "      <td>0</td>\n",
       "      <td>0</td>\n",
       "      <td>0</td>\n",
       "      <td>0</td>\n",
       "      <td>1</td>\n",
       "      <td>0</td>\n",
       "      <td>0</td>\n",
       "      <td>0</td>\n",
       "    </tr>\n",
       "    <tr>\n",
       "      <th>45528</th>\n",
       "      <td>581</td>\n",
       "      <td>1353</td>\n",
       "      <td>1164</td>\n",
       "      <td>798</td>\n",
       "      <td>1680</td>\n",
       "      <td>560</td>\n",
       "      <td>640</td>\n",
       "      <td>1415</td>\n",
       "      <td>4494</td>\n",
       "      <td>1392</td>\n",
       "      <td>...</td>\n",
       "      <td>0</td>\n",
       "      <td>0</td>\n",
       "      <td>0</td>\n",
       "      <td>0</td>\n",
       "      <td>0</td>\n",
       "      <td>0</td>\n",
       "      <td>0</td>\n",
       "      <td>0</td>\n",
       "      <td>0</td>\n",
       "      <td>0</td>\n",
       "    </tr>\n",
       "    <tr>\n",
       "      <th>45529</th>\n",
       "      <td>593</td>\n",
       "      <td>857</td>\n",
       "      <td>1047</td>\n",
       "      <td>1515</td>\n",
       "      <td>1690</td>\n",
       "      <td>1253</td>\n",
       "      <td>1094</td>\n",
       "      <td>1283</td>\n",
       "      <td>2209</td>\n",
       "      <td>1764</td>\n",
       "      <td>...</td>\n",
       "      <td>0</td>\n",
       "      <td>0</td>\n",
       "      <td>0</td>\n",
       "      <td>1</td>\n",
       "      <td>0</td>\n",
       "      <td>0</td>\n",
       "      <td>0</td>\n",
       "      <td>0</td>\n",
       "      <td>0</td>\n",
       "      <td>0</td>\n",
       "    </tr>\n",
       "    <tr>\n",
       "      <th>45530</th>\n",
       "      <td>747</td>\n",
       "      <td>1331</td>\n",
       "      <td>892</td>\n",
       "      <td>1281</td>\n",
       "      <td>1328</td>\n",
       "      <td>599</td>\n",
       "      <td>650</td>\n",
       "      <td>1429</td>\n",
       "      <td>1748</td>\n",
       "      <td>770</td>\n",
       "      <td>...</td>\n",
       "      <td>0</td>\n",
       "      <td>0</td>\n",
       "      <td>0</td>\n",
       "      <td>0</td>\n",
       "      <td>0</td>\n",
       "      <td>0</td>\n",
       "      <td>0</td>\n",
       "      <td>0</td>\n",
       "      <td>0</td>\n",
       "      <td>0</td>\n",
       "    </tr>\n",
       "    <tr>\n",
       "      <th>45531</th>\n",
       "      <td>496</td>\n",
       "      <td>1827</td>\n",
       "      <td>754</td>\n",
       "      <td>1117</td>\n",
       "      <td>432</td>\n",
       "      <td>1422</td>\n",
       "      <td>545</td>\n",
       "      <td>1696</td>\n",
       "      <td>2172</td>\n",
       "      <td>7076</td>\n",
       "      <td>...</td>\n",
       "      <td>0</td>\n",
       "      <td>0</td>\n",
       "      <td>0</td>\n",
       "      <td>0</td>\n",
       "      <td>0</td>\n",
       "      <td>0</td>\n",
       "      <td>0</td>\n",
       "      <td>0</td>\n",
       "      <td>0</td>\n",
       "      <td>0</td>\n",
       "    </tr>\n",
       "  </tbody>\n",
       "</table>\n",
       "<p>45532 rows × 62 columns</p>\n",
       "</div>"
      ],
      "text/plain": [
       "        QaE   QbE   QcE   QdE   QeE   QfE   QgE   QhE   QiE   QjE  ...  \\\n",
       "index                                                              ...   \n",
       "0       363  1370   997  1024  1577   539   586  1095  1142  1287  ...   \n",
       "1       647  1313  3387  2969  4320  2190   826  4082  1867  1264  ...   \n",
       "2      1623  1480  1021  3374  1333   531  1167  1016  2653  1569  ...   \n",
       "3       504  2311   992  3245   357  1519   159  2275  2809  5614  ...   \n",
       "4       927   707   556  1062  1014   628   991  1259  1153  1388  ...   \n",
       "...     ...   ...   ...   ...   ...   ...   ...   ...   ...   ...  ...   \n",
       "45527  1050   619   328   285   602   267   315   483  1016   278  ...   \n",
       "45528   581  1353  1164   798  1680   560   640  1415  4494  1392  ...   \n",
       "45529   593   857  1047  1515  1690  1253  1094  1283  2209  1764  ...   \n",
       "45530   747  1331   892  1281  1328   599   650  1429  1748   770  ...   \n",
       "45531   496  1827   754  1117   432  1422   545  1696  2172  7076  ...   \n",
       "\n",
       "       religion_Buddhist  religion_Christian_Catholic  \\\n",
       "index                                                   \n",
       "0                      0                            0   \n",
       "1                      0                            0   \n",
       "2                      0                            0   \n",
       "3                      0                            0   \n",
       "4                      0                            0   \n",
       "...                  ...                          ...   \n",
       "45527                  0                            0   \n",
       "45528                  0                            0   \n",
       "45529                  0                            0   \n",
       "45530                  0                            0   \n",
       "45531                  0                            0   \n",
       "\n",
       "       religion_Christian_Mormon  religion_Christian_Other  \\\n",
       "index                                                        \n",
       "0                              0                         0   \n",
       "1                              0                         0   \n",
       "2                              0                         0   \n",
       "3                              0                         0   \n",
       "4                              0                         0   \n",
       "...                          ...                       ...   \n",
       "45527                          0                         0   \n",
       "45528                          0                         0   \n",
       "45529                          0                         1   \n",
       "45530                          0                         0   \n",
       "45531                          0                         0   \n",
       "\n",
       "       religion_Christian_Protestant  religion_Hindu  religion_Jewish  \\\n",
       "index                                                                   \n",
       "0                                  0               0                0   \n",
       "1                                  0               1                0   \n",
       "2                                  0               0                0   \n",
       "3                                  0               1                0   \n",
       "4                                  0               0                0   \n",
       "...                              ...             ...              ...   \n",
       "45527                              0               0                1   \n",
       "45528                              0               0                0   \n",
       "45529                              0               0                0   \n",
       "45530                              0               0                0   \n",
       "45531                              0               0                0   \n",
       "\n",
       "       religion_Muslim  religion_Other  religion_Sikh  \n",
       "index                                                  \n",
       "0                    0               1              0  \n",
       "1                    0               0              0  \n",
       "2                    0               1              0  \n",
       "3                    0               0              0  \n",
       "4                    0               0              0  \n",
       "...                ...             ...            ...  \n",
       "45527                0               0              0  \n",
       "45528                0               0              0  \n",
       "45529                0               0              0  \n",
       "45530                0               0              0  \n",
       "45531                0               0              0  \n",
       "\n",
       "[45532 rows x 62 columns]"
      ]
     },
     "execution_count": 43,
     "metadata": {},
     "output_type": "execute_result"
    }
   ],
   "source": [
    "train"
   ]
  },
  {
   "cell_type": "markdown",
   "metadata": {
    "ExecuteTime": {
     "end_time": "2020-12-19T12:54:20.815019Z",
     "start_time": "2020-12-19T12:54:20.811030Z"
    }
   },
   "source": [
    "# Modeling"
   ]
  },
  {
   "cell_type": "code",
   "execution_count": 44,
   "metadata": {
    "ExecuteTime": {
     "end_time": "2020-12-19T15:10:48.827931Z",
     "start_time": "2020-12-19T15:10:48.816962Z"
    }
   },
   "outputs": [],
   "source": [
    "from pycaret.classification import *"
   ]
  },
  {
   "cell_type": "code",
   "execution_count": 45,
   "metadata": {
    "ExecuteTime": {
     "end_time": "2020-12-19T15:18:33.200838Z",
     "start_time": "2020-12-19T15:10:48.829915Z"
    }
   },
   "outputs": [
    {
     "name": "stdout",
     "output_type": "stream",
     "text": [
      "Setup Succesfully Completed!\n"
     ]
    },
    {
     "data": {
      "text/html": [
       "<style  type=\"text/css\" >\n",
       "</style><table id=\"T_750c3dfe_420d_11eb_b771_d8c497d65f5e\" ><thead>    <tr>        <th class=\"blank level0\" ></th>        <th class=\"col_heading level0 col0\" >Description</th>        <th class=\"col_heading level0 col1\" >Value</th>    </tr></thead><tbody>\n",
       "                <tr>\n",
       "                        <th id=\"T_750c3dfe_420d_11eb_b771_d8c497d65f5elevel0_row0\" class=\"row_heading level0 row0\" >0</th>\n",
       "                        <td id=\"T_750c3dfe_420d_11eb_b771_d8c497d65f5erow0_col0\" class=\"data row0 col0\" >session_id</td>\n",
       "                        <td id=\"T_750c3dfe_420d_11eb_b771_d8c497d65f5erow0_col1\" class=\"data row0 col1\" >4868</td>\n",
       "            </tr>\n",
       "            <tr>\n",
       "                        <th id=\"T_750c3dfe_420d_11eb_b771_d8c497d65f5elevel0_row1\" class=\"row_heading level0 row1\" >1</th>\n",
       "                        <td id=\"T_750c3dfe_420d_11eb_b771_d8c497d65f5erow1_col0\" class=\"data row1 col0\" >Target Type</td>\n",
       "                        <td id=\"T_750c3dfe_420d_11eb_b771_d8c497d65f5erow1_col1\" class=\"data row1 col1\" >Binary</td>\n",
       "            </tr>\n",
       "            <tr>\n",
       "                        <th id=\"T_750c3dfe_420d_11eb_b771_d8c497d65f5elevel0_row2\" class=\"row_heading level0 row2\" >2</th>\n",
       "                        <td id=\"T_750c3dfe_420d_11eb_b771_d8c497d65f5erow2_col0\" class=\"data row2 col0\" >Label Encoded</td>\n",
       "                        <td id=\"T_750c3dfe_420d_11eb_b771_d8c497d65f5erow2_col1\" class=\"data row2 col1\" >1: 0, 2: 1</td>\n",
       "            </tr>\n",
       "            <tr>\n",
       "                        <th id=\"T_750c3dfe_420d_11eb_b771_d8c497d65f5elevel0_row3\" class=\"row_heading level0 row3\" >3</th>\n",
       "                        <td id=\"T_750c3dfe_420d_11eb_b771_d8c497d65f5erow3_col0\" class=\"data row3 col0\" >Original Data</td>\n",
       "                        <td id=\"T_750c3dfe_420d_11eb_b771_d8c497d65f5erow3_col1\" class=\"data row3 col1\" >(45532, 62)</td>\n",
       "            </tr>\n",
       "            <tr>\n",
       "                        <th id=\"T_750c3dfe_420d_11eb_b771_d8c497d65f5elevel0_row4\" class=\"row_heading level0 row4\" >4</th>\n",
       "                        <td id=\"T_750c3dfe_420d_11eb_b771_d8c497d65f5erow4_col0\" class=\"data row4 col0\" >Missing Values </td>\n",
       "                        <td id=\"T_750c3dfe_420d_11eb_b771_d8c497d65f5erow4_col1\" class=\"data row4 col1\" >False</td>\n",
       "            </tr>\n",
       "            <tr>\n",
       "                        <th id=\"T_750c3dfe_420d_11eb_b771_d8c497d65f5elevel0_row5\" class=\"row_heading level0 row5\" >5</th>\n",
       "                        <td id=\"T_750c3dfe_420d_11eb_b771_d8c497d65f5erow5_col0\" class=\"data row5 col0\" >Numeric Features </td>\n",
       "                        <td id=\"T_750c3dfe_420d_11eb_b771_d8c497d65f5erow5_col1\" class=\"data row5 col1\" >54</td>\n",
       "            </tr>\n",
       "            <tr>\n",
       "                        <th id=\"T_750c3dfe_420d_11eb_b771_d8c497d65f5elevel0_row6\" class=\"row_heading level0 row6\" >6</th>\n",
       "                        <td id=\"T_750c3dfe_420d_11eb_b771_d8c497d65f5erow6_col0\" class=\"data row6 col0\" >Categorical Features </td>\n",
       "                        <td id=\"T_750c3dfe_420d_11eb_b771_d8c497d65f5erow6_col1\" class=\"data row6 col1\" >7</td>\n",
       "            </tr>\n",
       "            <tr>\n",
       "                        <th id=\"T_750c3dfe_420d_11eb_b771_d8c497d65f5elevel0_row7\" class=\"row_heading level0 row7\" >7</th>\n",
       "                        <td id=\"T_750c3dfe_420d_11eb_b771_d8c497d65f5erow7_col0\" class=\"data row7 col0\" >Ordinal Features </td>\n",
       "                        <td id=\"T_750c3dfe_420d_11eb_b771_d8c497d65f5erow7_col1\" class=\"data row7 col1\" >False</td>\n",
       "            </tr>\n",
       "            <tr>\n",
       "                        <th id=\"T_750c3dfe_420d_11eb_b771_d8c497d65f5elevel0_row8\" class=\"row_heading level0 row8\" >8</th>\n",
       "                        <td id=\"T_750c3dfe_420d_11eb_b771_d8c497d65f5erow8_col0\" class=\"data row8 col0\" >High Cardinality Features </td>\n",
       "                        <td id=\"T_750c3dfe_420d_11eb_b771_d8c497d65f5erow8_col1\" class=\"data row8 col1\" >False</td>\n",
       "            </tr>\n",
       "            <tr>\n",
       "                        <th id=\"T_750c3dfe_420d_11eb_b771_d8c497d65f5elevel0_row9\" class=\"row_heading level0 row9\" >9</th>\n",
       "                        <td id=\"T_750c3dfe_420d_11eb_b771_d8c497d65f5erow9_col0\" class=\"data row9 col0\" >High Cardinality Method </td>\n",
       "                        <td id=\"T_750c3dfe_420d_11eb_b771_d8c497d65f5erow9_col1\" class=\"data row9 col1\" >None</td>\n",
       "            </tr>\n",
       "            <tr>\n",
       "                        <th id=\"T_750c3dfe_420d_11eb_b771_d8c497d65f5elevel0_row10\" class=\"row_heading level0 row10\" >10</th>\n",
       "                        <td id=\"T_750c3dfe_420d_11eb_b771_d8c497d65f5erow10_col0\" class=\"data row10 col0\" >Sampled Data</td>\n",
       "                        <td id=\"T_750c3dfe_420d_11eb_b771_d8c497d65f5erow10_col1\" class=\"data row10 col1\" >(36425, 62)</td>\n",
       "            </tr>\n",
       "            <tr>\n",
       "                        <th id=\"T_750c3dfe_420d_11eb_b771_d8c497d65f5elevel0_row11\" class=\"row_heading level0 row11\" >11</th>\n",
       "                        <td id=\"T_750c3dfe_420d_11eb_b771_d8c497d65f5erow11_col0\" class=\"data row11 col0\" >Transformed Train Set</td>\n",
       "                        <td id=\"T_750c3dfe_420d_11eb_b771_d8c497d65f5erow11_col1\" class=\"data row11 col1\" >(25497, 92)</td>\n",
       "            </tr>\n",
       "            <tr>\n",
       "                        <th id=\"T_750c3dfe_420d_11eb_b771_d8c497d65f5elevel0_row12\" class=\"row_heading level0 row12\" >12</th>\n",
       "                        <td id=\"T_750c3dfe_420d_11eb_b771_d8c497d65f5erow12_col0\" class=\"data row12 col0\" >Transformed Test Set</td>\n",
       "                        <td id=\"T_750c3dfe_420d_11eb_b771_d8c497d65f5erow12_col1\" class=\"data row12 col1\" >(10928, 92)</td>\n",
       "            </tr>\n",
       "            <tr>\n",
       "                        <th id=\"T_750c3dfe_420d_11eb_b771_d8c497d65f5elevel0_row13\" class=\"row_heading level0 row13\" >13</th>\n",
       "                        <td id=\"T_750c3dfe_420d_11eb_b771_d8c497d65f5erow13_col0\" class=\"data row13 col0\" >Numeric Imputer </td>\n",
       "                        <td id=\"T_750c3dfe_420d_11eb_b771_d8c497d65f5erow13_col1\" class=\"data row13 col1\" >mean</td>\n",
       "            </tr>\n",
       "            <tr>\n",
       "                        <th id=\"T_750c3dfe_420d_11eb_b771_d8c497d65f5elevel0_row14\" class=\"row_heading level0 row14\" >14</th>\n",
       "                        <td id=\"T_750c3dfe_420d_11eb_b771_d8c497d65f5erow14_col0\" class=\"data row14 col0\" >Categorical Imputer </td>\n",
       "                        <td id=\"T_750c3dfe_420d_11eb_b771_d8c497d65f5erow14_col1\" class=\"data row14 col1\" >constant</td>\n",
       "            </tr>\n",
       "            <tr>\n",
       "                        <th id=\"T_750c3dfe_420d_11eb_b771_d8c497d65f5elevel0_row15\" class=\"row_heading level0 row15\" >15</th>\n",
       "                        <td id=\"T_750c3dfe_420d_11eb_b771_d8c497d65f5erow15_col0\" class=\"data row15 col0\" >Normalize </td>\n",
       "                        <td id=\"T_750c3dfe_420d_11eb_b771_d8c497d65f5erow15_col1\" class=\"data row15 col1\" >False</td>\n",
       "            </tr>\n",
       "            <tr>\n",
       "                        <th id=\"T_750c3dfe_420d_11eb_b771_d8c497d65f5elevel0_row16\" class=\"row_heading level0 row16\" >16</th>\n",
       "                        <td id=\"T_750c3dfe_420d_11eb_b771_d8c497d65f5erow16_col0\" class=\"data row16 col0\" >Normalize Method </td>\n",
       "                        <td id=\"T_750c3dfe_420d_11eb_b771_d8c497d65f5erow16_col1\" class=\"data row16 col1\" >None</td>\n",
       "            </tr>\n",
       "            <tr>\n",
       "                        <th id=\"T_750c3dfe_420d_11eb_b771_d8c497d65f5elevel0_row17\" class=\"row_heading level0 row17\" >17</th>\n",
       "                        <td id=\"T_750c3dfe_420d_11eb_b771_d8c497d65f5erow17_col0\" class=\"data row17 col0\" >Transformation </td>\n",
       "                        <td id=\"T_750c3dfe_420d_11eb_b771_d8c497d65f5erow17_col1\" class=\"data row17 col1\" >False</td>\n",
       "            </tr>\n",
       "            <tr>\n",
       "                        <th id=\"T_750c3dfe_420d_11eb_b771_d8c497d65f5elevel0_row18\" class=\"row_heading level0 row18\" >18</th>\n",
       "                        <td id=\"T_750c3dfe_420d_11eb_b771_d8c497d65f5erow18_col0\" class=\"data row18 col0\" >Transformation Method </td>\n",
       "                        <td id=\"T_750c3dfe_420d_11eb_b771_d8c497d65f5erow18_col1\" class=\"data row18 col1\" >None</td>\n",
       "            </tr>\n",
       "            <tr>\n",
       "                        <th id=\"T_750c3dfe_420d_11eb_b771_d8c497d65f5elevel0_row19\" class=\"row_heading level0 row19\" >19</th>\n",
       "                        <td id=\"T_750c3dfe_420d_11eb_b771_d8c497d65f5erow19_col0\" class=\"data row19 col0\" >PCA </td>\n",
       "                        <td id=\"T_750c3dfe_420d_11eb_b771_d8c497d65f5erow19_col1\" class=\"data row19 col1\" >False</td>\n",
       "            </tr>\n",
       "            <tr>\n",
       "                        <th id=\"T_750c3dfe_420d_11eb_b771_d8c497d65f5elevel0_row20\" class=\"row_heading level0 row20\" >20</th>\n",
       "                        <td id=\"T_750c3dfe_420d_11eb_b771_d8c497d65f5erow20_col0\" class=\"data row20 col0\" >PCA Method </td>\n",
       "                        <td id=\"T_750c3dfe_420d_11eb_b771_d8c497d65f5erow20_col1\" class=\"data row20 col1\" >None</td>\n",
       "            </tr>\n",
       "            <tr>\n",
       "                        <th id=\"T_750c3dfe_420d_11eb_b771_d8c497d65f5elevel0_row21\" class=\"row_heading level0 row21\" >21</th>\n",
       "                        <td id=\"T_750c3dfe_420d_11eb_b771_d8c497d65f5erow21_col0\" class=\"data row21 col0\" >PCA Components </td>\n",
       "                        <td id=\"T_750c3dfe_420d_11eb_b771_d8c497d65f5erow21_col1\" class=\"data row21 col1\" >None</td>\n",
       "            </tr>\n",
       "            <tr>\n",
       "                        <th id=\"T_750c3dfe_420d_11eb_b771_d8c497d65f5elevel0_row22\" class=\"row_heading level0 row22\" >22</th>\n",
       "                        <td id=\"T_750c3dfe_420d_11eb_b771_d8c497d65f5erow22_col0\" class=\"data row22 col0\" >Ignore Low Variance </td>\n",
       "                        <td id=\"T_750c3dfe_420d_11eb_b771_d8c497d65f5erow22_col1\" class=\"data row22 col1\" >False</td>\n",
       "            </tr>\n",
       "            <tr>\n",
       "                        <th id=\"T_750c3dfe_420d_11eb_b771_d8c497d65f5elevel0_row23\" class=\"row_heading level0 row23\" >23</th>\n",
       "                        <td id=\"T_750c3dfe_420d_11eb_b771_d8c497d65f5erow23_col0\" class=\"data row23 col0\" >Combine Rare Levels </td>\n",
       "                        <td id=\"T_750c3dfe_420d_11eb_b771_d8c497d65f5erow23_col1\" class=\"data row23 col1\" >False</td>\n",
       "            </tr>\n",
       "            <tr>\n",
       "                        <th id=\"T_750c3dfe_420d_11eb_b771_d8c497d65f5elevel0_row24\" class=\"row_heading level0 row24\" >24</th>\n",
       "                        <td id=\"T_750c3dfe_420d_11eb_b771_d8c497d65f5erow24_col0\" class=\"data row24 col0\" >Rare Level Threshold </td>\n",
       "                        <td id=\"T_750c3dfe_420d_11eb_b771_d8c497d65f5erow24_col1\" class=\"data row24 col1\" >None</td>\n",
       "            </tr>\n",
       "            <tr>\n",
       "                        <th id=\"T_750c3dfe_420d_11eb_b771_d8c497d65f5elevel0_row25\" class=\"row_heading level0 row25\" >25</th>\n",
       "                        <td id=\"T_750c3dfe_420d_11eb_b771_d8c497d65f5erow25_col0\" class=\"data row25 col0\" >Numeric Binning </td>\n",
       "                        <td id=\"T_750c3dfe_420d_11eb_b771_d8c497d65f5erow25_col1\" class=\"data row25 col1\" >False</td>\n",
       "            </tr>\n",
       "            <tr>\n",
       "                        <th id=\"T_750c3dfe_420d_11eb_b771_d8c497d65f5elevel0_row26\" class=\"row_heading level0 row26\" >26</th>\n",
       "                        <td id=\"T_750c3dfe_420d_11eb_b771_d8c497d65f5erow26_col0\" class=\"data row26 col0\" >Remove Outliers </td>\n",
       "                        <td id=\"T_750c3dfe_420d_11eb_b771_d8c497d65f5erow26_col1\" class=\"data row26 col1\" >False</td>\n",
       "            </tr>\n",
       "            <tr>\n",
       "                        <th id=\"T_750c3dfe_420d_11eb_b771_d8c497d65f5elevel0_row27\" class=\"row_heading level0 row27\" >27</th>\n",
       "                        <td id=\"T_750c3dfe_420d_11eb_b771_d8c497d65f5erow27_col0\" class=\"data row27 col0\" >Outliers Threshold </td>\n",
       "                        <td id=\"T_750c3dfe_420d_11eb_b771_d8c497d65f5erow27_col1\" class=\"data row27 col1\" >None</td>\n",
       "            </tr>\n",
       "            <tr>\n",
       "                        <th id=\"T_750c3dfe_420d_11eb_b771_d8c497d65f5elevel0_row28\" class=\"row_heading level0 row28\" >28</th>\n",
       "                        <td id=\"T_750c3dfe_420d_11eb_b771_d8c497d65f5erow28_col0\" class=\"data row28 col0\" >Remove Multicollinearity </td>\n",
       "                        <td id=\"T_750c3dfe_420d_11eb_b771_d8c497d65f5erow28_col1\" class=\"data row28 col1\" >False</td>\n",
       "            </tr>\n",
       "            <tr>\n",
       "                        <th id=\"T_750c3dfe_420d_11eb_b771_d8c497d65f5elevel0_row29\" class=\"row_heading level0 row29\" >29</th>\n",
       "                        <td id=\"T_750c3dfe_420d_11eb_b771_d8c497d65f5erow29_col0\" class=\"data row29 col0\" >Multicollinearity Threshold </td>\n",
       "                        <td id=\"T_750c3dfe_420d_11eb_b771_d8c497d65f5erow29_col1\" class=\"data row29 col1\" >None</td>\n",
       "            </tr>\n",
       "            <tr>\n",
       "                        <th id=\"T_750c3dfe_420d_11eb_b771_d8c497d65f5elevel0_row30\" class=\"row_heading level0 row30\" >30</th>\n",
       "                        <td id=\"T_750c3dfe_420d_11eb_b771_d8c497d65f5erow30_col0\" class=\"data row30 col0\" >Clustering </td>\n",
       "                        <td id=\"T_750c3dfe_420d_11eb_b771_d8c497d65f5erow30_col1\" class=\"data row30 col1\" >False</td>\n",
       "            </tr>\n",
       "            <tr>\n",
       "                        <th id=\"T_750c3dfe_420d_11eb_b771_d8c497d65f5elevel0_row31\" class=\"row_heading level0 row31\" >31</th>\n",
       "                        <td id=\"T_750c3dfe_420d_11eb_b771_d8c497d65f5erow31_col0\" class=\"data row31 col0\" >Clustering Iteration </td>\n",
       "                        <td id=\"T_750c3dfe_420d_11eb_b771_d8c497d65f5erow31_col1\" class=\"data row31 col1\" >None</td>\n",
       "            </tr>\n",
       "            <tr>\n",
       "                        <th id=\"T_750c3dfe_420d_11eb_b771_d8c497d65f5elevel0_row32\" class=\"row_heading level0 row32\" >32</th>\n",
       "                        <td id=\"T_750c3dfe_420d_11eb_b771_d8c497d65f5erow32_col0\" class=\"data row32 col0\" >Polynomial Features </td>\n",
       "                        <td id=\"T_750c3dfe_420d_11eb_b771_d8c497d65f5erow32_col1\" class=\"data row32 col1\" >False</td>\n",
       "            </tr>\n",
       "            <tr>\n",
       "                        <th id=\"T_750c3dfe_420d_11eb_b771_d8c497d65f5elevel0_row33\" class=\"row_heading level0 row33\" >33</th>\n",
       "                        <td id=\"T_750c3dfe_420d_11eb_b771_d8c497d65f5erow33_col0\" class=\"data row33 col0\" >Polynomial Degree </td>\n",
       "                        <td id=\"T_750c3dfe_420d_11eb_b771_d8c497d65f5erow33_col1\" class=\"data row33 col1\" >None</td>\n",
       "            </tr>\n",
       "            <tr>\n",
       "                        <th id=\"T_750c3dfe_420d_11eb_b771_d8c497d65f5elevel0_row34\" class=\"row_heading level0 row34\" >34</th>\n",
       "                        <td id=\"T_750c3dfe_420d_11eb_b771_d8c497d65f5erow34_col0\" class=\"data row34 col0\" >Trignometry Features </td>\n",
       "                        <td id=\"T_750c3dfe_420d_11eb_b771_d8c497d65f5erow34_col1\" class=\"data row34 col1\" >False</td>\n",
       "            </tr>\n",
       "            <tr>\n",
       "                        <th id=\"T_750c3dfe_420d_11eb_b771_d8c497d65f5elevel0_row35\" class=\"row_heading level0 row35\" >35</th>\n",
       "                        <td id=\"T_750c3dfe_420d_11eb_b771_d8c497d65f5erow35_col0\" class=\"data row35 col0\" >Polynomial Threshold </td>\n",
       "                        <td id=\"T_750c3dfe_420d_11eb_b771_d8c497d65f5erow35_col1\" class=\"data row35 col1\" >None</td>\n",
       "            </tr>\n",
       "            <tr>\n",
       "                        <th id=\"T_750c3dfe_420d_11eb_b771_d8c497d65f5elevel0_row36\" class=\"row_heading level0 row36\" >36</th>\n",
       "                        <td id=\"T_750c3dfe_420d_11eb_b771_d8c497d65f5erow36_col0\" class=\"data row36 col0\" >Group Features </td>\n",
       "                        <td id=\"T_750c3dfe_420d_11eb_b771_d8c497d65f5erow36_col1\" class=\"data row36 col1\" >False</td>\n",
       "            </tr>\n",
       "            <tr>\n",
       "                        <th id=\"T_750c3dfe_420d_11eb_b771_d8c497d65f5elevel0_row37\" class=\"row_heading level0 row37\" >37</th>\n",
       "                        <td id=\"T_750c3dfe_420d_11eb_b771_d8c497d65f5erow37_col0\" class=\"data row37 col0\" >Feature Selection </td>\n",
       "                        <td id=\"T_750c3dfe_420d_11eb_b771_d8c497d65f5erow37_col1\" class=\"data row37 col1\" >False</td>\n",
       "            </tr>\n",
       "            <tr>\n",
       "                        <th id=\"T_750c3dfe_420d_11eb_b771_d8c497d65f5elevel0_row38\" class=\"row_heading level0 row38\" >38</th>\n",
       "                        <td id=\"T_750c3dfe_420d_11eb_b771_d8c497d65f5erow38_col0\" class=\"data row38 col0\" >Features Selection Threshold </td>\n",
       "                        <td id=\"T_750c3dfe_420d_11eb_b771_d8c497d65f5erow38_col1\" class=\"data row38 col1\" >None</td>\n",
       "            </tr>\n",
       "            <tr>\n",
       "                        <th id=\"T_750c3dfe_420d_11eb_b771_d8c497d65f5elevel0_row39\" class=\"row_heading level0 row39\" >39</th>\n",
       "                        <td id=\"T_750c3dfe_420d_11eb_b771_d8c497d65f5erow39_col0\" class=\"data row39 col0\" >Feature Interaction </td>\n",
       "                        <td id=\"T_750c3dfe_420d_11eb_b771_d8c497d65f5erow39_col1\" class=\"data row39 col1\" >False</td>\n",
       "            </tr>\n",
       "            <tr>\n",
       "                        <th id=\"T_750c3dfe_420d_11eb_b771_d8c497d65f5elevel0_row40\" class=\"row_heading level0 row40\" >40</th>\n",
       "                        <td id=\"T_750c3dfe_420d_11eb_b771_d8c497d65f5erow40_col0\" class=\"data row40 col0\" >Feature Ratio </td>\n",
       "                        <td id=\"T_750c3dfe_420d_11eb_b771_d8c497d65f5erow40_col1\" class=\"data row40 col1\" >False</td>\n",
       "            </tr>\n",
       "            <tr>\n",
       "                        <th id=\"T_750c3dfe_420d_11eb_b771_d8c497d65f5elevel0_row41\" class=\"row_heading level0 row41\" >41</th>\n",
       "                        <td id=\"T_750c3dfe_420d_11eb_b771_d8c497d65f5erow41_col0\" class=\"data row41 col0\" >Interaction Threshold </td>\n",
       "                        <td id=\"T_750c3dfe_420d_11eb_b771_d8c497d65f5erow41_col1\" class=\"data row41 col1\" >None</td>\n",
       "            </tr>\n",
       "            <tr>\n",
       "                        <th id=\"T_750c3dfe_420d_11eb_b771_d8c497d65f5elevel0_row42\" class=\"row_heading level0 row42\" >42</th>\n",
       "                        <td id=\"T_750c3dfe_420d_11eb_b771_d8c497d65f5erow42_col0\" class=\"data row42 col0\" >Fix Imbalance</td>\n",
       "                        <td id=\"T_750c3dfe_420d_11eb_b771_d8c497d65f5erow42_col1\" class=\"data row42 col1\" >False</td>\n",
       "            </tr>\n",
       "            <tr>\n",
       "                        <th id=\"T_750c3dfe_420d_11eb_b771_d8c497d65f5elevel0_row43\" class=\"row_heading level0 row43\" >43</th>\n",
       "                        <td id=\"T_750c3dfe_420d_11eb_b771_d8c497d65f5erow43_col0\" class=\"data row43 col0\" >Fix Imbalance Method</td>\n",
       "                        <td id=\"T_750c3dfe_420d_11eb_b771_d8c497d65f5erow43_col1\" class=\"data row43 col1\" >SMOTE</td>\n",
       "            </tr>\n",
       "    </tbody></table>"
      ],
      "text/plain": [
       "<pandas.io.formats.style.Styler at 0x241aa341648>"
      ]
     },
     "metadata": {},
     "output_type": "display_data"
    },
    {
     "data": {
      "text/plain": [
       "(          QaE     QbE     QcE     QdE     QeE     QfE     QgE     QhE     QiE  \\\n",
       " index                                                                           \n",
       " 0       363.0  1370.0   997.0  1024.0  1577.0   539.0   586.0  1095.0  1142.0   \n",
       " 1       647.0  1313.0  3387.0  2969.0  4320.0  2190.0   826.0  4082.0  1867.0   \n",
       " 2      1623.0  1480.0  1021.0  3374.0  1333.0   531.0  1167.0  1016.0  2653.0   \n",
       " 3       504.0  2311.0   992.0  3245.0   357.0  1519.0   159.0  2275.0  2809.0   \n",
       " 4       927.0   707.0   556.0  1062.0  1014.0   628.0   991.0  1259.0  1153.0   \n",
       " ...       ...     ...     ...     ...     ...     ...     ...     ...     ...   \n",
       " 45527  1050.0   619.0   328.0   285.0   602.0   267.0   315.0   483.0  1016.0   \n",
       " 45528   581.0  1353.0  1164.0   798.0  1680.0   560.0   640.0  1415.0  4494.0   \n",
       " 45529   593.0   857.0  1047.0  1515.0  1690.0  1253.0  1094.0  1283.0  2209.0   \n",
       " 45530   747.0  1331.0   892.0  1281.0  1328.0   599.0   650.0  1429.0  1748.0   \n",
       " 45531   496.0  1827.0   754.0  1117.0   432.0  1422.0   545.0  1696.0  2172.0   \n",
       " \n",
       "           QjE  ...  wr_sum_4  wr_sum_5  wr_sum_6  wr_sum_7  wr_sum_8  \\\n",
       " index          ...                                                     \n",
       " 0      1287.0  ...       0.0       0.0       0.0       1.0       0.0   \n",
       " 1      1264.0  ...       0.0       0.0       0.0       0.0       1.0   \n",
       " 2      1569.0  ...       0.0       0.0       0.0       0.0       0.0   \n",
       " 3      5614.0  ...       0.0       1.0       0.0       0.0       0.0   \n",
       " 4      1388.0  ...       0.0       0.0       0.0       0.0       0.0   \n",
       " ...       ...  ...       ...       ...       ...       ...       ...   \n",
       " 45527   278.0  ...       0.0       0.0       0.0       0.0       0.0   \n",
       " 45528  1392.0  ...       0.0       0.0       0.0       0.0       0.0   \n",
       " 45529  1764.0  ...       0.0       0.0       0.0       0.0       0.0   \n",
       " 45530   770.0  ...       0.0       0.0       0.0       0.0       0.0   \n",
       " 45531  7076.0  ...       0.0       0.0       0.0       0.0       0.0   \n",
       " \n",
       "        wr_sum_9  wf_sum_0  wf_sum_1  wf_sum_2  wf_sum_3  \n",
       " index                                                    \n",
       " 0           0.0       1.0       0.0       0.0       0.0  \n",
       " 1           0.0       1.0       0.0       0.0       0.0  \n",
       " 2           0.0       0.0       1.0       0.0       0.0  \n",
       " 3           0.0       1.0       0.0       0.0       0.0  \n",
       " 4           0.0       0.0       1.0       0.0       0.0  \n",
       " ...         ...       ...       ...       ...       ...  \n",
       " 45527       0.0       0.0       1.0       0.0       0.0  \n",
       " 45528       0.0       0.0       1.0       0.0       0.0  \n",
       " 45529       1.0       1.0       0.0       0.0       0.0  \n",
       " 45530       0.0       1.0       0.0       0.0       0.0  \n",
       " 45531       1.0       0.0       0.0       0.0       1.0  \n",
       " \n",
       " [45532 rows x 92 columns],\n",
       " index\n",
       " 0        1\n",
       " 1        1\n",
       " 2        0\n",
       " 3        0\n",
       " 4        0\n",
       "         ..\n",
       " 45527    1\n",
       " 45528    1\n",
       " 45529    0\n",
       " 45530    0\n",
       " 45531    0\n",
       " Name: voted, Length: 45532, dtype: int32,\n",
       "          QaE     QbE     QcE      QdE     QeE     QfE     QgE     QhE     QiE  \\\n",
       " index                                                                           \n",
       " 11719  763.0   849.0  1088.0    751.0  1189.0   535.0   713.0  2292.0  1217.0   \n",
       " 12285  406.0  1183.0   666.0   1228.0  4517.0   894.0   525.0   830.0  1993.0   \n",
       " 32598  940.0  2246.0  1181.0    690.0  1957.0   680.0  1238.0  4315.0  1312.0   \n",
       " 31280  356.0   837.0   327.0   1245.0   960.0   436.0   745.0  1187.0  1224.0   \n",
       " 30444  559.0  1404.0  2509.0   1320.0  2684.0  1006.0   593.0  1840.0  1677.0   \n",
       " ...      ...     ...     ...      ...     ...     ...     ...     ...     ...   \n",
       " 39181  445.0   878.0   519.0    879.0   918.0   532.0   123.0  2605.0  1259.0   \n",
       " 12448  692.0  1190.0  1402.0  14413.0   723.0   794.0  1226.0  1563.0  2357.0   \n",
       " 45100  472.0  1921.0   700.0    942.0  1625.0   663.0   972.0  1346.0  3223.0   \n",
       " 2228   338.0  1208.0   590.0   1161.0   869.0   508.0   616.0  1048.0  1475.0   \n",
       " 29434  682.0  3990.0  1579.0   1619.0  2062.0  1220.0  1736.0  2104.0   682.0   \n",
       " \n",
       "             QjE  ...  wr_sum_4  wr_sum_5  wr_sum_6  wr_sum_7  wr_sum_8  \\\n",
       " index            ...                                                     \n",
       " 11719    1299.0  ...       0.0       0.0       0.0       0.0       0.0   \n",
       " 12285     652.0  ...       0.0       0.0       0.0       0.0       0.0   \n",
       " 32598    2136.0  ...       0.0       0.0       0.0       1.0       0.0   \n",
       " 31280  339743.0  ...       0.0       0.0       0.0       0.0       0.0   \n",
       " 30444     869.0  ...       0.0       0.0       0.0       0.0       1.0   \n",
       " ...         ...  ...       ...       ...       ...       ...       ...   \n",
       " 39181     759.0  ...       0.0       0.0       0.0       0.0       0.0   \n",
       " 12448    1512.0  ...       0.0       0.0       0.0       0.0       0.0   \n",
       " 45100    1200.0  ...       0.0       0.0       0.0       0.0       0.0   \n",
       " 2228      797.0  ...       0.0       0.0       0.0       0.0       0.0   \n",
       " 29434    1834.0  ...       0.0       0.0       0.0       1.0       0.0   \n",
       " \n",
       "        wr_sum_9  wf_sum_0  wf_sum_1  wf_sum_2  wf_sum_3  \n",
       " index                                                    \n",
       " 11719       0.0       1.0       0.0       0.0       0.0  \n",
       " 12285       0.0       1.0       0.0       0.0       0.0  \n",
       " 32598       0.0       1.0       0.0       0.0       0.0  \n",
       " 31280       1.0       0.0       1.0       0.0       0.0  \n",
       " 30444       0.0       1.0       0.0       0.0       0.0  \n",
       " ...         ...       ...       ...       ...       ...  \n",
       " 39181       1.0       1.0       0.0       0.0       0.0  \n",
       " 12448       0.0       0.0       1.0       0.0       0.0  \n",
       " 45100       1.0       1.0       0.0       0.0       0.0  \n",
       " 2228        1.0       1.0       0.0       0.0       0.0  \n",
       " 29434       0.0       1.0       0.0       0.0       0.0  \n",
       " \n",
       " [25497 rows x 92 columns],\n",
       "           QaE     QbE     QcE     QdE     QeE     QfE     QgE     QhE     QiE  \\\n",
       " index                                                                           \n",
       " 39934  1073.0   754.0  1209.0   724.0   698.0   533.0  5600.0   827.0  1344.0   \n",
       " 30099   467.0   506.0   915.0   442.0  1056.0   823.0   468.0  2169.0  1282.0   \n",
       " 32825   976.0  1101.0  1033.0  1010.0  1228.0   902.0   765.0  2116.0  2360.0   \n",
       " 16164   368.0  1122.0   835.0   971.0  2234.0   838.0   655.0  1088.0  1572.0   \n",
       " 8204    789.0   750.0   894.0  2292.0  2525.0   723.0   690.0   508.0  5713.0   \n",
       " ...       ...     ...     ...     ...     ...     ...     ...     ...     ...   \n",
       " 2820    365.0  1001.0   682.0   950.0  1280.0  1223.0   739.0   931.0  1831.0   \n",
       " 700     583.0  2545.0  1152.0  2157.0  1190.0  1059.0  1476.0  1402.0  2259.0   \n",
       " 14270   647.0  3007.0  1635.0   548.0   632.0   597.0   621.0  1345.0  1378.0   \n",
       " 33751   274.0   778.0   559.0  1225.0  1189.0   310.0   419.0  1072.0   739.0   \n",
       " 24854   453.0  1699.0   866.0   800.0   148.0   444.0  1304.0  2033.0  1384.0   \n",
       " \n",
       "           QjE  ...  wr_sum_4  wr_sum_5  wr_sum_6  wr_sum_7  wr_sum_8  \\\n",
       " index          ...                                                     \n",
       " 39934   896.0  ...       0.0       0.0       0.0       0.0       0.0   \n",
       " 30099   841.0  ...       0.0       0.0       0.0       0.0       0.0   \n",
       " 32825  1508.0  ...       0.0       0.0       0.0       1.0       0.0   \n",
       " 16164  1150.0  ...       0.0       0.0       0.0       0.0       0.0   \n",
       " 8204   1154.0  ...       0.0       0.0       0.0       0.0       0.0   \n",
       " ...       ...  ...       ...       ...       ...       ...       ...   \n",
       " 2820   1284.0  ...       0.0       0.0       0.0       0.0       0.0   \n",
       " 700    1340.0  ...       0.0       0.0       0.0       0.0       0.0   \n",
       " 14270   666.0  ...       0.0       0.0       0.0       0.0       0.0   \n",
       " 33751   642.0  ...       0.0       0.0       0.0       0.0       0.0   \n",
       " 24854  1053.0  ...       0.0       0.0       0.0       0.0       1.0   \n",
       " \n",
       "        wr_sum_9  wf_sum_0  wf_sum_1  wf_sum_2  wf_sum_3  \n",
       " index                                                    \n",
       " 39934       0.0       0.0       1.0       0.0       0.0  \n",
       " 30099       0.0       0.0       0.0       0.0       1.0  \n",
       " 32825       0.0       1.0       0.0       0.0       0.0  \n",
       " 16164       0.0       1.0       0.0       0.0       0.0  \n",
       " 8204        0.0       1.0       0.0       0.0       0.0  \n",
       " ...         ...       ...       ...       ...       ...  \n",
       " 2820        1.0       1.0       0.0       0.0       0.0  \n",
       " 700         1.0       1.0       0.0       0.0       0.0  \n",
       " 14270       0.0       1.0       0.0       0.0       0.0  \n",
       " 33751       1.0       1.0       0.0       0.0       0.0  \n",
       " 24854       0.0       1.0       0.0       0.0       0.0  \n",
       " \n",
       " [10928 rows x 92 columns],\n",
       " index\n",
       " 11719    0\n",
       " 12285    0\n",
       " 32598    1\n",
       " 31280    1\n",
       " 30444    1\n",
       "         ..\n",
       " 39181    1\n",
       " 12448    0\n",
       " 45100    0\n",
       " 2228     0\n",
       " 29434    1\n",
       " Name: voted, Length: 25497, dtype: int32,\n",
       " index\n",
       " 39934    0\n",
       " 30099    0\n",
       " 32825    1\n",
       " 16164    0\n",
       " 8204     1\n",
       "         ..\n",
       " 2820     0\n",
       " 700      1\n",
       " 14270    0\n",
       " 33751    1\n",
       " 24854    1\n",
       " Name: voted, Length: 10928, dtype: int32,\n",
       " 4868,\n",
       " Pipeline(memory=None,\n",
       "          steps=[('dtypes',\n",
       "                  DataTypes_Auto_infer(categorical_features=[],\n",
       "                                       display_types=True, features_todrop=[],\n",
       "                                       ml_usecase='classification',\n",
       "                                       numerical_features=[], target='voted',\n",
       "                                       time_features=[])),\n",
       "                 ('imputer',\n",
       "                  Simple_Imputer(categorical_strategy='not_available',\n",
       "                                 numeric_strategy='mean',\n",
       "                                 target_variable=None)),\n",
       "                 ('new_levels1',\n",
       "                  New_Catagorical_Leve...\n",
       "                 ('group', Empty()), ('nonliner', Empty()), ('scaling', Empty()),\n",
       "                 ('P_transform', Empty()), ('pt_target', Empty()),\n",
       "                 ('binn', Empty()), ('rem_outliers', Empty()),\n",
       "                 ('cluster_all', Empty()), ('dummy', Dummify(target='voted')),\n",
       "                 ('fix_perfect', Empty()), ('clean_names', Clean_Colum_Names()),\n",
       "                 ('feature_select', Empty()), ('fix_multi', Empty()),\n",
       "                 ('dfs', Empty()), ('pca', Empty())],\n",
       "          verbose=False),\n",
       " [('Classification Setup Config',\n",
       "                         Description        Value\n",
       "   0                      session_id         4868\n",
       "   1                     Target Type       Binary\n",
       "   2                   Label Encoded   1: 0, 2: 1\n",
       "   3                   Original Data  (45532, 62)\n",
       "   4                 Missing Values         False\n",
       "   5               Numeric Features            54\n",
       "   6           Categorical Features             7\n",
       "   7               Ordinal Features         False\n",
       "   8      High Cardinality Features         False\n",
       "   9        High Cardinality Method          None\n",
       "   10                   Sampled Data  (36425, 62)\n",
       "   11          Transformed Train Set  (25497, 92)\n",
       "   12           Transformed Test Set  (10928, 92)\n",
       "   13               Numeric Imputer          mean\n",
       "   14           Categorical Imputer      constant\n",
       "   15                     Normalize         False\n",
       "   16              Normalize Method          None\n",
       "   17                Transformation         False\n",
       "   18         Transformation Method          None\n",
       "   19                           PCA         False\n",
       "   20                    PCA Method          None\n",
       "   21                PCA Components          None\n",
       "   22           Ignore Low Variance         False\n",
       "   23           Combine Rare Levels         False\n",
       "   24          Rare Level Threshold          None\n",
       "   25               Numeric Binning         False\n",
       "   26               Remove Outliers         False\n",
       "   27            Outliers Threshold          None\n",
       "   28      Remove Multicollinearity         False\n",
       "   29   Multicollinearity Threshold          None\n",
       "   30                    Clustering         False\n",
       "   31          Clustering Iteration          None\n",
       "   32           Polynomial Features         False\n",
       "   33             Polynomial Degree          None\n",
       "   34          Trignometry Features         False\n",
       "   35          Polynomial Threshold          None\n",
       "   36                Group Features         False\n",
       "   37             Feature Selection         False\n",
       "   38  Features Selection Threshold          None\n",
       "   39           Feature Interaction         False\n",
       "   40                 Feature Ratio         False\n",
       "   41         Interaction Threshold          None\n",
       "   42                  Fix Imbalance        False\n",
       "   43           Fix Imbalance Method        SMOTE),\n",
       "  ('X_training Set',\n",
       "            QaE     QbE     QcE      QdE     QeE     QfE     QgE     QhE     QiE  \\\n",
       "   index                                                                           \n",
       "   11719  763.0   849.0  1088.0    751.0  1189.0   535.0   713.0  2292.0  1217.0   \n",
       "   12285  406.0  1183.0   666.0   1228.0  4517.0   894.0   525.0   830.0  1993.0   \n",
       "   32598  940.0  2246.0  1181.0    690.0  1957.0   680.0  1238.0  4315.0  1312.0   \n",
       "   31280  356.0   837.0   327.0   1245.0   960.0   436.0   745.0  1187.0  1224.0   \n",
       "   30444  559.0  1404.0  2509.0   1320.0  2684.0  1006.0   593.0  1840.0  1677.0   \n",
       "   ...      ...     ...     ...      ...     ...     ...     ...     ...     ...   \n",
       "   39181  445.0   878.0   519.0    879.0   918.0   532.0   123.0  2605.0  1259.0   \n",
       "   12448  692.0  1190.0  1402.0  14413.0   723.0   794.0  1226.0  1563.0  2357.0   \n",
       "   45100  472.0  1921.0   700.0    942.0  1625.0   663.0   972.0  1346.0  3223.0   \n",
       "   2228   338.0  1208.0   590.0   1161.0   869.0   508.0   616.0  1048.0  1475.0   \n",
       "   29434  682.0  3990.0  1579.0   1619.0  2062.0  1220.0  1736.0  2104.0   682.0   \n",
       "   \n",
       "               QjE  ...  wr_sum_4  wr_sum_5  wr_sum_6  wr_sum_7  wr_sum_8  \\\n",
       "   index            ...                                                     \n",
       "   11719    1299.0  ...       0.0       0.0       0.0       0.0       0.0   \n",
       "   12285     652.0  ...       0.0       0.0       0.0       0.0       0.0   \n",
       "   32598    2136.0  ...       0.0       0.0       0.0       1.0       0.0   \n",
       "   31280  339743.0  ...       0.0       0.0       0.0       0.0       0.0   \n",
       "   30444     869.0  ...       0.0       0.0       0.0       0.0       1.0   \n",
       "   ...         ...  ...       ...       ...       ...       ...       ...   \n",
       "   39181     759.0  ...       0.0       0.0       0.0       0.0       0.0   \n",
       "   12448    1512.0  ...       0.0       0.0       0.0       0.0       0.0   \n",
       "   45100    1200.0  ...       0.0       0.0       0.0       0.0       0.0   \n",
       "   2228      797.0  ...       0.0       0.0       0.0       0.0       0.0   \n",
       "   29434    1834.0  ...       0.0       0.0       0.0       1.0       0.0   \n",
       "   \n",
       "          wr_sum_9  wf_sum_0  wf_sum_1  wf_sum_2  wf_sum_3  \n",
       "   index                                                    \n",
       "   11719       0.0       1.0       0.0       0.0       0.0  \n",
       "   12285       0.0       1.0       0.0       0.0       0.0  \n",
       "   32598       0.0       1.0       0.0       0.0       0.0  \n",
       "   31280       1.0       0.0       1.0       0.0       0.0  \n",
       "   30444       0.0       1.0       0.0       0.0       0.0  \n",
       "   ...         ...       ...       ...       ...       ...  \n",
       "   39181       1.0       1.0       0.0       0.0       0.0  \n",
       "   12448       0.0       0.0       1.0       0.0       0.0  \n",
       "   45100       1.0       1.0       0.0       0.0       0.0  \n",
       "   2228        1.0       1.0       0.0       0.0       0.0  \n",
       "   29434       0.0       1.0       0.0       0.0       0.0  \n",
       "   \n",
       "   [25497 rows x 92 columns]),\n",
       "  ('y_training Set',\n",
       "   index\n",
       "   11719    0\n",
       "   12285    0\n",
       "   32598    1\n",
       "   31280    1\n",
       "   30444    1\n",
       "           ..\n",
       "   39181    1\n",
       "   12448    0\n",
       "   45100    0\n",
       "   2228     0\n",
       "   29434    1\n",
       "   Name: voted, Length: 25497, dtype: int32),\n",
       "  ('X_test Set',\n",
       "             QaE     QbE     QcE     QdE     QeE     QfE     QgE     QhE     QiE  \\\n",
       "   index                                                                           \n",
       "   39934  1073.0   754.0  1209.0   724.0   698.0   533.0  5600.0   827.0  1344.0   \n",
       "   30099   467.0   506.0   915.0   442.0  1056.0   823.0   468.0  2169.0  1282.0   \n",
       "   32825   976.0  1101.0  1033.0  1010.0  1228.0   902.0   765.0  2116.0  2360.0   \n",
       "   16164   368.0  1122.0   835.0   971.0  2234.0   838.0   655.0  1088.0  1572.0   \n",
       "   8204    789.0   750.0   894.0  2292.0  2525.0   723.0   690.0   508.0  5713.0   \n",
       "   ...       ...     ...     ...     ...     ...     ...     ...     ...     ...   \n",
       "   2820    365.0  1001.0   682.0   950.0  1280.0  1223.0   739.0   931.0  1831.0   \n",
       "   700     583.0  2545.0  1152.0  2157.0  1190.0  1059.0  1476.0  1402.0  2259.0   \n",
       "   14270   647.0  3007.0  1635.0   548.0   632.0   597.0   621.0  1345.0  1378.0   \n",
       "   33751   274.0   778.0   559.0  1225.0  1189.0   310.0   419.0  1072.0   739.0   \n",
       "   24854   453.0  1699.0   866.0   800.0   148.0   444.0  1304.0  2033.0  1384.0   \n",
       "   \n",
       "             QjE  ...  wr_sum_4  wr_sum_5  wr_sum_6  wr_sum_7  wr_sum_8  \\\n",
       "   index          ...                                                     \n",
       "   39934   896.0  ...       0.0       0.0       0.0       0.0       0.0   \n",
       "   30099   841.0  ...       0.0       0.0       0.0       0.0       0.0   \n",
       "   32825  1508.0  ...       0.0       0.0       0.0       1.0       0.0   \n",
       "   16164  1150.0  ...       0.0       0.0       0.0       0.0       0.0   \n",
       "   8204   1154.0  ...       0.0       0.0       0.0       0.0       0.0   \n",
       "   ...       ...  ...       ...       ...       ...       ...       ...   \n",
       "   2820   1284.0  ...       0.0       0.0       0.0       0.0       0.0   \n",
       "   700    1340.0  ...       0.0       0.0       0.0       0.0       0.0   \n",
       "   14270   666.0  ...       0.0       0.0       0.0       0.0       0.0   \n",
       "   33751   642.0  ...       0.0       0.0       0.0       0.0       0.0   \n",
       "   24854  1053.0  ...       0.0       0.0       0.0       0.0       1.0   \n",
       "   \n",
       "          wr_sum_9  wf_sum_0  wf_sum_1  wf_sum_2  wf_sum_3  \n",
       "   index                                                    \n",
       "   39934       0.0       0.0       1.0       0.0       0.0  \n",
       "   30099       0.0       0.0       0.0       0.0       1.0  \n",
       "   32825       0.0       1.0       0.0       0.0       0.0  \n",
       "   16164       0.0       1.0       0.0       0.0       0.0  \n",
       "   8204        0.0       1.0       0.0       0.0       0.0  \n",
       "   ...         ...       ...       ...       ...       ...  \n",
       "   2820        1.0       1.0       0.0       0.0       0.0  \n",
       "   700         1.0       1.0       0.0       0.0       0.0  \n",
       "   14270       0.0       1.0       0.0       0.0       0.0  \n",
       "   33751       1.0       1.0       0.0       0.0       0.0  \n",
       "   24854       0.0       1.0       0.0       0.0       0.0  \n",
       "   \n",
       "   [10928 rows x 92 columns]),\n",
       "  ('y_test Set',\n",
       "   index\n",
       "   39934    0\n",
       "   30099    0\n",
       "   32825    1\n",
       "   16164    0\n",
       "   8204     1\n",
       "           ..\n",
       "   2820     0\n",
       "   700      1\n",
       "   14270    0\n",
       "   33751    1\n",
       "   24854    1\n",
       "   Name: voted, Length: 10928, dtype: int32),\n",
       "  ('Transformation Pipeline',\n",
       "   Pipeline(memory=None,\n",
       "            steps=[('dtypes',\n",
       "                    DataTypes_Auto_infer(categorical_features=[],\n",
       "                                         display_types=True, features_todrop=[],\n",
       "                                         ml_usecase='classification',\n",
       "                                         numerical_features=[], target='voted',\n",
       "                                         time_features=[])),\n",
       "                   ('imputer',\n",
       "                    Simple_Imputer(categorical_strategy='not_available',\n",
       "                                   numeric_strategy='mean',\n",
       "                                   target_variable=None)),\n",
       "                   ('new_levels1',\n",
       "                    New_Catagorical_Leve...\n",
       "                   ('group', Empty()), ('nonliner', Empty()), ('scaling', Empty()),\n",
       "                   ('P_transform', Empty()), ('pt_target', Empty()),\n",
       "                   ('binn', Empty()), ('rem_outliers', Empty()),\n",
       "                   ('cluster_all', Empty()), ('dummy', Dummify(target='voted')),\n",
       "                   ('fix_perfect', Empty()), ('clean_names', Clean_Colum_Names()),\n",
       "                   ('feature_select', Empty()), ('fix_multi', Empty()),\n",
       "                   ('dfs', Empty()), ('pca', Empty())],\n",
       "            verbose=False))],\n",
       " False,\n",
       " -1,\n",
       " True,\n",
       " [],\n",
       " [],\n",
       " [],\n",
       " 'no_logging',\n",
       " False,\n",
       " False,\n",
       " 'a642',\n",
       " False,\n",
       " None,\n",
       " <Logger logs (DEBUG)>,\n",
       "         QaE   QbE   QcE   QdE   QeE   QfE   QgE   QhE   QiE   QjE  ...  \\\n",
       " index                                                              ...   \n",
       " 0       363  1370   997  1024  1577   539   586  1095  1142  1287  ...   \n",
       " 1       647  1313  3387  2969  4320  2190   826  4082  1867  1264  ...   \n",
       " 2      1623  1480  1021  3374  1333   531  1167  1016  2653  1569  ...   \n",
       " 3       504  2311   992  3245   357  1519   159  2275  2809  5614  ...   \n",
       " 4       927   707   556  1062  1014   628   991  1259  1153  1388  ...   \n",
       " ...     ...   ...   ...   ...   ...   ...   ...   ...   ...   ...  ...   \n",
       " 45527  1050   619   328   285   602   267   315   483  1016   278  ...   \n",
       " 45528   581  1353  1164   798  1680   560   640  1415  4494  1392  ...   \n",
       " 45529   593   857  1047  1515  1690  1253  1094  1283  2209  1764  ...   \n",
       " 45530   747  1331   892  1281  1328   599   650  1429  1748   770  ...   \n",
       " 45531   496  1827   754  1117   432  1422   545  1696  2172  7076  ...   \n",
       " \n",
       "        religion_Buddhist  religion_Christian_Catholic  \\\n",
       " index                                                   \n",
       " 0                      0                            0   \n",
       " 1                      0                            0   \n",
       " 2                      0                            0   \n",
       " 3                      0                            0   \n",
       " 4                      0                            0   \n",
       " ...                  ...                          ...   \n",
       " 45527                  0                            0   \n",
       " 45528                  0                            0   \n",
       " 45529                  0                            0   \n",
       " 45530                  0                            0   \n",
       " 45531                  0                            0   \n",
       " \n",
       "        religion_Christian_Mormon  religion_Christian_Other  \\\n",
       " index                                                        \n",
       " 0                              0                         0   \n",
       " 1                              0                         0   \n",
       " 2                              0                         0   \n",
       " 3                              0                         0   \n",
       " 4                              0                         0   \n",
       " ...                          ...                       ...   \n",
       " 45527                          0                         0   \n",
       " 45528                          0                         0   \n",
       " 45529                          0                         1   \n",
       " 45530                          0                         0   \n",
       " 45531                          0                         0   \n",
       " \n",
       "        religion_Christian_Protestant  religion_Hindu  religion_Jewish  \\\n",
       " index                                                                   \n",
       " 0                                  0               0                0   \n",
       " 1                                  0               1                0   \n",
       " 2                                  0               0                0   \n",
       " 3                                  0               1                0   \n",
       " 4                                  0               0                0   \n",
       " ...                              ...             ...              ...   \n",
       " 45527                              0               0                1   \n",
       " 45528                              0               0                0   \n",
       " 45529                              0               0                0   \n",
       " 45530                              0               0                0   \n",
       " 45531                              0               0                0   \n",
       " \n",
       "        religion_Muslim  religion_Other  religion_Sikh  \n",
       " index                                                  \n",
       " 0                    0               1              0  \n",
       " 1                    0               0              0  \n",
       " 2                    0               1              0  \n",
       " 3                    0               0              0  \n",
       " 4                    0               0              0  \n",
       " ...                ...             ...            ...  \n",
       " 45527                0               0              0  \n",
       " 45528                0               0              0  \n",
       " 45529                0               0              0  \n",
       " 45530                0               0              0  \n",
       " 45531                0               0              0  \n",
       " \n",
       " [45532 rows x 62 columns],\n",
       " 'voted',\n",
       " False)"
      ]
     },
     "execution_count": 45,
     "metadata": {},
     "output_type": "execute_result"
    }
   ],
   "source": [
    "clf = setup(data = train, target = 'voted')\n",
    "clf"
   ]
  },
  {
   "cell_type": "code",
   "execution_count": 46,
   "metadata": {
    "ExecuteTime": {
     "end_time": "2020-12-19T15:35:20.895102Z",
     "start_time": "2020-12-19T15:18:33.202820Z"
    }
   },
   "outputs": [
    {
     "data": {
      "text/html": [
       "<style  type=\"text/css\" >\n",
       "    #T_cd69dfe2_420f_11eb_a029_d8c497d65f5e th {\n",
       "          text-align: left;\n",
       "    }    #T_cd69dfe2_420f_11eb_a029_d8c497d65f5erow0_col0 {\n",
       "            text-align:  left;\n",
       "        }    #T_cd69dfe2_420f_11eb_a029_d8c497d65f5erow0_col1 {\n",
       "            background-color:  yellow;\n",
       "            text-align:  left;\n",
       "        }    #T_cd69dfe2_420f_11eb_a029_d8c497d65f5erow0_col2 {\n",
       "            background-color:  yellow;\n",
       "            text-align:  left;\n",
       "        }    #T_cd69dfe2_420f_11eb_a029_d8c497d65f5erow0_col3 {\n",
       "            : ;\n",
       "            text-align:  left;\n",
       "        }    #T_cd69dfe2_420f_11eb_a029_d8c497d65f5erow0_col4 {\n",
       "            background-color:  yellow;\n",
       "            text-align:  left;\n",
       "        }    #T_cd69dfe2_420f_11eb_a029_d8c497d65f5erow0_col5 {\n",
       "            : ;\n",
       "            text-align:  left;\n",
       "        }    #T_cd69dfe2_420f_11eb_a029_d8c497d65f5erow0_col6 {\n",
       "            background-color:  yellow;\n",
       "            text-align:  left;\n",
       "        }    #T_cd69dfe2_420f_11eb_a029_d8c497d65f5erow0_col7 {\n",
       "            background-color:  yellow;\n",
       "            text-align:  left;\n",
       "        }    #T_cd69dfe2_420f_11eb_a029_d8c497d65f5erow0_col8 {\n",
       "            background-color:  lightgrey;\n",
       "            text-align:  left;\n",
       "        }    #T_cd69dfe2_420f_11eb_a029_d8c497d65f5erow1_col0 {\n",
       "            text-align:  left;\n",
       "        }    #T_cd69dfe2_420f_11eb_a029_d8c497d65f5erow1_col1 {\n",
       "            : ;\n",
       "            text-align:  left;\n",
       "        }    #T_cd69dfe2_420f_11eb_a029_d8c497d65f5erow1_col2 {\n",
       "            : ;\n",
       "            text-align:  left;\n",
       "        }    #T_cd69dfe2_420f_11eb_a029_d8c497d65f5erow1_col3 {\n",
       "            : ;\n",
       "            text-align:  left;\n",
       "        }    #T_cd69dfe2_420f_11eb_a029_d8c497d65f5erow1_col4 {\n",
       "            : ;\n",
       "            text-align:  left;\n",
       "        }    #T_cd69dfe2_420f_11eb_a029_d8c497d65f5erow1_col5 {\n",
       "            : ;\n",
       "            text-align:  left;\n",
       "        }    #T_cd69dfe2_420f_11eb_a029_d8c497d65f5erow1_col6 {\n",
       "            : ;\n",
       "            text-align:  left;\n",
       "        }    #T_cd69dfe2_420f_11eb_a029_d8c497d65f5erow1_col7 {\n",
       "            : ;\n",
       "            text-align:  left;\n",
       "        }    #T_cd69dfe2_420f_11eb_a029_d8c497d65f5erow1_col8 {\n",
       "            background-color:  lightgrey;\n",
       "            text-align:  left;\n",
       "        }    #T_cd69dfe2_420f_11eb_a029_d8c497d65f5erow2_col0 {\n",
       "            text-align:  left;\n",
       "        }    #T_cd69dfe2_420f_11eb_a029_d8c497d65f5erow2_col1 {\n",
       "            : ;\n",
       "            text-align:  left;\n",
       "        }    #T_cd69dfe2_420f_11eb_a029_d8c497d65f5erow2_col2 {\n",
       "            : ;\n",
       "            text-align:  left;\n",
       "        }    #T_cd69dfe2_420f_11eb_a029_d8c497d65f5erow2_col3 {\n",
       "            : ;\n",
       "            text-align:  left;\n",
       "        }    #T_cd69dfe2_420f_11eb_a029_d8c497d65f5erow2_col4 {\n",
       "            : ;\n",
       "            text-align:  left;\n",
       "        }    #T_cd69dfe2_420f_11eb_a029_d8c497d65f5erow2_col5 {\n",
       "            : ;\n",
       "            text-align:  left;\n",
       "        }    #T_cd69dfe2_420f_11eb_a029_d8c497d65f5erow2_col6 {\n",
       "            : ;\n",
       "            text-align:  left;\n",
       "        }    #T_cd69dfe2_420f_11eb_a029_d8c497d65f5erow2_col7 {\n",
       "            : ;\n",
       "            text-align:  left;\n",
       "        }    #T_cd69dfe2_420f_11eb_a029_d8c497d65f5erow2_col8 {\n",
       "            background-color:  lightgrey;\n",
       "            text-align:  left;\n",
       "        }    #T_cd69dfe2_420f_11eb_a029_d8c497d65f5erow3_col0 {\n",
       "            text-align:  left;\n",
       "        }    #T_cd69dfe2_420f_11eb_a029_d8c497d65f5erow3_col1 {\n",
       "            : ;\n",
       "            text-align:  left;\n",
       "        }    #T_cd69dfe2_420f_11eb_a029_d8c497d65f5erow3_col2 {\n",
       "            : ;\n",
       "            text-align:  left;\n",
       "        }    #T_cd69dfe2_420f_11eb_a029_d8c497d65f5erow3_col3 {\n",
       "            : ;\n",
       "            text-align:  left;\n",
       "        }    #T_cd69dfe2_420f_11eb_a029_d8c497d65f5erow3_col4 {\n",
       "            : ;\n",
       "            text-align:  left;\n",
       "        }    #T_cd69dfe2_420f_11eb_a029_d8c497d65f5erow3_col5 {\n",
       "            : ;\n",
       "            text-align:  left;\n",
       "        }    #T_cd69dfe2_420f_11eb_a029_d8c497d65f5erow3_col6 {\n",
       "            : ;\n",
       "            text-align:  left;\n",
       "        }    #T_cd69dfe2_420f_11eb_a029_d8c497d65f5erow3_col7 {\n",
       "            : ;\n",
       "            text-align:  left;\n",
       "        }    #T_cd69dfe2_420f_11eb_a029_d8c497d65f5erow3_col8 {\n",
       "            background-color:  lightgrey;\n",
       "            text-align:  left;\n",
       "        }    #T_cd69dfe2_420f_11eb_a029_d8c497d65f5erow4_col0 {\n",
       "            text-align:  left;\n",
       "        }    #T_cd69dfe2_420f_11eb_a029_d8c497d65f5erow4_col1 {\n",
       "            : ;\n",
       "            text-align:  left;\n",
       "        }    #T_cd69dfe2_420f_11eb_a029_d8c497d65f5erow4_col2 {\n",
       "            : ;\n",
       "            text-align:  left;\n",
       "        }    #T_cd69dfe2_420f_11eb_a029_d8c497d65f5erow4_col3 {\n",
       "            : ;\n",
       "            text-align:  left;\n",
       "        }    #T_cd69dfe2_420f_11eb_a029_d8c497d65f5erow4_col4 {\n",
       "            : ;\n",
       "            text-align:  left;\n",
       "        }    #T_cd69dfe2_420f_11eb_a029_d8c497d65f5erow4_col5 {\n",
       "            : ;\n",
       "            text-align:  left;\n",
       "        }    #T_cd69dfe2_420f_11eb_a029_d8c497d65f5erow4_col6 {\n",
       "            : ;\n",
       "            text-align:  left;\n",
       "        }    #T_cd69dfe2_420f_11eb_a029_d8c497d65f5erow4_col7 {\n",
       "            : ;\n",
       "            text-align:  left;\n",
       "        }    #T_cd69dfe2_420f_11eb_a029_d8c497d65f5erow4_col8 {\n",
       "            background-color:  lightgrey;\n",
       "            text-align:  left;\n",
       "        }    #T_cd69dfe2_420f_11eb_a029_d8c497d65f5erow5_col0 {\n",
       "            text-align:  left;\n",
       "        }    #T_cd69dfe2_420f_11eb_a029_d8c497d65f5erow5_col1 {\n",
       "            : ;\n",
       "            text-align:  left;\n",
       "        }    #T_cd69dfe2_420f_11eb_a029_d8c497d65f5erow5_col2 {\n",
       "            : ;\n",
       "            text-align:  left;\n",
       "        }    #T_cd69dfe2_420f_11eb_a029_d8c497d65f5erow5_col3 {\n",
       "            : ;\n",
       "            text-align:  left;\n",
       "        }    #T_cd69dfe2_420f_11eb_a029_d8c497d65f5erow5_col4 {\n",
       "            : ;\n",
       "            text-align:  left;\n",
       "        }    #T_cd69dfe2_420f_11eb_a029_d8c497d65f5erow5_col5 {\n",
       "            : ;\n",
       "            text-align:  left;\n",
       "        }    #T_cd69dfe2_420f_11eb_a029_d8c497d65f5erow5_col6 {\n",
       "            : ;\n",
       "            text-align:  left;\n",
       "        }    #T_cd69dfe2_420f_11eb_a029_d8c497d65f5erow5_col7 {\n",
       "            : ;\n",
       "            text-align:  left;\n",
       "        }    #T_cd69dfe2_420f_11eb_a029_d8c497d65f5erow5_col8 {\n",
       "            background-color:  lightgrey;\n",
       "            text-align:  left;\n",
       "        }    #T_cd69dfe2_420f_11eb_a029_d8c497d65f5erow6_col0 {\n",
       "            text-align:  left;\n",
       "        }    #T_cd69dfe2_420f_11eb_a029_d8c497d65f5erow6_col1 {\n",
       "            : ;\n",
       "            text-align:  left;\n",
       "        }    #T_cd69dfe2_420f_11eb_a029_d8c497d65f5erow6_col2 {\n",
       "            : ;\n",
       "            text-align:  left;\n",
       "        }    #T_cd69dfe2_420f_11eb_a029_d8c497d65f5erow6_col3 {\n",
       "            : ;\n",
       "            text-align:  left;\n",
       "        }    #T_cd69dfe2_420f_11eb_a029_d8c497d65f5erow6_col4 {\n",
       "            : ;\n",
       "            text-align:  left;\n",
       "        }    #T_cd69dfe2_420f_11eb_a029_d8c497d65f5erow6_col5 {\n",
       "            : ;\n",
       "            text-align:  left;\n",
       "        }    #T_cd69dfe2_420f_11eb_a029_d8c497d65f5erow6_col6 {\n",
       "            : ;\n",
       "            text-align:  left;\n",
       "        }    #T_cd69dfe2_420f_11eb_a029_d8c497d65f5erow6_col7 {\n",
       "            : ;\n",
       "            text-align:  left;\n",
       "        }    #T_cd69dfe2_420f_11eb_a029_d8c497d65f5erow6_col8 {\n",
       "            background-color:  lightgrey;\n",
       "            text-align:  left;\n",
       "        }    #T_cd69dfe2_420f_11eb_a029_d8c497d65f5erow7_col0 {\n",
       "            text-align:  left;\n",
       "        }    #T_cd69dfe2_420f_11eb_a029_d8c497d65f5erow7_col1 {\n",
       "            : ;\n",
       "            text-align:  left;\n",
       "        }    #T_cd69dfe2_420f_11eb_a029_d8c497d65f5erow7_col2 {\n",
       "            : ;\n",
       "            text-align:  left;\n",
       "        }    #T_cd69dfe2_420f_11eb_a029_d8c497d65f5erow7_col3 {\n",
       "            : ;\n",
       "            text-align:  left;\n",
       "        }    #T_cd69dfe2_420f_11eb_a029_d8c497d65f5erow7_col4 {\n",
       "            : ;\n",
       "            text-align:  left;\n",
       "        }    #T_cd69dfe2_420f_11eb_a029_d8c497d65f5erow7_col5 {\n",
       "            : ;\n",
       "            text-align:  left;\n",
       "        }    #T_cd69dfe2_420f_11eb_a029_d8c497d65f5erow7_col6 {\n",
       "            : ;\n",
       "            text-align:  left;\n",
       "        }    #T_cd69dfe2_420f_11eb_a029_d8c497d65f5erow7_col7 {\n",
       "            : ;\n",
       "            text-align:  left;\n",
       "        }    #T_cd69dfe2_420f_11eb_a029_d8c497d65f5erow7_col8 {\n",
       "            background-color:  lightgrey;\n",
       "            text-align:  left;\n",
       "        }    #T_cd69dfe2_420f_11eb_a029_d8c497d65f5erow8_col0 {\n",
       "            text-align:  left;\n",
       "        }    #T_cd69dfe2_420f_11eb_a029_d8c497d65f5erow8_col1 {\n",
       "            : ;\n",
       "            text-align:  left;\n",
       "        }    #T_cd69dfe2_420f_11eb_a029_d8c497d65f5erow8_col2 {\n",
       "            : ;\n",
       "            text-align:  left;\n",
       "        }    #T_cd69dfe2_420f_11eb_a029_d8c497d65f5erow8_col3 {\n",
       "            : ;\n",
       "            text-align:  left;\n",
       "        }    #T_cd69dfe2_420f_11eb_a029_d8c497d65f5erow8_col4 {\n",
       "            : ;\n",
       "            text-align:  left;\n",
       "        }    #T_cd69dfe2_420f_11eb_a029_d8c497d65f5erow8_col5 {\n",
       "            : ;\n",
       "            text-align:  left;\n",
       "        }    #T_cd69dfe2_420f_11eb_a029_d8c497d65f5erow8_col6 {\n",
       "            : ;\n",
       "            text-align:  left;\n",
       "        }    #T_cd69dfe2_420f_11eb_a029_d8c497d65f5erow8_col7 {\n",
       "            : ;\n",
       "            text-align:  left;\n",
       "        }    #T_cd69dfe2_420f_11eb_a029_d8c497d65f5erow8_col8 {\n",
       "            background-color:  lightgrey;\n",
       "            text-align:  left;\n",
       "        }    #T_cd69dfe2_420f_11eb_a029_d8c497d65f5erow9_col0 {\n",
       "            text-align:  left;\n",
       "        }    #T_cd69dfe2_420f_11eb_a029_d8c497d65f5erow9_col1 {\n",
       "            : ;\n",
       "            text-align:  left;\n",
       "        }    #T_cd69dfe2_420f_11eb_a029_d8c497d65f5erow9_col2 {\n",
       "            : ;\n",
       "            text-align:  left;\n",
       "        }    #T_cd69dfe2_420f_11eb_a029_d8c497d65f5erow9_col3 {\n",
       "            : ;\n",
       "            text-align:  left;\n",
       "        }    #T_cd69dfe2_420f_11eb_a029_d8c497d65f5erow9_col4 {\n",
       "            : ;\n",
       "            text-align:  left;\n",
       "        }    #T_cd69dfe2_420f_11eb_a029_d8c497d65f5erow9_col5 {\n",
       "            : ;\n",
       "            text-align:  left;\n",
       "        }    #T_cd69dfe2_420f_11eb_a029_d8c497d65f5erow9_col6 {\n",
       "            : ;\n",
       "            text-align:  left;\n",
       "        }    #T_cd69dfe2_420f_11eb_a029_d8c497d65f5erow9_col7 {\n",
       "            : ;\n",
       "            text-align:  left;\n",
       "        }    #T_cd69dfe2_420f_11eb_a029_d8c497d65f5erow9_col8 {\n",
       "            background-color:  lightgrey;\n",
       "            text-align:  left;\n",
       "        }    #T_cd69dfe2_420f_11eb_a029_d8c497d65f5erow10_col0 {\n",
       "            text-align:  left;\n",
       "        }    #T_cd69dfe2_420f_11eb_a029_d8c497d65f5erow10_col1 {\n",
       "            : ;\n",
       "            text-align:  left;\n",
       "        }    #T_cd69dfe2_420f_11eb_a029_d8c497d65f5erow10_col2 {\n",
       "            : ;\n",
       "            text-align:  left;\n",
       "        }    #T_cd69dfe2_420f_11eb_a029_d8c497d65f5erow10_col3 {\n",
       "            background-color:  yellow;\n",
       "            text-align:  left;\n",
       "        }    #T_cd69dfe2_420f_11eb_a029_d8c497d65f5erow10_col4 {\n",
       "            : ;\n",
       "            text-align:  left;\n",
       "        }    #T_cd69dfe2_420f_11eb_a029_d8c497d65f5erow10_col5 {\n",
       "            background-color:  yellow;\n",
       "            text-align:  left;\n",
       "        }    #T_cd69dfe2_420f_11eb_a029_d8c497d65f5erow10_col6 {\n",
       "            : ;\n",
       "            text-align:  left;\n",
       "        }    #T_cd69dfe2_420f_11eb_a029_d8c497d65f5erow10_col7 {\n",
       "            : ;\n",
       "            text-align:  left;\n",
       "        }    #T_cd69dfe2_420f_11eb_a029_d8c497d65f5erow10_col8 {\n",
       "            background-color:  lightgrey;\n",
       "            text-align:  left;\n",
       "        }    #T_cd69dfe2_420f_11eb_a029_d8c497d65f5erow11_col0 {\n",
       "            text-align:  left;\n",
       "        }    #T_cd69dfe2_420f_11eb_a029_d8c497d65f5erow11_col1 {\n",
       "            : ;\n",
       "            text-align:  left;\n",
       "        }    #T_cd69dfe2_420f_11eb_a029_d8c497d65f5erow11_col2 {\n",
       "            : ;\n",
       "            text-align:  left;\n",
       "        }    #T_cd69dfe2_420f_11eb_a029_d8c497d65f5erow11_col3 {\n",
       "            : ;\n",
       "            text-align:  left;\n",
       "        }    #T_cd69dfe2_420f_11eb_a029_d8c497d65f5erow11_col4 {\n",
       "            : ;\n",
       "            text-align:  left;\n",
       "        }    #T_cd69dfe2_420f_11eb_a029_d8c497d65f5erow11_col5 {\n",
       "            : ;\n",
       "            text-align:  left;\n",
       "        }    #T_cd69dfe2_420f_11eb_a029_d8c497d65f5erow11_col6 {\n",
       "            : ;\n",
       "            text-align:  left;\n",
       "        }    #T_cd69dfe2_420f_11eb_a029_d8c497d65f5erow11_col7 {\n",
       "            : ;\n",
       "            text-align:  left;\n",
       "        }    #T_cd69dfe2_420f_11eb_a029_d8c497d65f5erow11_col8 {\n",
       "            background-color:  lightgrey;\n",
       "            text-align:  left;\n",
       "        }    #T_cd69dfe2_420f_11eb_a029_d8c497d65f5erow12_col0 {\n",
       "            text-align:  left;\n",
       "        }    #T_cd69dfe2_420f_11eb_a029_d8c497d65f5erow12_col1 {\n",
       "            : ;\n",
       "            text-align:  left;\n",
       "        }    #T_cd69dfe2_420f_11eb_a029_d8c497d65f5erow12_col2 {\n",
       "            : ;\n",
       "            text-align:  left;\n",
       "        }    #T_cd69dfe2_420f_11eb_a029_d8c497d65f5erow12_col3 {\n",
       "            : ;\n",
       "            text-align:  left;\n",
       "        }    #T_cd69dfe2_420f_11eb_a029_d8c497d65f5erow12_col4 {\n",
       "            : ;\n",
       "            text-align:  left;\n",
       "        }    #T_cd69dfe2_420f_11eb_a029_d8c497d65f5erow12_col5 {\n",
       "            : ;\n",
       "            text-align:  left;\n",
       "        }    #T_cd69dfe2_420f_11eb_a029_d8c497d65f5erow12_col6 {\n",
       "            : ;\n",
       "            text-align:  left;\n",
       "        }    #T_cd69dfe2_420f_11eb_a029_d8c497d65f5erow12_col7 {\n",
       "            : ;\n",
       "            text-align:  left;\n",
       "        }    #T_cd69dfe2_420f_11eb_a029_d8c497d65f5erow12_col8 {\n",
       "            background-color:  lightgrey;\n",
       "            text-align:  left;\n",
       "        }    #T_cd69dfe2_420f_11eb_a029_d8c497d65f5erow13_col0 {\n",
       "            text-align:  left;\n",
       "        }    #T_cd69dfe2_420f_11eb_a029_d8c497d65f5erow13_col1 {\n",
       "            : ;\n",
       "            text-align:  left;\n",
       "        }    #T_cd69dfe2_420f_11eb_a029_d8c497d65f5erow13_col2 {\n",
       "            : ;\n",
       "            text-align:  left;\n",
       "        }    #T_cd69dfe2_420f_11eb_a029_d8c497d65f5erow13_col3 {\n",
       "            : ;\n",
       "            text-align:  left;\n",
       "        }    #T_cd69dfe2_420f_11eb_a029_d8c497d65f5erow13_col4 {\n",
       "            : ;\n",
       "            text-align:  left;\n",
       "        }    #T_cd69dfe2_420f_11eb_a029_d8c497d65f5erow13_col5 {\n",
       "            : ;\n",
       "            text-align:  left;\n",
       "        }    #T_cd69dfe2_420f_11eb_a029_d8c497d65f5erow13_col6 {\n",
       "            : ;\n",
       "            text-align:  left;\n",
       "        }    #T_cd69dfe2_420f_11eb_a029_d8c497d65f5erow13_col7 {\n",
       "            : ;\n",
       "            text-align:  left;\n",
       "        }    #T_cd69dfe2_420f_11eb_a029_d8c497d65f5erow13_col8 {\n",
       "            background-color:  lightgrey;\n",
       "            text-align:  left;\n",
       "        }    #T_cd69dfe2_420f_11eb_a029_d8c497d65f5erow14_col0 {\n",
       "            text-align:  left;\n",
       "        }    #T_cd69dfe2_420f_11eb_a029_d8c497d65f5erow14_col1 {\n",
       "            : ;\n",
       "            text-align:  left;\n",
       "        }    #T_cd69dfe2_420f_11eb_a029_d8c497d65f5erow14_col2 {\n",
       "            : ;\n",
       "            text-align:  left;\n",
       "        }    #T_cd69dfe2_420f_11eb_a029_d8c497d65f5erow14_col3 {\n",
       "            : ;\n",
       "            text-align:  left;\n",
       "        }    #T_cd69dfe2_420f_11eb_a029_d8c497d65f5erow14_col4 {\n",
       "            : ;\n",
       "            text-align:  left;\n",
       "        }    #T_cd69dfe2_420f_11eb_a029_d8c497d65f5erow14_col5 {\n",
       "            : ;\n",
       "            text-align:  left;\n",
       "        }    #T_cd69dfe2_420f_11eb_a029_d8c497d65f5erow14_col6 {\n",
       "            : ;\n",
       "            text-align:  left;\n",
       "        }    #T_cd69dfe2_420f_11eb_a029_d8c497d65f5erow14_col7 {\n",
       "            : ;\n",
       "            text-align:  left;\n",
       "        }    #T_cd69dfe2_420f_11eb_a029_d8c497d65f5erow14_col8 {\n",
       "            background-color:  lightgrey;\n",
       "            text-align:  left;\n",
       "        }</style><table id=\"T_cd69dfe2_420f_11eb_a029_d8c497d65f5e\" ><thead>    <tr>        <th class=\"blank level0\" ></th>        <th class=\"col_heading level0 col0\" >Model</th>        <th class=\"col_heading level0 col1\" >Accuracy</th>        <th class=\"col_heading level0 col2\" >AUC</th>        <th class=\"col_heading level0 col3\" >Recall</th>        <th class=\"col_heading level0 col4\" >Prec.</th>        <th class=\"col_heading level0 col5\" >F1</th>        <th class=\"col_heading level0 col6\" >Kappa</th>        <th class=\"col_heading level0 col7\" >MCC</th>        <th class=\"col_heading level0 col8\" >TT (Sec)</th>    </tr></thead><tbody>\n",
       "                <tr>\n",
       "                        <th id=\"T_cd69dfe2_420f_11eb_a029_d8c497d65f5elevel0_row0\" class=\"row_heading level0 row0\" >0</th>\n",
       "                        <td id=\"T_cd69dfe2_420f_11eb_a029_d8c497d65f5erow0_col0\" class=\"data row0 col0\" >Gradient Boosting Classifier</td>\n",
       "                        <td id=\"T_cd69dfe2_420f_11eb_a029_d8c497d65f5erow0_col1\" class=\"data row0 col1\" >0.6957</td>\n",
       "                        <td id=\"T_cd69dfe2_420f_11eb_a029_d8c497d65f5erow0_col2\" class=\"data row0 col2\" >0.7642</td>\n",
       "                        <td id=\"T_cd69dfe2_420f_11eb_a029_d8c497d65f5erow0_col3\" class=\"data row0 col3\" >0.6381</td>\n",
       "                        <td id=\"T_cd69dfe2_420f_11eb_a029_d8c497d65f5erow0_col4\" class=\"data row0 col4\" >0.7665</td>\n",
       "                        <td id=\"T_cd69dfe2_420f_11eb_a029_d8c497d65f5erow0_col5\" class=\"data row0 col5\" >0.6963</td>\n",
       "                        <td id=\"T_cd69dfe2_420f_11eb_a029_d8c497d65f5erow0_col6\" class=\"data row0 col6\" >0.3965</td>\n",
       "                        <td id=\"T_cd69dfe2_420f_11eb_a029_d8c497d65f5erow0_col7\" class=\"data row0 col7\" >0.4033</td>\n",
       "                        <td id=\"T_cd69dfe2_420f_11eb_a029_d8c497d65f5erow0_col8\" class=\"data row0 col8\" >15.5287</td>\n",
       "            </tr>\n",
       "            <tr>\n",
       "                        <th id=\"T_cd69dfe2_420f_11eb_a029_d8c497d65f5elevel0_row1\" class=\"row_heading level0 row1\" >1</th>\n",
       "                        <td id=\"T_cd69dfe2_420f_11eb_a029_d8c497d65f5erow1_col0\" class=\"data row1 col0\" >CatBoost Classifier</td>\n",
       "                        <td id=\"T_cd69dfe2_420f_11eb_a029_d8c497d65f5erow1_col1\" class=\"data row1 col1\" >0.6929</td>\n",
       "                        <td id=\"T_cd69dfe2_420f_11eb_a029_d8c497d65f5erow1_col2\" class=\"data row1 col2\" >0.7621</td>\n",
       "                        <td id=\"T_cd69dfe2_420f_11eb_a029_d8c497d65f5erow1_col3\" class=\"data row1 col3\" >0.6548</td>\n",
       "                        <td id=\"T_cd69dfe2_420f_11eb_a029_d8c497d65f5erow1_col4\" class=\"data row1 col4\" >0.7517</td>\n",
       "                        <td id=\"T_cd69dfe2_420f_11eb_a029_d8c497d65f5erow1_col5\" class=\"data row1 col5\" >0.6999</td>\n",
       "                        <td id=\"T_cd69dfe2_420f_11eb_a029_d8c497d65f5erow1_col6\" class=\"data row1 col6\" >0.3885</td>\n",
       "                        <td id=\"T_cd69dfe2_420f_11eb_a029_d8c497d65f5erow1_col7\" class=\"data row1 col7\" >0.3925</td>\n",
       "                        <td id=\"T_cd69dfe2_420f_11eb_a029_d8c497d65f5erow1_col8\" class=\"data row1 col8\" >21.3669</td>\n",
       "            </tr>\n",
       "            <tr>\n",
       "                        <th id=\"T_cd69dfe2_420f_11eb_a029_d8c497d65f5elevel0_row2\" class=\"row_heading level0 row2\" >2</th>\n",
       "                        <td id=\"T_cd69dfe2_420f_11eb_a029_d8c497d65f5erow2_col0\" class=\"data row2 col0\" >Light Gradient Boosting Machine</td>\n",
       "                        <td id=\"T_cd69dfe2_420f_11eb_a029_d8c497d65f5erow2_col1\" class=\"data row2 col1\" >0.6945</td>\n",
       "                        <td id=\"T_cd69dfe2_420f_11eb_a029_d8c497d65f5erow2_col2\" class=\"data row2 col2\" >0.7619</td>\n",
       "                        <td id=\"T_cd69dfe2_420f_11eb_a029_d8c497d65f5erow2_col3\" class=\"data row2 col3\" >0.6492</td>\n",
       "                        <td id=\"T_cd69dfe2_420f_11eb_a029_d8c497d65f5erow2_col4\" class=\"data row2 col4\" >0.7575</td>\n",
       "                        <td id=\"T_cd69dfe2_420f_11eb_a029_d8c497d65f5erow2_col5\" class=\"data row2 col5\" >0.6991</td>\n",
       "                        <td id=\"T_cd69dfe2_420f_11eb_a029_d8c497d65f5erow2_col6\" class=\"data row2 col6\" >0.3925</td>\n",
       "                        <td id=\"T_cd69dfe2_420f_11eb_a029_d8c497d65f5erow2_col7\" class=\"data row2 col7\" >0.3974</td>\n",
       "                        <td id=\"T_cd69dfe2_420f_11eb_a029_d8c497d65f5erow2_col8\" class=\"data row2 col8\" >0.7225</td>\n",
       "            </tr>\n",
       "            <tr>\n",
       "                        <th id=\"T_cd69dfe2_420f_11eb_a029_d8c497d65f5elevel0_row3\" class=\"row_heading level0 row3\" >3</th>\n",
       "                        <td id=\"T_cd69dfe2_420f_11eb_a029_d8c497d65f5erow3_col0\" class=\"data row3 col0\" >Linear Discriminant Analysis</td>\n",
       "                        <td id=\"T_cd69dfe2_420f_11eb_a029_d8c497d65f5erow3_col1\" class=\"data row3 col1\" >0.6902</td>\n",
       "                        <td id=\"T_cd69dfe2_420f_11eb_a029_d8c497d65f5erow3_col2\" class=\"data row3 col2\" >0.7594</td>\n",
       "                        <td id=\"T_cd69dfe2_420f_11eb_a029_d8c497d65f5erow3_col3\" class=\"data row3 col3\" >0.6618</td>\n",
       "                        <td id=\"T_cd69dfe2_420f_11eb_a029_d8c497d65f5erow3_col4\" class=\"data row3 col4\" >0.7436</td>\n",
       "                        <td id=\"T_cd69dfe2_420f_11eb_a029_d8c497d65f5erow3_col5\" class=\"data row3 col5\" >0.7002</td>\n",
       "                        <td id=\"T_cd69dfe2_420f_11eb_a029_d8c497d65f5erow3_col6\" class=\"data row3 col6\" >0.3819</td>\n",
       "                        <td id=\"T_cd69dfe2_420f_11eb_a029_d8c497d65f5erow3_col7\" class=\"data row3 col7\" >0.3848</td>\n",
       "                        <td id=\"T_cd69dfe2_420f_11eb_a029_d8c497d65f5erow3_col8\" class=\"data row3 col8\" >0.5884</td>\n",
       "            </tr>\n",
       "            <tr>\n",
       "                        <th id=\"T_cd69dfe2_420f_11eb_a029_d8c497d65f5elevel0_row4\" class=\"row_heading level0 row4\" >4</th>\n",
       "                        <td id=\"T_cd69dfe2_420f_11eb_a029_d8c497d65f5erow4_col0\" class=\"data row4 col0\" >Extra Trees Classifier</td>\n",
       "                        <td id=\"T_cd69dfe2_420f_11eb_a029_d8c497d65f5erow4_col1\" class=\"data row4 col1\" >0.6879</td>\n",
       "                        <td id=\"T_cd69dfe2_420f_11eb_a029_d8c497d65f5erow4_col2\" class=\"data row4 col2\" >0.7543</td>\n",
       "                        <td id=\"T_cd69dfe2_420f_11eb_a029_d8c497d65f5erow4_col3\" class=\"data row4 col3\" >0.6457</td>\n",
       "                        <td id=\"T_cd69dfe2_420f_11eb_a029_d8c497d65f5erow4_col4\" class=\"data row4 col4\" >0.7491</td>\n",
       "                        <td id=\"T_cd69dfe2_420f_11eb_a029_d8c497d65f5erow4_col5\" class=\"data row4 col5\" >0.6935</td>\n",
       "                        <td id=\"T_cd69dfe2_420f_11eb_a029_d8c497d65f5erow4_col6\" class=\"data row4 col6\" >0.3792</td>\n",
       "                        <td id=\"T_cd69dfe2_420f_11eb_a029_d8c497d65f5erow4_col7\" class=\"data row4 col7\" >0.3836</td>\n",
       "                        <td id=\"T_cd69dfe2_420f_11eb_a029_d8c497d65f5erow4_col8\" class=\"data row4 col8\" >1.9917</td>\n",
       "            </tr>\n",
       "            <tr>\n",
       "                        <th id=\"T_cd69dfe2_420f_11eb_a029_d8c497d65f5elevel0_row5\" class=\"row_heading level0 row5\" >5</th>\n",
       "                        <td id=\"T_cd69dfe2_420f_11eb_a029_d8c497d65f5erow5_col0\" class=\"data row5 col0\" >Ada Boost Classifier</td>\n",
       "                        <td id=\"T_cd69dfe2_420f_11eb_a029_d8c497d65f5erow5_col1\" class=\"data row5 col1\" >0.6858</td>\n",
       "                        <td id=\"T_cd69dfe2_420f_11eb_a029_d8c497d65f5erow5_col2\" class=\"data row5 col2\" >0.7537</td>\n",
       "                        <td id=\"T_cd69dfe2_420f_11eb_a029_d8c497d65f5erow5_col3\" class=\"data row5 col3\" >0.6503</td>\n",
       "                        <td id=\"T_cd69dfe2_420f_11eb_a029_d8c497d65f5erow5_col4\" class=\"data row5 col4\" >0.7432</td>\n",
       "                        <td id=\"T_cd69dfe2_420f_11eb_a029_d8c497d65f5erow5_col5\" class=\"data row5 col5\" >0.6936</td>\n",
       "                        <td id=\"T_cd69dfe2_420f_11eb_a029_d8c497d65f5erow5_col6\" class=\"data row5 col6\" >0.3742</td>\n",
       "                        <td id=\"T_cd69dfe2_420f_11eb_a029_d8c497d65f5erow5_col7\" class=\"data row5 col7\" >0.3778</td>\n",
       "                        <td id=\"T_cd69dfe2_420f_11eb_a029_d8c497d65f5erow5_col8\" class=\"data row5 col8\" >3.5314</td>\n",
       "            </tr>\n",
       "            <tr>\n",
       "                        <th id=\"T_cd69dfe2_420f_11eb_a029_d8c497d65f5elevel0_row6\" class=\"row_heading level0 row6\" >6</th>\n",
       "                        <td id=\"T_cd69dfe2_420f_11eb_a029_d8c497d65f5erow6_col0\" class=\"data row6 col0\" >Extreme Gradient Boosting</td>\n",
       "                        <td id=\"T_cd69dfe2_420f_11eb_a029_d8c497d65f5erow6_col1\" class=\"data row6 col1\" >0.6741</td>\n",
       "                        <td id=\"T_cd69dfe2_420f_11eb_a029_d8c497d65f5erow6_col2\" class=\"data row6 col2\" >0.7418</td>\n",
       "                        <td id=\"T_cd69dfe2_420f_11eb_a029_d8c497d65f5erow6_col3\" class=\"data row6 col3\" >0.6612</td>\n",
       "                        <td id=\"T_cd69dfe2_420f_11eb_a029_d8c497d65f5erow6_col4\" class=\"data row6 col4\" >0.7200</td>\n",
       "                        <td id=\"T_cd69dfe2_420f_11eb_a029_d8c497d65f5erow6_col5\" class=\"data row6 col5\" >0.6893</td>\n",
       "                        <td id=\"T_cd69dfe2_420f_11eb_a029_d8c497d65f5erow6_col6\" class=\"data row6 col6\" >0.3479</td>\n",
       "                        <td id=\"T_cd69dfe2_420f_11eb_a029_d8c497d65f5erow6_col7\" class=\"data row6 col7\" >0.3494</td>\n",
       "                        <td id=\"T_cd69dfe2_420f_11eb_a029_d8c497d65f5erow6_col8\" class=\"data row6 col8\" >4.2836</td>\n",
       "            </tr>\n",
       "            <tr>\n",
       "                        <th id=\"T_cd69dfe2_420f_11eb_a029_d8c497d65f5elevel0_row7\" class=\"row_heading level0 row7\" >7</th>\n",
       "                        <td id=\"T_cd69dfe2_420f_11eb_a029_d8c497d65f5erow7_col0\" class=\"data row7 col0\" >Random Forest Classifier</td>\n",
       "                        <td id=\"T_cd69dfe2_420f_11eb_a029_d8c497d65f5erow7_col1\" class=\"data row7 col1\" >0.6594</td>\n",
       "                        <td id=\"T_cd69dfe2_420f_11eb_a029_d8c497d65f5erow7_col2\" class=\"data row7 col2\" >0.7199</td>\n",
       "                        <td id=\"T_cd69dfe2_420f_11eb_a029_d8c497d65f5erow7_col3\" class=\"data row7 col3\" >0.6035</td>\n",
       "                        <td id=\"T_cd69dfe2_420f_11eb_a029_d8c497d65f5erow7_col4\" class=\"data row7 col4\" >0.7274</td>\n",
       "                        <td id=\"T_cd69dfe2_420f_11eb_a029_d8c497d65f5erow7_col5\" class=\"data row7 col5\" >0.6596</td>\n",
       "                        <td id=\"T_cd69dfe2_420f_11eb_a029_d8c497d65f5erow7_col6\" class=\"data row7 col6\" >0.3248</td>\n",
       "                        <td id=\"T_cd69dfe2_420f_11eb_a029_d8c497d65f5erow7_col7\" class=\"data row7 col7\" >0.3305</td>\n",
       "                        <td id=\"T_cd69dfe2_420f_11eb_a029_d8c497d65f5erow7_col8\" class=\"data row7 col8\" >0.3776</td>\n",
       "            </tr>\n",
       "            <tr>\n",
       "                        <th id=\"T_cd69dfe2_420f_11eb_a029_d8c497d65f5elevel0_row8\" class=\"row_heading level0 row8\" >8</th>\n",
       "                        <td id=\"T_cd69dfe2_420f_11eb_a029_d8c497d65f5erow8_col0\" class=\"data row8 col0\" >Quadratic Discriminant Analysis</td>\n",
       "                        <td id=\"T_cd69dfe2_420f_11eb_a029_d8c497d65f5erow8_col1\" class=\"data row8 col1\" >0.6472</td>\n",
       "                        <td id=\"T_cd69dfe2_420f_11eb_a029_d8c497d65f5erow8_col2\" class=\"data row8 col2\" >0.7143</td>\n",
       "                        <td id=\"T_cd69dfe2_420f_11eb_a029_d8c497d65f5erow8_col3\" class=\"data row8 col3\" >0.6072</td>\n",
       "                        <td id=\"T_cd69dfe2_420f_11eb_a029_d8c497d65f5erow8_col4\" class=\"data row8 col4\" >0.7218</td>\n",
       "                        <td id=\"T_cd69dfe2_420f_11eb_a029_d8c497d65f5erow8_col5\" class=\"data row8 col5\" >0.6459</td>\n",
       "                        <td id=\"T_cd69dfe2_420f_11eb_a029_d8c497d65f5erow8_col6\" class=\"data row8 col6\" >0.2981</td>\n",
       "                        <td id=\"T_cd69dfe2_420f_11eb_a029_d8c497d65f5erow8_col7\" class=\"data row8 col7\" >0.3139</td>\n",
       "                        <td id=\"T_cd69dfe2_420f_11eb_a029_d8c497d65f5erow8_col8\" class=\"data row8 col8\" >0.3291</td>\n",
       "            </tr>\n",
       "            <tr>\n",
       "                        <th id=\"T_cd69dfe2_420f_11eb_a029_d8c497d65f5elevel0_row9\" class=\"row_heading level0 row9\" >9</th>\n",
       "                        <td id=\"T_cd69dfe2_420f_11eb_a029_d8c497d65f5erow9_col0\" class=\"data row9 col0\" >Decision Tree Classifier</td>\n",
       "                        <td id=\"T_cd69dfe2_420f_11eb_a029_d8c497d65f5erow9_col1\" class=\"data row9 col1\" >0.6062</td>\n",
       "                        <td id=\"T_cd69dfe2_420f_11eb_a029_d8c497d65f5erow9_col2\" class=\"data row9 col2\" >0.6029</td>\n",
       "                        <td id=\"T_cd69dfe2_420f_11eb_a029_d8c497d65f5erow9_col3\" class=\"data row9 col3\" >0.6383</td>\n",
       "                        <td id=\"T_cd69dfe2_420f_11eb_a029_d8c497d65f5erow9_col4\" class=\"data row9 col4\" >0.6404</td>\n",
       "                        <td id=\"T_cd69dfe2_420f_11eb_a029_d8c497d65f5erow9_col5\" class=\"data row9 col5\" >0.6393</td>\n",
       "                        <td id=\"T_cd69dfe2_420f_11eb_a029_d8c497d65f5erow9_col6\" class=\"data row9 col6\" >0.2058</td>\n",
       "                        <td id=\"T_cd69dfe2_420f_11eb_a029_d8c497d65f5erow9_col7\" class=\"data row9 col7\" >0.2058</td>\n",
       "                        <td id=\"T_cd69dfe2_420f_11eb_a029_d8c497d65f5erow9_col8\" class=\"data row9 col8\" >1.1400</td>\n",
       "            </tr>\n",
       "            <tr>\n",
       "                        <th id=\"T_cd69dfe2_420f_11eb_a029_d8c497d65f5elevel0_row10\" class=\"row_heading level0 row10\" >10</th>\n",
       "                        <td id=\"T_cd69dfe2_420f_11eb_a029_d8c497d65f5erow10_col0\" class=\"data row10 col0\" >Logistic Regression</td>\n",
       "                        <td id=\"T_cd69dfe2_420f_11eb_a029_d8c497d65f5erow10_col1\" class=\"data row10 col1\" >0.5513</td>\n",
       "                        <td id=\"T_cd69dfe2_420f_11eb_a029_d8c497d65f5erow10_col2\" class=\"data row10 col2\" >0.5466</td>\n",
       "                        <td id=\"T_cd69dfe2_420f_11eb_a029_d8c497d65f5erow10_col3\" class=\"data row10 col3\" >0.9798</td>\n",
       "                        <td id=\"T_cd69dfe2_420f_11eb_a029_d8c497d65f5erow10_col4\" class=\"data row10 col4\" >0.5505</td>\n",
       "                        <td id=\"T_cd69dfe2_420f_11eb_a029_d8c497d65f5erow10_col5\" class=\"data row10 col5\" >0.7048</td>\n",
       "                        <td id=\"T_cd69dfe2_420f_11eb_a029_d8c497d65f5erow10_col6\" class=\"data row10 col6\" >0.0153</td>\n",
       "                        <td id=\"T_cd69dfe2_420f_11eb_a029_d8c497d65f5erow10_col7\" class=\"data row10 col7\" >0.0386</td>\n",
       "                        <td id=\"T_cd69dfe2_420f_11eb_a029_d8c497d65f5erow10_col8\" class=\"data row10 col8\" >1.0352</td>\n",
       "            </tr>\n",
       "            <tr>\n",
       "                        <th id=\"T_cd69dfe2_420f_11eb_a029_d8c497d65f5elevel0_row11\" class=\"row_heading level0 row11\" >11</th>\n",
       "                        <td id=\"T_cd69dfe2_420f_11eb_a029_d8c497d65f5erow11_col0\" class=\"data row11 col0\" >Naive Bayes</td>\n",
       "                        <td id=\"T_cd69dfe2_420f_11eb_a029_d8c497d65f5erow11_col1\" class=\"data row11 col1\" >0.4546</td>\n",
       "                        <td id=\"T_cd69dfe2_420f_11eb_a029_d8c497d65f5erow11_col2\" class=\"data row11 col2\" >0.5304</td>\n",
       "                        <td id=\"T_cd69dfe2_420f_11eb_a029_d8c497d65f5erow11_col3\" class=\"data row11 col3\" >0.0194</td>\n",
       "                        <td id=\"T_cd69dfe2_420f_11eb_a029_d8c497d65f5erow11_col4\" class=\"data row11 col4\" >0.5391</td>\n",
       "                        <td id=\"T_cd69dfe2_420f_11eb_a029_d8c497d65f5erow11_col5\" class=\"data row11 col5\" >0.0374</td>\n",
       "                        <td id=\"T_cd69dfe2_420f_11eb_a029_d8c497d65f5erow11_col6\" class=\"data row11 col6\" >-0.0008</td>\n",
       "                        <td id=\"T_cd69dfe2_420f_11eb_a029_d8c497d65f5erow11_col7\" class=\"data row11 col7\" >-0.0027</td>\n",
       "                        <td id=\"T_cd69dfe2_420f_11eb_a029_d8c497d65f5erow11_col8\" class=\"data row11 col8\" >0.0711</td>\n",
       "            </tr>\n",
       "            <tr>\n",
       "                        <th id=\"T_cd69dfe2_420f_11eb_a029_d8c497d65f5elevel0_row12\" class=\"row_heading level0 row12\" >12</th>\n",
       "                        <td id=\"T_cd69dfe2_420f_11eb_a029_d8c497d65f5erow12_col0\" class=\"data row12 col0\" >K Neighbors Classifier</td>\n",
       "                        <td id=\"T_cd69dfe2_420f_11eb_a029_d8c497d65f5erow12_col1\" class=\"data row12 col1\" >0.5147</td>\n",
       "                        <td id=\"T_cd69dfe2_420f_11eb_a029_d8c497d65f5erow12_col2\" class=\"data row12 col2\" >0.5128</td>\n",
       "                        <td id=\"T_cd69dfe2_420f_11eb_a029_d8c497d65f5erow12_col3\" class=\"data row12 col3\" >0.5503</td>\n",
       "                        <td id=\"T_cd69dfe2_420f_11eb_a029_d8c497d65f5erow12_col4\" class=\"data row12 col4\" >0.5569</td>\n",
       "                        <td id=\"T_cd69dfe2_420f_11eb_a029_d8c497d65f5erow12_col5\" class=\"data row12 col5\" >0.5536</td>\n",
       "                        <td id=\"T_cd69dfe2_420f_11eb_a029_d8c497d65f5erow12_col6\" class=\"data row12 col6\" >0.0221</td>\n",
       "                        <td id=\"T_cd69dfe2_420f_11eb_a029_d8c497d65f5erow12_col7\" class=\"data row12 col7\" >0.0221</td>\n",
       "                        <td id=\"T_cd69dfe2_420f_11eb_a029_d8c497d65f5erow12_col8\" class=\"data row12 col8\" >0.7387</td>\n",
       "            </tr>\n",
       "            <tr>\n",
       "                        <th id=\"T_cd69dfe2_420f_11eb_a029_d8c497d65f5elevel0_row13\" class=\"row_heading level0 row13\" >13</th>\n",
       "                        <td id=\"T_cd69dfe2_420f_11eb_a029_d8c497d65f5erow13_col0\" class=\"data row13 col0\" >SVM - Linear Kernel</td>\n",
       "                        <td id=\"T_cd69dfe2_420f_11eb_a029_d8c497d65f5erow13_col1\" class=\"data row13 col1\" >0.5063</td>\n",
       "                        <td id=\"T_cd69dfe2_420f_11eb_a029_d8c497d65f5erow13_col2\" class=\"data row13 col2\" >0.0000</td>\n",
       "                        <td id=\"T_cd69dfe2_420f_11eb_a029_d8c497d65f5erow13_col3\" class=\"data row13 col3\" >0.6447</td>\n",
       "                        <td id=\"T_cd69dfe2_420f_11eb_a029_d8c497d65f5erow13_col4\" class=\"data row13 col4\" >0.5403</td>\n",
       "                        <td id=\"T_cd69dfe2_420f_11eb_a029_d8c497d65f5erow13_col5\" class=\"data row13 col5\" >0.5777</td>\n",
       "                        <td id=\"T_cd69dfe2_420f_11eb_a029_d8c497d65f5erow13_col6\" class=\"data row13 col6\" >-0.0162</td>\n",
       "                        <td id=\"T_cd69dfe2_420f_11eb_a029_d8c497d65f5erow13_col7\" class=\"data row13 col7\" >-0.0181</td>\n",
       "                        <td id=\"T_cd69dfe2_420f_11eb_a029_d8c497d65f5erow13_col8\" class=\"data row13 col8\" >0.1842</td>\n",
       "            </tr>\n",
       "            <tr>\n",
       "                        <th id=\"T_cd69dfe2_420f_11eb_a029_d8c497d65f5elevel0_row14\" class=\"row_heading level0 row14\" >14</th>\n",
       "                        <td id=\"T_cd69dfe2_420f_11eb_a029_d8c497d65f5erow14_col0\" class=\"data row14 col0\" >Ridge Classifier</td>\n",
       "                        <td id=\"T_cd69dfe2_420f_11eb_a029_d8c497d65f5erow14_col1\" class=\"data row14 col1\" >0.6901</td>\n",
       "                        <td id=\"T_cd69dfe2_420f_11eb_a029_d8c497d65f5erow14_col2\" class=\"data row14 col2\" >0.0000</td>\n",
       "                        <td id=\"T_cd69dfe2_420f_11eb_a029_d8c497d65f5erow14_col3\" class=\"data row14 col3\" >0.6618</td>\n",
       "                        <td id=\"T_cd69dfe2_420f_11eb_a029_d8c497d65f5erow14_col4\" class=\"data row14 col4\" >0.7434</td>\n",
       "                        <td id=\"T_cd69dfe2_420f_11eb_a029_d8c497d65f5erow14_col5\" class=\"data row14 col5\" >0.7002</td>\n",
       "                        <td id=\"T_cd69dfe2_420f_11eb_a029_d8c497d65f5erow14_col6\" class=\"data row14 col6\" >0.3818</td>\n",
       "                        <td id=\"T_cd69dfe2_420f_11eb_a029_d8c497d65f5erow14_col7\" class=\"data row14 col7\" >0.3846</td>\n",
       "                        <td id=\"T_cd69dfe2_420f_11eb_a029_d8c497d65f5erow14_col8\" class=\"data row14 col8\" >0.1082</td>\n",
       "            </tr>\n",
       "    </tbody></table>"
      ],
      "text/plain": [
       "<pandas.io.formats.style.Styler at 0x241a9c25f88>"
      ]
     },
     "metadata": {},
     "output_type": "display_data"
    }
   ],
   "source": [
    "best_3 = compare_models(sort = 'AUC', n_select = 3)"
   ]
  },
  {
   "cell_type": "code",
   "execution_count": null,
   "metadata": {
    "ExecuteTime": {
     "start_time": "2020-12-19T15:10:38.492Z"
    }
   },
   "outputs": [
    {
     "data": {
      "application/vnd.jupyter.widget-view+json": {
       "model_id": "8cd806d612cf4af19cb807d05339296e",
       "version_major": 2,
       "version_minor": 0
      },
      "text/plain": [
       "IntProgress(value=0, description='Processing: ', max=9)"
      ]
     },
     "metadata": {},
     "output_type": "display_data"
    },
    {
     "data": {
      "text/html": [
       "<div>\n",
       "<style scoped>\n",
       "    .dataframe tbody tr th:only-of-type {\n",
       "        vertical-align: middle;\n",
       "    }\n",
       "\n",
       "    .dataframe tbody tr th {\n",
       "        vertical-align: top;\n",
       "    }\n",
       "\n",
       "    .dataframe thead th {\n",
       "        text-align: right;\n",
       "    }\n",
       "</style>\n",
       "<table border=\"1\" class=\"dataframe\">\n",
       "  <thead>\n",
       "    <tr style=\"text-align: right;\">\n",
       "      <th></th>\n",
       "      <th></th>\n",
       "      <th></th>\n",
       "    </tr>\n",
       "    <tr>\n",
       "      <th></th>\n",
       "      <th></th>\n",
       "      <th></th>\n",
       "    </tr>\n",
       "  </thead>\n",
       "  <tbody>\n",
       "    <tr>\n",
       "      <th>Initiated</th>\n",
       "      <td>. . . . . . . . . . . . . . . . . .</td>\n",
       "      <td>00:35:20</td>\n",
       "    </tr>\n",
       "    <tr>\n",
       "      <th>Status</th>\n",
       "      <td>. . . . . . . . . . . . . . . . . .</td>\n",
       "      <td>Fitting Fold 4 of 5</td>\n",
       "    </tr>\n",
       "    <tr>\n",
       "      <th>ETC</th>\n",
       "      <td>. . . . . . . . . . . . . . . . . .</td>\n",
       "      <td>1.09 Minutes Remaining</td>\n",
       "    </tr>\n",
       "  </tbody>\n",
       "</table>\n",
       "</div>"
      ],
      "text/plain": [
       "                                                                      \n",
       "                                                                      \n",
       "Initiated  . . . . . . . . . . . . . . . . . .                00:35:20\n",
       "Status     . . . . . . . . . . . . . . . . . .     Fitting Fold 4 of 5\n",
       "ETC        . . . . . . . . . . . . . . . . . .  1.09 Minutes Remaining"
      ]
     },
     "metadata": {},
     "output_type": "display_data"
    },
    {
     "data": {
      "text/html": [
       "<div>\n",
       "<style scoped>\n",
       "    .dataframe tbody tr th:only-of-type {\n",
       "        vertical-align: middle;\n",
       "    }\n",
       "\n",
       "    .dataframe tbody tr th {\n",
       "        vertical-align: top;\n",
       "    }\n",
       "\n",
       "    .dataframe thead th {\n",
       "        text-align: right;\n",
       "    }\n",
       "</style>\n",
       "<table border=\"1\" class=\"dataframe\">\n",
       "  <thead>\n",
       "    <tr style=\"text-align: right;\">\n",
       "      <th></th>\n",
       "      <th>Accuracy</th>\n",
       "      <th>AUC</th>\n",
       "      <th>Recall</th>\n",
       "      <th>Prec.</th>\n",
       "      <th>F1</th>\n",
       "      <th>Kappa</th>\n",
       "      <th>MCC</th>\n",
       "    </tr>\n",
       "  </thead>\n",
       "  <tbody>\n",
       "    <tr>\n",
       "      <th>0</th>\n",
       "      <td>0.7002</td>\n",
       "      <td>0.7713</td>\n",
       "      <td>0.6515</td>\n",
       "      <td>0.7654</td>\n",
       "      <td>0.7039</td>\n",
       "      <td>0.4042</td>\n",
       "      <td>0.4096</td>\n",
       "    </tr>\n",
       "    <tr>\n",
       "      <th>1</th>\n",
       "      <td>0.6935</td>\n",
       "      <td>0.7606</td>\n",
       "      <td>0.6429</td>\n",
       "      <td>0.7597</td>\n",
       "      <td>0.6964</td>\n",
       "      <td>0.3913</td>\n",
       "      <td>0.3969</td>\n",
       "    </tr>\n",
       "    <tr>\n",
       "      <th>2</th>\n",
       "      <td>0.6982</td>\n",
       "      <td>0.7646</td>\n",
       "      <td>0.6442</td>\n",
       "      <td>0.7665</td>\n",
       "      <td>0.7001</td>\n",
       "      <td>0.4009</td>\n",
       "      <td>0.4070</td>\n",
       "    </tr>\n",
       "  </tbody>\n",
       "</table>\n",
       "</div>"
      ],
      "text/plain": [
       "   Accuracy     AUC  Recall   Prec.      F1   Kappa     MCC\n",
       "0    0.7002  0.7713  0.6515  0.7654  0.7039  0.4042  0.4096\n",
       "1    0.6935  0.7606  0.6429  0.7597  0.6964  0.3913  0.3969\n",
       "2    0.6982  0.7646  0.6442  0.7665  0.7001  0.4009  0.4070"
      ]
     },
     "metadata": {},
     "output_type": "display_data"
    }
   ],
   "source": [
    "blended = blend_models(estimator_list = best_3, fold = 5, method = 'soft')"
   ]
  },
  {
   "cell_type": "code",
   "execution_count": null,
   "metadata": {
    "ExecuteTime": {
     "start_time": "2020-12-19T15:10:38.494Z"
    }
   },
   "outputs": [],
   "source": [
    "pred_holdout = predict_model(blended)"
   ]
  },
  {
   "cell_type": "code",
   "execution_count": null,
   "metadata": {
    "ExecuteTime": {
     "start_time": "2020-12-19T15:10:38.495Z"
    }
   },
   "outputs": [],
   "source": [
    "final_model = finalize_model(blended)"
   ]
  },
  {
   "cell_type": "code",
   "execution_count": null,
   "metadata": {
    "ExecuteTime": {
     "start_time": "2020-12-19T15:10:38.498Z"
    }
   },
   "outputs": [],
   "source": [
    "predictions = predict_model(final_model, data = test)\n",
    "predictions"
   ]
  },
  {
   "cell_type": "code",
   "execution_count": null,
   "metadata": {
    "ExecuteTime": {
     "start_time": "2020-12-19T15:10:38.499Z"
    }
   },
   "outputs": [],
   "source": [
    "submission['voted'] = predictions['Score']"
   ]
  },
  {
   "cell_type": "code",
   "execution_count": null,
   "metadata": {
    "ExecuteTime": {
     "start_time": "2020-12-19T15:10:38.500Z"
    }
   },
   "outputs": [],
   "source": [
    "submission.to_csv('submission_proba1.csv', index = False)"
   ]
  },
  {
   "cell_type": "code",
   "execution_count": null,
   "metadata": {
    "ExecuteTime": {
     "start_time": "2020-12-19T15:10:38.502Z"
    }
   },
   "outputs": [],
   "source": [
    "#https://pycaret.readthedocs.io/en/latest/index.html#pycaret.classification.setup"
   ]
  }
 ],
 "metadata": {
  "hide_input": false,
  "jupytext": {
   "encoding": "# -*- coding: utf-8 -*-",
   "formats": "ipynb,py:light"
  },
  "kernelspec": {
   "display_name": "Python 3",
   "language": "python",
   "name": "python3"
  },
  "language_info": {
   "codemirror_mode": {
    "name": "ipython",
    "version": 3
   },
   "file_extension": ".py",
   "mimetype": "text/x-python",
   "name": "python",
   "nbconvert_exporter": "python",
   "pygments_lexer": "ipython3",
   "version": "3.7.6"
  }
 },
 "nbformat": 4,
 "nbformat_minor": 2
}
