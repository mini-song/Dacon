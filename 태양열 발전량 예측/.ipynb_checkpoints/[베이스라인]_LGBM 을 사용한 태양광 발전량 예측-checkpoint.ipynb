{
 "cells": [
  {
   "cell_type": "code",
   "execution_count": null,
   "metadata": {
    "ExecuteTime": {
     "end_time": "2020-12-21T18:20:20.988903Z",
     "start_time": "2020-12-21T18:20:19.117670Z"
    }
   },
   "outputs": [],
   "source": [
    "import pandas as pd\n",
    "import numpy as np\n",
    "import os\n",
    "import glob\n",
    "import random\n",
    "\n",
    "import warnings\n",
    "warnings.filterwarnings(\"ignore\")"
   ]
  },
  {
   "cell_type": "markdown",
   "metadata": {},
   "source": [
    "## Baseline"
   ]
  },
  {
   "cell_type": "code",
   "execution_count": null,
   "metadata": {
    "ExecuteTime": {
     "end_time": "2020-12-21T18:20:21.050738Z",
     "start_time": "2020-12-21T18:20:20.992892Z"
    }
   },
   "outputs": [],
   "source": [
    "train = pd.read_csv('train.csv')"
   ]
  },
  {
   "cell_type": "code",
   "execution_count": null,
   "metadata": {
    "ExecuteTime": {
     "end_time": "2020-12-21T18:20:21.074225Z",
     "start_time": "2020-12-21T18:20:21.052732Z"
    }
   },
   "outputs": [],
   "source": [
    "train.tail()"
   ]
  },
  {
   "cell_type": "code",
   "execution_count": null,
   "metadata": {
    "ExecuteTime": {
     "end_time": "2020-12-21T18:20:21.083176Z",
     "start_time": "2020-12-21T18:20:21.075229Z"
    }
   },
   "outputs": [],
   "source": [
    "test_files = glob.glob('test/*.csv')\n",
    "len(test_files)"
   ]
  },
  {
   "cell_type": "code",
   "execution_count": null,
   "metadata": {
    "ExecuteTime": {
     "end_time": "2020-12-21T18:20:21.132049Z",
     "start_time": "2020-12-21T18:20:21.085169Z"
    }
   },
   "outputs": [],
   "source": [
    "print(test_files[0])\n",
    "test1 = pd.read_csv(test_files[0])\n",
    "test1.head(48)"
   ]
  },
  {
   "cell_type": "code",
   "execution_count": null,
   "metadata": {
    "ExecuteTime": {
     "end_time": "2020-12-21T18:20:21.142047Z",
     "start_time": "2020-12-21T18:20:21.138029Z"
    }
   },
   "outputs": [],
   "source": [
    "test_files[0]"
   ]
  },
  {
   "cell_type": "code",
   "execution_count": null,
   "metadata": {
    "ExecuteTime": {
     "end_time": "2020-12-21T18:20:21.168947Z",
     "start_time": "2020-12-21T18:20:21.149009Z"
    }
   },
   "outputs": [],
   "source": [
    "test1"
   ]
  },
  {
   "cell_type": "code",
   "execution_count": null,
   "metadata": {
    "ExecuteTime": {
     "end_time": "2020-12-21T18:20:21.209835Z",
     "start_time": "2020-12-21T18:20:21.170942Z"
    }
   },
   "outputs": [],
   "source": [
    "submission = pd.read_csv('sample_submission.csv')"
   ]
  },
  {
   "cell_type": "code",
   "execution_count": null,
   "metadata": {
    "ExecuteTime": {
     "end_time": "2020-12-21T18:20:21.237761Z",
     "start_time": "2020-12-21T18:20:21.210832Z"
    }
   },
   "outputs": [],
   "source": [
    "submission.tail()"
   ]
  },
  {
   "cell_type": "code",
   "execution_count": null,
   "metadata": {
    "ExecuteTime": {
     "end_time": "2020-12-21T18:20:21.341513Z",
     "start_time": "2020-12-21T18:20:21.241753Z"
    }
   },
   "outputs": [],
   "source": [
    "def create_lag_feats(data, lags, cols):\n",
    "    \n",
    "    lag_cols = []\n",
    "    temp = data.copy()\n",
    "    for col in cols:\n",
    "        for lag in lags:\n",
    "            temp[col + '_lag_%s'%lag] = temp[col].shift(lag)\n",
    "            temp['Target1'] = temp['TARGET']\n",
    "            temp['Target2'] = temp['TARGET'].shift(-48).fillna(method='ffill')  \n",
    "            lag_cols.append(col + '_lag_%s'%lag)\n",
    "\n",
    "    return temp, lag_cols\n",
    "    \n",
    "\n",
    "def preprocess_data(data, target_lags=[48], weather_lags=[48], is_train=True):\n",
    "    \n",
    "    temp = data.copy()\n",
    "\n",
    "    if is_train==True:          \n",
    "    \n",
    "        temp, temp_lag_cols1 = create_lag_feats(temp, target_lags, ['TARGET'])\n",
    "        temp, temp_lag_cols2 = create_lag_feats(temp, weather_lags, ['DHI', 'DNI', 'WS', 'RH', 'T'])\n",
    "     \n",
    "        return temp[['Hour'] + temp_lag_cols1 + temp_lag_cols2 + ['Target1', 'Target2']].dropna()\n",
    "\n",
    "    elif is_train==False:    \n",
    "        \n",
    "        temp, temp_lag_cols1 = create_lag_feats(temp, target_lags, ['TARGET'])\n",
    "        temp, temp_lag_cols2 = create_lag_feats(temp, weather_lags, ['DHI', 'DNI', 'WS', 'RH', 'T'])\n",
    "                              \n",
    "        return temp[['Hour'] + temp_lag_cols1 + temp_lag_cols2].dropna()\n",
    "\n",
    "\n",
    "df_train = preprocess_data(train, target_lags=[48], weather_lags=[48], is_train=True)\n",
    "df_train.iloc[:48]"
   ]
  },
  {
   "cell_type": "code",
   "execution_count": null,
   "metadata": {
    "ExecuteTime": {
     "end_time": "2020-12-21T18:20:21.371405Z",
     "start_time": "2020-12-21T18:20:21.343505Z"
    }
   },
   "outputs": [],
   "source": [
    "train.iloc[48:96]"
   ]
  },
  {
   "cell_type": "code",
   "execution_count": null,
   "metadata": {
    "ExecuteTime": {
     "end_time": "2020-12-21T18:20:21.411300Z",
     "start_time": "2020-12-21T18:20:21.374396Z"
    }
   },
   "outputs": [],
   "source": [
    "train.iloc[48+48:96+48]"
   ]
  },
  {
   "cell_type": "code",
   "execution_count": null,
   "metadata": {
    "ExecuteTime": {
     "end_time": "2020-12-21T18:20:21.432255Z",
     "start_time": "2020-12-21T18:20:21.414290Z"
    }
   },
   "outputs": [],
   "source": [
    "df_train.tail()"
   ]
  },
  {
   "cell_type": "code",
   "execution_count": null,
   "metadata": {
    "ExecuteTime": {
     "end_time": "2020-12-21T18:20:22.891397Z",
     "start_time": "2020-12-21T18:20:21.437227Z"
    }
   },
   "outputs": [],
   "source": [
    "df_test = []\n",
    "\n",
    "for test_file in test_files:\n",
    "    temp = pd.read_csv(test_file)\n",
    "    temp = preprocess_data(temp, target_lags=[48], weather_lags=[48], is_train=False).iloc[-48:]\n",
    "    df_test.append(temp)\n",
    "\n",
    "X_test = pd.concat(df_test)\n",
    "X_test.shape"
   ]
  },
  {
   "cell_type": "code",
   "execution_count": null,
   "metadata": {
    "ExecuteTime": {
     "end_time": "2020-12-21T18:20:22.936281Z",
     "start_time": "2020-12-21T18:20:22.893391Z"
    }
   },
   "outputs": [],
   "source": [
    "temp = pd.read_csv(test_files[0])\n",
    "preprocess_data(temp, target_lags=[48], weather_lags=[48], is_train=False).iloc[-48:].shape"
   ]
  },
  {
   "cell_type": "code",
   "execution_count": null,
   "metadata": {
    "ExecuteTime": {
     "end_time": "2020-12-21T18:20:22.961212Z",
     "start_time": "2020-12-21T18:20:22.942290Z"
    }
   },
   "outputs": [],
   "source": [
    "X_test.head()"
   ]
  },
  {
   "cell_type": "code",
   "execution_count": null,
   "metadata": {
    "ExecuteTime": {
     "end_time": "2020-12-21T18:20:22.983160Z",
     "start_time": "2020-12-21T18:20:22.962208Z"
    }
   },
   "outputs": [],
   "source": [
    "X_test.duplicated().sum()"
   ]
  },
  {
   "cell_type": "code",
   "execution_count": null,
   "metadata": {
    "ExecuteTime": {
     "end_time": "2020-12-21T18:20:23.036019Z",
     "start_time": "2020-12-21T18:20:22.990135Z"
    }
   },
   "outputs": [],
   "source": [
    "X_test[X_test.duplicated()]"
   ]
  },
  {
   "cell_type": "code",
   "execution_count": null,
   "metadata": {
    "ExecuteTime": {
     "end_time": "2020-12-21T18:20:23.060943Z",
     "start_time": "2020-12-21T18:20:23.039002Z"
    }
   },
   "outputs": [],
   "source": [
    "df_train.head()"
   ]
  },
  {
   "cell_type": "code",
   "execution_count": null,
   "metadata": {
    "ExecuteTime": {
     "end_time": "2020-12-21T18:20:25.628312Z",
     "start_time": "2020-12-21T18:20:23.063936Z"
    }
   },
   "outputs": [],
   "source": [
    "from sklearn.model_selection import train_test_split\n",
    "X_train_1, X_valid_1, Y_train_1, Y_valid_1 = train_test_split(df_train.iloc[:, :-2], df_train.iloc[:, -2], test_size=0.3, random_state=0)\n",
    "X_train_2, X_valid_2, Y_train_2, Y_valid_2 = train_test_split(df_train.iloc[:, :-2], df_train.iloc[:, -1], test_size=0.3, random_state=0)"
   ]
  },
  {
   "cell_type": "code",
   "execution_count": null,
   "metadata": {
    "ExecuteTime": {
     "end_time": "2020-12-21T18:20:25.647178Z",
     "start_time": "2020-12-21T18:20:25.630256Z"
    }
   },
   "outputs": [],
   "source": [
    "X_train_1.head()"
   ]
  },
  {
   "cell_type": "code",
   "execution_count": null,
   "metadata": {
    "ExecuteTime": {
     "end_time": "2020-12-21T18:20:25.680092Z",
     "start_time": "2020-12-21T18:20:25.654161Z"
    }
   },
   "outputs": [],
   "source": [
    "X_test.head()"
   ]
  },
  {
   "cell_type": "code",
   "execution_count": null,
   "metadata": {
    "ExecuteTime": {
     "end_time": "2020-12-21T18:20:25.711008Z",
     "start_time": "2020-12-21T18:20:25.688073Z"
    }
   },
   "outputs": [],
   "source": [
    "X_test.head()"
   ]
  },
  {
   "cell_type": "code",
   "execution_count": null,
   "metadata": {
    "ExecuteTime": {
     "end_time": "2020-12-21T18:20:25.725971Z",
     "start_time": "2020-12-21T18:20:25.714000Z"
    }
   },
   "outputs": [],
   "source": [
    "quantiles = [0.1, 0.2, 0.3, 0.4, 0.5, 0.6, 0.7, 0.8, 0.9]"
   ]
  },
  {
   "cell_type": "code",
   "execution_count": null,
   "metadata": {
    "ExecuteTime": {
     "end_time": "2020-12-21T18:20:25.954385Z",
     "start_time": "2020-12-21T18:20:25.728960Z"
    }
   },
   "outputs": [],
   "source": [
    "from lightgbm import LGBMRegressor\n",
    "\n",
    "# Get the model and the predictions in (a) - (b)\n",
    "def LGBM(q, X_train, Y_train, X_valid, Y_valid, X_test):\n",
    "    \n",
    "    # (a) Modeling  \n",
    "    model = LGBMRegressor(objective='quantile', alpha=q,\n",
    "                         n_estimators=10000, bagging_fraction=0.75, learning_rate=0.027, subsample=0.75)                   \n",
    "                         \n",
    "                         \n",
    "    model.fit(X_train, Y_train, eval_metric = ['quantile'], \n",
    "          eval_set=[(X_valid, Y_valid)], early_stopping_rounds=300, verbose=500)\n",
    "\n",
    "    # (b) Predictions\n",
    "    pred = pd.Series(model.predict(X_test).round(2))\n",
    "    return pred, model"
   ]
  },
  {
   "cell_type": "code",
   "execution_count": null,
   "metadata": {
    "ExecuteTime": {
     "end_time": "2020-12-21T18:20:25.960330Z",
     "start_time": "2020-12-21T18:20:25.955343Z"
    }
   },
   "outputs": [],
   "source": [
    "# Target 예측\n",
    "\n",
    "def train_data(X_train, Y_train, X_valid, Y_valid, X_test):\n",
    "\n",
    "    LGBM_models=[]\n",
    "    LGBM_actual_pred = pd.DataFrame()\n",
    "\n",
    "    for q in quantiles:\n",
    "        print(q)\n",
    "        pred , model = LGBM(q, X_train, Y_train, X_valid, Y_valid, X_test)\n",
    "        LGBM_models.append(model)\n",
    "        LGBM_actual_pred = pd.concat([LGBM_actual_pred,pred],axis=1)\n",
    "\n",
    "    LGBM_actual_pred.columns=quantiles\n",
    "    \n",
    "    return LGBM_models, LGBM_actual_pred"
   ]
  },
  {
   "cell_type": "code",
   "execution_count": null,
   "metadata": {
    "ExecuteTime": {
     "end_time": "2020-12-21T18:22:30.230581Z",
     "start_time": "2020-12-21T18:20:25.961330Z"
    }
   },
   "outputs": [],
   "source": [
    "# Target1\n",
    "models_1, results_1 = train_data(X_train_1, Y_train_1, X_valid_1, Y_valid_1, X_test)\n",
    "results_1.sort_index()[:48]"
   ]
  },
  {
   "cell_type": "code",
   "execution_count": null,
   "metadata": {
    "ExecuteTime": {
     "end_time": "2020-12-21T18:23:47.968207Z",
     "start_time": "2020-12-21T18:22:30.235556Z"
    }
   },
   "outputs": [],
   "source": [
    "# Target2\n",
    "models_2, results_2 = train_data(X_train_2, Y_train_2, X_valid_2, Y_valid_2, X_test)\n",
    "results_2.sort_index()[:48]"
   ]
  },
  {
   "cell_type": "code",
   "execution_count": null,
   "metadata": {
    "ExecuteTime": {
     "end_time": "2020-12-21T18:23:48.019517Z",
     "start_time": "2020-12-21T18:23:47.970723Z"
    }
   },
   "outputs": [],
   "source": [
    "results_1.sort_index().iloc[:48]"
   ]
  },
  {
   "cell_type": "code",
   "execution_count": null,
   "metadata": {
    "ExecuteTime": {
     "end_time": "2020-12-21T18:23:48.057423Z",
     "start_time": "2020-12-21T18:23:48.024503Z"
    }
   },
   "outputs": [],
   "source": [
    "results_2.sort_index()"
   ]
  },
  {
   "cell_type": "code",
   "execution_count": null,
   "metadata": {
    "ExecuteTime": {
     "end_time": "2020-12-21T18:23:48.141199Z",
     "start_time": "2020-12-21T18:23:48.061412Z"
    }
   },
   "outputs": [],
   "source": [
    "submission.loc[submission.id.str.contains(\"Day7\"), \"q_0.1\":] = results_1.sort_index().values\n",
    "submission.loc[submission.id.str.contains(\"Day8\"), \"q_0.1\":] = results_2.sort_index().values\n",
    "submission"
   ]
  },
  {
   "cell_type": "code",
   "execution_count": null,
   "metadata": {
    "ExecuteTime": {
     "end_time": "2020-12-21T18:23:48.199045Z",
     "start_time": "2020-12-21T18:23:48.145188Z"
    }
   },
   "outputs": [],
   "source": [
    "submission.iloc[:48]"
   ]
  },
  {
   "cell_type": "code",
   "execution_count": null,
   "metadata": {
    "ExecuteTime": {
     "end_time": "2020-12-21T18:23:48.259886Z",
     "start_time": "2020-12-21T18:23:48.204032Z"
    }
   },
   "outputs": [],
   "source": [
    "submission.iloc[48:96]"
   ]
  },
  {
   "cell_type": "code",
   "execution_count": null,
   "metadata": {
    "ExecuteTime": {
     "end_time": "2020-12-21T18:23:48.384117Z",
     "start_time": "2020-12-21T18:23:48.266862Z"
    }
   },
   "outputs": [],
   "source": [
    "submission.to_csv('submission2.csv', index=False)"
   ]
  },
  {
   "cell_type": "code",
   "execution_count": null,
   "metadata": {},
   "outputs": [],
   "source": []
  }
 ],
 "metadata": {
  "hide_input": false,
  "kernelspec": {
   "display_name": "Python 3",
   "language": "python",
   "name": "python3"
  },
  "language_info": {
   "codemirror_mode": {
    "name": "ipython",
    "version": 3
   },
   "file_extension": ".py",
   "mimetype": "text/x-python",
   "name": "python",
   "nbconvert_exporter": "python",
   "pygments_lexer": "ipython3",
   "version": "3.7.6"
  }
 },
 "nbformat": 4,
 "nbformat_minor": 4
}
